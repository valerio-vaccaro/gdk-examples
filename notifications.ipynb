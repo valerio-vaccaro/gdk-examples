{
 "cells": [
  {
   "cell_type": "markdown",
   "id": "b45e9f48",
   "metadata": {},
   "source": [
    "# Bitcoin\n",
    "## Mainnet multisig"
   ]
  },
  {
   "cell_type": "code",
   "execution_count": 1,
   "id": "6c336754",
   "metadata": {},
   "outputs": [
    {
     "name": "stdout",
     "output_type": "stream",
     "text": [
      "{'event': 'network', 'network': {'current_state': 'connected', 'next_state': 'connected', 'wait_ms': 0}}\n",
      "{'event': 'settings', 'settings': {'altimeout': 5, 'csvtime': 51840, 'nlocktime': 12960, 'notifications': {'email_incoming': False, 'email_outgoing': False}, 'pricing': {'currency': 'USD', 'exchange': 'BITSTAMP'}, 'required_num_blocks': 12, 'sound': True, 'unit': 'BTC'}}\n",
      "{'event': 'twofactor_reset', 'twofactor_reset': {'days_remaining': -1, 'is_active': False, 'is_disputed': False}}\n",
      "{'block': {'block_hash': '000000000000000000027fb179c5b19deae6c26c128ccbfdd9b33597a06f49d7', 'block_height': 743178, 'initial_timestamp': 1644494724, 'previous_hash': '0000000000000000000573388bfb65eebf4a259d222427270876de8fe2b57b7f'}, 'event': 'block'}\n"
     ]
    }
   ],
   "source": [
    "import greenaddress\n",
    "try:\n",
    "    greenaddress.init({})\n",
    "except:\n",
    "    pass\n",
    "\n",
    "gdkMnemonic = 'order earth buddy render ocean produce bacon orchard congress law illness goat'\n",
    "if not greenaddress.validate_mnemonic(gdkMnemonic):\n",
    "    raise Exception(\"Invalid mnemonic.\")\n",
    "        \n",
    "s = greenaddress.Session({'name': 'mainnet', 'log_level': 'info'})\n",
    "\n",
    "s.login_user({}, {'mnemonic': gdkMnemonic}).resolve()\n",
    "q = s.notifications\n",
    "while not q.empty():\n",
    "    notification = q.get(block=True, timeout=1)\n",
    "    print(notification)"
   ]
  },
  {
   "cell_type": "markdown",
   "id": "40151d34",
   "metadata": {},
   "source": [
    "## Mainnet singlesig"
   ]
  },
  {
   "cell_type": "code",
   "execution_count": 2,
   "id": "e9466c81",
   "metadata": {},
   "outputs": [
    {
     "name": "stdout",
     "output_type": "stream",
     "text": [
      "{'event': 'network', 'network': {'current_state': 'connected', 'next_state': 'connected', 'wait_ms': 0}}\n",
      "{'event': 'settings', 'settings': {'altimeout': 5, 'pricing': {'currency': 'USD', 'exchange': 'BITFINEX'}, 'required_num_blocks': 12, 'sound': False, 'unit': 'BTC'}}\n",
      "{'block': {'block_hash': '00000000000000000008b91ecda5c4859d44b48c4f7de79ed9470132d7df9754', 'block_height': 742830, 'previous_hash': '000000000000000000029df95c0731432a7a5013fee1e77ea11182f1e38ac451'}, 'event': 'block'}\n"
     ]
    }
   ],
   "source": [
    "import greenaddress\n",
    "try:\n",
    "    greenaddress.init({})\n",
    "except:\n",
    "    pass\n",
    "\n",
    "gdkMnemonic = 'order earth buddy render ocean produce bacon orchard congress law illness goat'\n",
    "if not greenaddress.validate_mnemonic(gdkMnemonic):\n",
    "    raise Exception(\"Invalid mnemonic.\")\n",
    "        \n",
    "s = greenaddress.Session({'name': 'electrum-mainnet', 'log_level': 'info'})\n",
    "\n",
    "s.login_user({}, {'mnemonic': gdkMnemonic}).resolve()\n",
    "q = s.notifications\n",
    "while not q.empty():\n",
    "    notification = q.get(block=True, timeout=1)\n",
    "    print(notification)"
   ]
  },
  {
   "cell_type": "markdown",
   "id": "2d191f6a",
   "metadata": {},
   "source": [
    "## Testnet multisig"
   ]
  },
  {
   "cell_type": "code",
   "execution_count": 3,
   "id": "26ee4289",
   "metadata": {},
   "outputs": [
    {
     "name": "stdout",
     "output_type": "stream",
     "text": [
      "{'event': 'network', 'network': {'current_state': 'connected', 'next_state': 'connected', 'wait_ms': 0}}\n",
      "{'event': 'settings', 'settings': {'altimeout': 5, 'csvtime': 51840, 'nlocktime': 12960, 'notifications': {'email_incoming': False, 'email_outgoing': False}, 'pricing': {'currency': 'USD', 'exchange': 'BITSTAMP'}, 'required_num_blocks': 12, 'sound': True, 'unit': 'BTC'}}\n",
      "{'event': 'twofactor_reset', 'twofactor_reset': {'days_remaining': -1, 'is_active': False, 'is_disputed': False}}\n",
      "{'block': {'block_hash': '0000000000002fc1fa401ff6971c8ab57b77ed4712af54f1483bfff910e419e3', 'block_height': 2283577, 'initial_timestamp': 1644494780, 'previous_hash': '000000000000d1d84c54a8e04b01f99102cbd2e903e2ea85b7b28772ddc723d4'}, 'event': 'block'}\n"
     ]
    }
   ],
   "source": [
    "import greenaddress\n",
    "try:\n",
    "    greenaddress.init({})\n",
    "except:\n",
    "    pass\n",
    "\n",
    "gdkMnemonic = 'order earth buddy render ocean produce bacon orchard congress law illness goat'\n",
    "if not greenaddress.validate_mnemonic(gdkMnemonic):\n",
    "    raise Exception(\"Invalid mnemonic.\")\n",
    "\n",
    "s = greenaddress.Session({'name': 'testnet', 'log_level': 'info'})\n",
    "\n",
    "s.login_user({}, {'mnemonic': gdkMnemonic}).resolve()\n",
    "q = s.notifications\n",
    "while not q.empty():\n",
    "    notification = q.get(block=True, timeout=1)\n",
    "    print(notification)"
   ]
  },
  {
   "cell_type": "markdown",
   "id": "787841f7",
   "metadata": {},
   "source": [
    "## Testnet singlesig"
   ]
  },
  {
   "cell_type": "code",
   "execution_count": 4,
   "id": "005999df",
   "metadata": {},
   "outputs": [
    {
     "name": "stdout",
     "output_type": "stream",
     "text": [
      "{'event': 'network', 'network': {'current_state': 'connected', 'next_state': 'connected', 'wait_ms': 0}}\n",
      "{'event': 'settings', 'settings': {'altimeout': 5, 'pricing': {'currency': 'USD', 'exchange': 'BITFINEX'}, 'required_num_blocks': 12, 'sound': False, 'unit': 'BTC'}}\n",
      "{'block': {'block_hash': '0000000000000044e11e37ddb2e5e3c45012628b8344ba09b6228544b7cb8072', 'block_height': 2283248, 'previous_hash': '00000000000862014f9b8833d2d9ba822a9c927fb999e446ed41df8f89c87a5f'}, 'event': 'block'}\n"
     ]
    }
   ],
   "source": [
    "import greenaddress\n",
    "try:\n",
    "    greenaddress.init({})\n",
    "except:\n",
    "    pass\n",
    "\n",
    "gdkMnemonic = 'order earth buddy render ocean produce bacon orchard congress law illness goat'\n",
    "if not greenaddress.validate_mnemonic(gdkMnemonic):\n",
    "    raise Exception(\"Invalid mnemonic.\")\n",
    "\n",
    "s = greenaddress.Session({'name': 'electrum-testnet', 'log_level': 'info'})\n",
    "\n",
    "s.login_user({}, {'mnemonic': gdkMnemonic}).resolve()\n",
    "q = s.notifications\n",
    "while not q.empty():\n",
    "    notification = q.get(block=True, timeout=1)\n",
    "    print(notification)"
   ]
  },
  {
   "cell_type": "markdown",
   "id": "1fbd33ce",
   "metadata": {},
   "source": [
    "# Liquid\n",
    "## Mainnet multisig"
   ]
  },
  {
   "cell_type": "code",
   "execution_count": 5,
   "id": "08e7e172",
   "metadata": {},
   "outputs": [
    {
     "name": "stdout",
     "output_type": "stream",
     "text": [
      "{'event': 'network', 'network': {'current_state': 'connected', 'next_state': 'connected', 'wait_ms': 0}}\n",
      "{'event': 'settings', 'settings': {'altimeout': 5, 'csvtime': 65535, 'nlocktime': 12960, 'notifications': {'email_incoming': False, 'email_outgoing': False}, 'pricing': {'currency': 'USD', 'exchange': 'BITSTAMP'}, 'required_num_blocks': 12, 'sound': True, 'unit': 'BTC'}}\n",
      "{'event': 'twofactor_reset', 'twofactor_reset': {'days_remaining': -1, 'is_active': False, 'is_disputed': False}}\n",
      "{'block': {'block_hash': 'b83a48bbea5d107b03691171720e9e731f421fa2e5f230bcd4460186670fcb91', 'block_height': 1901427, 'initial_timestamp': 1644494791, 'previous_hash': 'cc72acd982dcd96a48a56a9d89e17a6f255b8a5488cbd25daa26fa9d90733193'}, 'event': 'block'}\n"
     ]
    }
   ],
   "source": [
    "import greenaddress\n",
    "try:\n",
    "    greenaddress.init({})\n",
    "except:\n",
    "    pass\n",
    "\n",
    "gdkMnemonic = 'order earth buddy render ocean produce bacon orchard congress law illness goat'\n",
    "if not greenaddress.validate_mnemonic(gdkMnemonic):\n",
    "    raise Exception(\"Invalid mnemonic.\")\n",
    "\n",
    "s = greenaddress.Session({'name': 'liquid', 'log_level': 'info'})\n",
    "\n",
    "s.login_user({}, {'mnemonic': gdkMnemonic}).resolve()\n",
    "q = s.notifications\n",
    "while not q.empty():\n",
    "    notification = q.get(block=True, timeout=1)\n",
    "    print(notification)"
   ]
  },
  {
   "cell_type": "markdown",
   "id": "5fb45d3d",
   "metadata": {},
   "source": [
    "## Mainnet singlesig"
   ]
  },
  {
   "cell_type": "code",
   "execution_count": 6,
   "id": "ebcff1f8",
   "metadata": {},
   "outputs": [
    {
     "name": "stdout",
     "output_type": "stream",
     "text": [
      "{'event': 'network', 'network': {'current_state': 'connected', 'next_state': 'connected', 'wait_ms': 0}}\n",
      "{'event': 'settings', 'settings': {'altimeout': 5, 'pricing': {'currency': 'USD', 'exchange': 'BITFINEX'}, 'required_num_blocks': 12, 'sound': False, 'unit': 'BTC'}}\n",
      "{'block': {'block_hash': 'fd6144790fe3cb30b2afe8e7b95d838412c6c7abca6233fc15ceb48598c6f223', 'block_height': 1897514, 'previous_hash': '93885b05d65158b49b7f0c9a3153be9a59b712055f280d1757127082c540c230'}, 'event': 'block'}\n"
     ]
    }
   ],
   "source": [
    "import greenaddress\n",
    "try:\n",
    "    greenaddress.init({})\n",
    "except:\n",
    "    pass\n",
    "\n",
    "gdkMnemonic = 'order earth buddy render ocean produce bacon orchard congress law illness goat'\n",
    "if not greenaddress.validate_mnemonic(gdkMnemonic):\n",
    "    raise Exception(\"Invalid mnemonic.\")\n",
    "\n",
    "s = greenaddress.Session({'name': 'electrum-liquid', 'log_level': 'info'})\n",
    "\n",
    "s.login_user({}, {'mnemonic': gdkMnemonic}).resolve()\n",
    "q = s.notifications\n",
    "while not q.empty():\n",
    "    notification = q.get(block=True, timeout=1)\n",
    "    print(notification)"
   ]
  },
  {
   "cell_type": "markdown",
   "id": "027b2848",
   "metadata": {},
   "source": [
    "## Testnet multisig"
   ]
  },
  {
   "cell_type": "code",
   "execution_count": 7,
   "id": "6dc1fc2e",
   "metadata": {},
   "outputs": [
    {
     "name": "stdout",
     "output_type": "stream",
     "text": [
      "{'event': 'network', 'network': {'current_state': 'connected', 'next_state': 'connected', 'wait_ms': 0}}\n",
      "{'event': 'settings', 'settings': {'altimeout': 5, 'csvtime': 65535, 'nlocktime': 12960, 'notifications': {'email_incoming': False, 'email_outgoing': False}, 'pricing': {'currency': 'USD', 'exchange': 'BITSTAMP'}, 'required_num_blocks': 12, 'sound': True, 'unit': 'BTC'}}\n",
      "{'event': 'twofactor_reset', 'twofactor_reset': {'days_remaining': -1, 'is_active': False, 'is_disputed': False}}\n",
      "{'block': {'block_hash': '986a2980468b04a497c9524f3006dd3c5043e7ac54343f44171e51f495ea0294', 'block_height': 411245, 'initial_timestamp': 1644495491, 'previous_hash': '9e7caf5c060f57b40c0985f2ac9824e517c69d7230d7ffa61aa67efeba412418'}, 'event': 'block'}\n"
     ]
    }
   ],
   "source": [
    "import greenaddress\n",
    "try:\n",
    "    greenaddress.init({})\n",
    "except:\n",
    "    pass\n",
    "\n",
    "gdkMnemonic = 'order earth buddy render ocean produce bacon orchard congress law illness goat'\n",
    "if not greenaddress.validate_mnemonic(gdkMnemonic):\n",
    "    raise Exception(\"Invalid mnemonic.\")\n",
    "\n",
    "s = greenaddress.Session({'name': 'testnet-liquid', 'log_level': 'info'})\n",
    "\n",
    "s.login_user({}, {'mnemonic': gdkMnemonic}).resolve()\n",
    "q = s.notifications\n",
    "while not q.empty():\n",
    "    notification = q.get(block=True, timeout=1)\n",
    "    print(notification)"
   ]
  },
  {
   "cell_type": "markdown",
   "id": "2b3f2b55",
   "metadata": {},
   "source": [
    "## Testnet singlesig"
   ]
  },
  {
   "cell_type": "code",
   "execution_count": 8,
   "id": "f9fc1ecc",
   "metadata": {},
   "outputs": [
    {
     "name": "stdout",
     "output_type": "stream",
     "text": [
      "{'event': 'network', 'network': {'current_state': 'connected', 'next_state': 'connected', 'wait_ms': 0}}\n",
      "{'event': 'settings', 'settings': {'altimeout': 5, 'pricing': {'currency': 'USD', 'exchange': 'BITFINEX'}, 'required_num_blocks': 12, 'sound': False, 'unit': 'BTC'}}\n",
      "{'block': {'block_hash': 'e5b62d98160e8f80cf8095b4642af0c5bbaa41c4ecf26f264fea2acff7971001', 'block_height': 408019, 'previous_hash': '7b5e2c154abbf6ceaaab8a73a4e29f0780488c0b20e46f67e8518d43d6581119'}, 'event': 'block'}\n"
     ]
    }
   ],
   "source": [
    "import greenaddress\n",
    "try:\n",
    "    greenaddress.init({})\n",
    "except:\n",
    "    pass\n",
    "\n",
    "gdkMnemonic = 'order earth buddy render ocean produce bacon orchard congress law illness goat'\n",
    "if not greenaddress.validate_mnemonic(gdkMnemonic):\n",
    "    raise Exception(\"Invalid mnemonic.\")\n",
    "\n",
    "s = greenaddress.Session({'name': 'electrum-testnet-liquid', 'log_level': 'info'})\n",
    "\n",
    "s.login_user({}, {'mnemonic': gdkMnemonic}).resolve()\n",
    "q = s.notifications\n",
    "while not q.empty():\n",
    "    notification = q.get(block=True, timeout=1)\n",
    "    print(notification)"
   ]
  }
 ],
 "metadata": {
  "interpreter": {
   "hash": "f9f85f796d01129d0dd105a088854619f454435301f6ffec2fea96ecbd9be4ac"
  },
  "kernelspec": {
   "display_name": "Python 3.9.12 64-bit",
   "language": "python",
   "name": "python3"
  },
  "language_info": {
   "codemirror_mode": {
    "name": "ipython",
    "version": 3
   },
   "file_extension": ".py",
   "mimetype": "text/x-python",
   "name": "python",
   "nbconvert_exporter": "python",
   "pygments_lexer": "ipython3",
   "version": "3.9.13"
  }
 },
 "nbformat": 4,
 "nbformat_minor": 5
}
