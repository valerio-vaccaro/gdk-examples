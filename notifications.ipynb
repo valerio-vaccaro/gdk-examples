{
 "cells": [
  {
   "cell_type": "markdown",
   "id": "b45e9f48",
   "metadata": {},
   "source": [
    "# Bitcoin\n",
    "## Mainnet multisig"
   ]
  },
  {
   "cell_type": "code",
   "execution_count": 1,
   "id": "6c336754",
   "metadata": {},
   "outputs": [
    {
     "data": {
      "text/plain": [
       "{'wallet_hash_id': '67ef6986bb6e037a685d4a53073e8fe20ab5eeee5fef5c3b1850698a455a5e40'}"
      ]
     },
     "execution_count": 1,
     "metadata": {},
     "output_type": "execute_result"
    }
   ],
   "source": [
    "import greenaddress\n",
    "try:\n",
    "    greenaddress.init({})\n",
    "except:\n",
    "    pass\n",
    "\n",
    "gdkMnemonic = 'order earth buddy render ocean produce bacon orchard congress law illness goat'\n",
    "if not greenaddress.validate_mnemonic(gdkMnemonic):\n",
    "    raise Exception(\"Invalid mnemonic.\")\n",
    "        \n",
    "s = greenaddress.Session({'name': 'mainnet', 'log_level': 'info'})\n",
    "\n",
    "s.login_user({}, {'mnemonic': gdkMnemonic}).resolve()\n",
    "q = s.notifications\n",
    "while not q.empty():\n",
    "    notification = q.get(block=True, timeout=1)\n",
    "    print(notification)"
   ]
  },
  {
   "cell_type": "markdown",
   "id": "40151d34",
   "metadata": {},
   "source": [
    "## Mainnet singlesig"
   ]
  },
  {
   "cell_type": "code",
   "execution_count": 2,
   "id": "e9466c81",
   "metadata": {},
   "outputs": [
    {
     "data": {
      "text/plain": [
       "{'wallet_hash_id': 'd349f9eca2d0fe81706473dbc72b78b80a98e1a34126b8fd16e60c9080168418'}"
      ]
     },
     "execution_count": 2,
     "metadata": {},
     "output_type": "execute_result"
    }
   ],
   "source": [
    "import greenaddress\n",
    "try:\n",
    "    greenaddress.init({})\n",
    "except:\n",
    "    pass\n",
    "\n",
    "gdkMnemonic = 'order earth buddy render ocean produce bacon orchard congress law illness goat'\n",
    "if not greenaddress.validate_mnemonic(gdkMnemonic):\n",
    "    raise Exception(\"Invalid mnemonic.\")\n",
    "        \n",
    "s = greenaddress.Session({'name': 'electrum-mainnet', 'log_level': 'info'})\n",
    "\n",
    "s.register_user({}, gdkMnemonic).resolve()"
   ]
  },
  {
   "cell_type": "markdown",
   "id": "2d191f6a",
   "metadata": {},
   "source": [
    "## Testnet multisig"
   ]
  },
  {
   "cell_type": "code",
   "execution_count": 2,
   "id": "26ee4289",
   "metadata": {},
   "outputs": [
    {
     "data": {
      "text/plain": [
       "{'wallet_hash_id': 'c167c8098d3eea764734df3273b668cab318f295fbd196a318ebb9f7e6456796'}"
      ]
     },
     "execution_count": 2,
     "metadata": {},
     "output_type": "execute_result"
    }
   ],
   "source": [
    "import greenaddress\n",
    "try:\n",
    "    greenaddress.init({})\n",
    "except:\n",
    "    pass\n",
    "\n",
    "gdkMnemonic = 'order earth buddy render ocean produce bacon orchard congress law illness goat'\n",
    "if not greenaddress.validate_mnemonic(gdkMnemonic):\n",
    "    raise Exception(\"Invalid mnemonic.\")\n",
    "\n",
    "s = greenaddress.Session({'name': 'testnet', 'log_level': 'info'})\n",
    "\n",
    "s.register_user({}, gdkMnemonic).resolve()"
   ]
  },
  {
   "cell_type": "markdown",
   "id": "787841f7",
   "metadata": {},
   "source": [
    "## Testnet singlesig"
   ]
  },
  {
   "cell_type": "code",
   "execution_count": 9,
   "id": "005999df",
   "metadata": {},
   "outputs": [
    {
     "data": {
      "text/plain": [
       "{'wallet_hash_id': '1890bad3b9610789daaae8db2d71a0900fe105c35c0cc3d417d795c9baa47650'}"
      ]
     },
     "execution_count": 9,
     "metadata": {},
     "output_type": "execute_result"
    }
   ],
   "source": [
    "import greenaddress\n",
    "try:\n",
    "    greenaddress.init({})\n",
    "except:\n",
    "    pass\n",
    "\n",
    "gdkMnemonic = 'order earth buddy render ocean produce bacon orchard congress law illness goat'\n",
    "if not greenaddress.validate_mnemonic(gdkMnemonic):\n",
    "    raise Exception(\"Invalid mnemonic.\")\n",
    "\n",
    "s = greenaddress.Session({'name': 'electrum-testnet', 'log_level': 'info'})\n",
    "\n",
    "s.register_user({}, gdkMnemonic).resolve()"
   ]
  },
  {
   "cell_type": "markdown",
   "id": "1fbd33ce",
   "metadata": {},
   "source": [
    "# Liquid\n",
    "## Mainnet multisig"
   ]
  },
  {
   "cell_type": "code",
   "execution_count": 3,
   "id": "08e7e172",
   "metadata": {},
   "outputs": [
    {
     "data": {
      "text/plain": [
       "{'wallet_hash_id': '3b3e46d6b2fc6e1a7e8035f44347766bc8645ca92258ea8a0135e456af4b3287'}"
      ]
     },
     "execution_count": 3,
     "metadata": {},
     "output_type": "execute_result"
    }
   ],
   "source": [
    "import greenaddress\n",
    "try:\n",
    "    greenaddress.init({})\n",
    "except:\n",
    "    pass\n",
    "\n",
    "gdkMnemonic = 'order earth buddy render ocean produce bacon orchard congress law illness goat'\n",
    "if not greenaddress.validate_mnemonic(gdkMnemonic):\n",
    "    raise Exception(\"Invalid mnemonic.\")\n",
    "\n",
    "s = greenaddress.Session({'name': 'liquid', 'log_level': 'info'})\n",
    "\n",
    "s.register_user({}, gdkMnemonic).resolve()"
   ]
  },
  {
   "cell_type": "markdown",
   "id": "5fb45d3d",
   "metadata": {},
   "source": [
    "## Mainnet singlesig"
   ]
  },
  {
   "cell_type": "code",
   "execution_count": 7,
   "id": "ebcff1f8",
   "metadata": {},
   "outputs": [
    {
     "data": {
      "text/plain": [
       "{'wallet_hash_id': 'eb2698ad26fab5d8771521a8ed2daf4cdcd20874b69e3acb9bcccee438243d1a'}"
      ]
     },
     "execution_count": 7,
     "metadata": {},
     "output_type": "execute_result"
    }
   ],
   "source": [
    "import greenaddress\n",
    "try:\n",
    "    greenaddress.init({})\n",
    "except:\n",
    "    pass\n",
    "\n",
    "gdkMnemonic = 'order earth buddy render ocean produce bacon orchard congress law illness goat'\n",
    "if not greenaddress.validate_mnemonic(gdkMnemonic):\n",
    "    raise Exception(\"Invalid mnemonic.\")\n",
    "\n",
    "s = greenaddress.Session({'name': 'electrum-liquid', 'log_level': 'info'})\n",
    "\n",
    "s.register_user({}, gdkMnemonic).resolve()"
   ]
  },
  {
   "cell_type": "markdown",
   "id": "027b2848",
   "metadata": {},
   "source": [
    "## Testnet multisig"
   ]
  },
  {
   "cell_type": "code",
   "execution_count": 4,
   "id": "6dc1fc2e",
   "metadata": {},
   "outputs": [
    {
     "data": {
      "text/plain": [
       "{'wallet_hash_id': 'dbd83792f5d08ab1fed7367f4e1e481e3b2f803627526315978b14ab6292e3df'}"
      ]
     },
     "execution_count": 4,
     "metadata": {},
     "output_type": "execute_result"
    }
   ],
   "source": [
    "import greenaddress\n",
    "try:\n",
    "    greenaddress.init({})\n",
    "except:\n",
    "    pass\n",
    "\n",
    "gdkMnemonic = 'order earth buddy render ocean produce bacon orchard congress law illness goat'\n",
    "if not greenaddress.validate_mnemonic(gdkMnemonic):\n",
    "    raise Exception(\"Invalid mnemonic.\")\n",
    "\n",
    "s = greenaddress.Session({'name': 'testnet-liquid', 'log_level': 'info'})\n",
    "\n",
    "s.register_user({}, gdkMnemonic).resolve()"
   ]
  },
  {
   "cell_type": "markdown",
   "id": "2b3f2b55",
   "metadata": {},
   "source": [
    "## Testnet singlesig"
   ]
  },
  {
   "cell_type": "code",
   "execution_count": 8,
   "id": "f9fc1ecc",
   "metadata": {},
   "outputs": [
    {
     "data": {
      "text/plain": [
       "{'wallet_hash_id': '6dcf4534f538825e56362c82acfd7ce7cd794c7b941e11c6efc44744708d748d'}"
      ]
     },
     "execution_count": 8,
     "metadata": {},
     "output_type": "execute_result"
    }
   ],
   "source": [
    "import greenaddress\n",
    "try:\n",
    "    greenaddress.init({})\n",
    "except:\n",
    "    pass\n",
    "\n",
    "gdkMnemonic = 'order earth buddy render ocean produce bacon orchard congress law illness goat'\n",
    "if not greenaddress.validate_mnemonic(gdkMnemonic):\n",
    "    raise Exception(\"Invalid mnemonic.\")\n",
    "\n",
    "s = greenaddress.Session({'name': 'electrum-testnet-liquid', 'log_level': 'info'})\n",
    "\n",
    "s.register_user({}, gdkMnemonic).resolve()"
   ]
  }
 ],
 "metadata": {
  "interpreter": {
   "hash": "f9f85f796d01129d0dd105a088854619f454435301f6ffec2fea96ecbd9be4ac"
  },
  "kernelspec": {
   "display_name": "Python 3.9.12 64-bit",
   "language": "python",
   "name": "python3"
  },
  "language_info": {
   "codemirror_mode": {
    "name": "ipython",
    "version": 3
   },
   "file_extension": ".py",
   "mimetype": "text/x-python",
   "name": "python",
   "nbconvert_exporter": "python",
   "pygments_lexer": "ipython3",
   "version": "3.9.13"
  }
 },
 "nbformat": 4,
 "nbformat_minor": 5
}
