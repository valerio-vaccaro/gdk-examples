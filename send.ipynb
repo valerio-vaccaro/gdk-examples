{
 "cells": [
  {
   "cell_type": "code",
   "execution_count": null,
   "id": "38b11477",
   "metadata": {},
   "outputs": [],
   "source": [
    "tx = {\n",
    "    'subaccount': subaccount,\n",
    "    'addressees': [{'satoshi': amount, 'address': address, 'asset_id': assetid}],\n",
    "}\n",
    "\n",
    "utxo_details = {'subaccount': subaccount, 'num_confs': 0}\n",
    "utxos = s.get_unspent_outputs(json.dumps(utxo_details)).resolve()\n",
    "tx['utxos'] = utxos['unspent_outputs']\n",
    "txc = s.create_transaction(json.dumps(tx)).resolve()\n",
    "\n",
    "txg = s.sign_transaction(txc).resolve()\n",
    "txs = s.send_transaction(txg).resolve()\n",
    "print('Transaction sent!')\n",
    "print('txhash: {}'.format(txs[\"txhash\"]))"
   ]
  }
 ],
 "metadata": {
  "kernelspec": {
   "display_name": "Python 3 (ipykernel)",
   "language": "python",
   "name": "python3"
  },
  "language_info": {
   "codemirror_mode": {
    "name": "ipython",
    "version": 3
   },
   "file_extension": ".py",
   "mimetype": "text/x-python",
   "name": "python",
   "nbconvert_exporter": "python",
   "pygments_lexer": "ipython3",
   "version": "3.7.9"
  }
 },
 "nbformat": 4,
 "nbformat_minor": 5
}
