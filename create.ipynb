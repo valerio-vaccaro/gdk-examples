{
 "cells": [
  {
   "cell_type": "markdown",
   "id": "b45e9f48",
   "metadata": {},
   "source": [
    "# Bitcoin\n",
    "## Mainnet"
   ]
  },
  {
   "cell_type": "code",
   "execution_count": 4,
   "id": "6c336754",
   "metadata": {},
   "outputs": [
    {
     "name": "stdout",
     "output_type": "stream",
     "text": [
      "[2022-02-10 13:19:44.083294] [0x00007f39428e8740] [error]   assertion failure: ../src/session.cpp:init:44:\n",
      "[2022-02-10 13:19:44.087690] [0x00007f39428e8740] [info]    Connecting using version 0d24d00c to wss://prodwss.greenaddress.it/v2/ws\n"
     ]
    },
    {
     "data": {
      "text/plain": [
       "{'wallet_hash_id': '67ef6986bb6e037a685d4a53073e8fe20ab5eeee5fef5c3b1850698a455a5e40'}"
      ]
     },
     "execution_count": 4,
     "metadata": {},
     "output_type": "execute_result"
    }
   ],
   "source": [
    "import greenaddress\n",
    "try:\n",
    "    greenaddress.init({})\n",
    "except:\n",
    "    pass\n",
    "\n",
    "gdkMnemonic = 'order earth buddy render ocean produce bacon orchard congress law illness goat'\n",
    "if not greenaddress.validate_mnemonic(gdkMnemonic):\n",
    "    raise Exception(\"Invalid mnemonic.\")\n",
    "        \n",
    "s = greenaddress.Session({'name': 'mainnet', 'log_level': 'info'})\n",
    "\n",
    "s.register_user({}, gdkMnemonic).resolve()"
   ]
  },
  {
   "cell_type": "markdown",
   "id": "2d191f6a",
   "metadata": {},
   "source": [
    "## Testnet"
   ]
  },
  {
   "cell_type": "code",
   "execution_count": 5,
   "id": "26ee4289",
   "metadata": {},
   "outputs": [
    {
     "name": "stdout",
     "output_type": "stream",
     "text": [
      "[2022-02-10 13:16:27.329085] [0x00007f6800335740] [info]    Connecting using version 0d24d00c to wss://testwss.greenaddress.it/v2/ws\n"
     ]
    },
    {
     "data": {
      "text/plain": [
       "{'wallet_hash_id': 'c167c8098d3eea764734df3273b668cab318f295fbd196a318ebb9f7e6456796'}"
      ]
     },
     "execution_count": 5,
     "metadata": {},
     "output_type": "execute_result"
    }
   ],
   "source": [
    "import greenaddress\n",
    "try:\n",
    "    greenaddress.init({})\n",
    "except:\n",
    "    pass\n",
    "\n",
    "gdkMnemonic = 'order earth buddy render ocean produce bacon orchard congress law illness goat'\n",
    "if not greenaddress.validate_mnemonic(gdkMnemonic):\n",
    "    raise Exception(\"Invalid mnemonic.\")\n",
    "\n",
    "s = greenaddress.Session({'name': 'testnet', 'log_level': 'info'})\n",
    "\n",
    "s.register_user({}, gdkMnemonic).resolve()"
   ]
  },
  {
   "cell_type": "markdown",
   "id": "1fbd33ce",
   "metadata": {},
   "source": [
    "# Liquid\n",
    "## Mainnet"
   ]
  },
  {
   "cell_type": "code",
   "execution_count": 1,
   "id": "08e7e172",
   "metadata": {},
   "outputs": [
    {
     "name": "stdout",
     "output_type": "stream",
     "text": [
      "[2022-02-10 13:17:20.376248] [0x00007f39428e8740] [info]    Connecting using version 0d24d00c to wss://liquidwss.greenaddress.it/v2/ws\n"
     ]
    },
    {
     "data": {
      "text/plain": [
       "{'wallet_hash_id': '3b3e46d6b2fc6e1a7e8035f44347766bc8645ca92258ea8a0135e456af4b3287'}"
      ]
     },
     "execution_count": 1,
     "metadata": {},
     "output_type": "execute_result"
    }
   ],
   "source": [
    "import greenaddress\n",
    "try:\n",
    "    greenaddress.init({})\n",
    "except:\n",
    "    pass\n",
    "\n",
    "gdkMnemonic = 'order earth buddy render ocean produce bacon orchard congress law illness goat'\n",
    "if not greenaddress.validate_mnemonic(gdkMnemonic):\n",
    "    raise Exception(\"Invalid mnemonic.\")\n",
    "\n",
    "s = greenaddress.Session({'name': 'liquid', 'log_level': 'info'})\n",
    "\n",
    "s.register_user({}, gdkMnemonic).resolve()"
   ]
  },
  {
   "cell_type": "markdown",
   "id": "027b2848",
   "metadata": {},
   "source": [
    "## Testnet"
   ]
  },
  {
   "cell_type": "code",
   "execution_count": 3,
   "id": "6dc1fc2e",
   "metadata": {},
   "outputs": [
    {
     "name": "stdout",
     "output_type": "stream",
     "text": [
      "[2022-02-10 13:18:11.414623] [0x00007f39428e8740] [error]   assertion failure: ../src/session.cpp:init:44:\n",
      "[2022-02-10 13:18:11.418665] [0x00007f39428e8740] [info]    Connecting using version 0d24d00c to wss://green-liquid-testnet.blockstream.com/v2/ws\n"
     ]
    },
    {
     "data": {
      "text/plain": [
       "{'wallet_hash_id': 'dbd83792f5d08ab1fed7367f4e1e481e3b2f803627526315978b14ab6292e3df'}"
      ]
     },
     "execution_count": 3,
     "metadata": {},
     "output_type": "execute_result"
    }
   ],
   "source": [
    "import greenaddress\n",
    "try:\n",
    "    greenaddress.init({})\n",
    "except:\n",
    "    pass\n",
    "\n",
    "gdkMnemonic = 'order earth buddy render ocean produce bacon orchard congress law illness goat'\n",
    "if not greenaddress.validate_mnemonic(gdkMnemonic):\n",
    "    raise Exception(\"Invalid mnemonic.\")\n",
    "\n",
    "s = greenaddress.Session({'name': 'testnet-liquid', 'log_level': 'info'})\n",
    "\n",
    "s.register_user({}, gdkMnemonic).resolve()"
   ]
  },
  {
   "cell_type": "code",
   "execution_count": null,
   "id": "f9fc1ecc",
   "metadata": {},
   "outputs": [],
   "source": []
  }
 ],
 "metadata": {
  "kernelspec": {
   "display_name": "Python 3 (ipykernel)",
   "language": "python",
   "name": "python3"
  },
  "language_info": {
   "codemirror_mode": {
    "name": "ipython",
    "version": 3
   },
   "file_extension": ".py",
   "mimetype": "text/x-python",
   "name": "python",
   "nbconvert_exporter": "python",
   "pygments_lexer": "ipython3",
   "version": "3.7.12"
  }
 },
 "nbformat": 4,
 "nbformat_minor": 5
}
