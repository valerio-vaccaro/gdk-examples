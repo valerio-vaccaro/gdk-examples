{
 "cells": [
  {
   "cell_type": "markdown",
   "id": "29958af0",
   "metadata": {},
   "source": [
    "# Bitcoin\n",
    "## Mainnet"
   ]
  },
  {
   "cell_type": "code",
   "execution_count": 6,
   "id": "36c14d88",
   "metadata": {},
   "outputs": [
    {
     "name": "stdout",
     "output_type": "stream",
     "text": [
      "[2022-02-10 13:22:53.096366] [0x00007f39428e8740] [error]   assertion failure: ../src/session.cpp:init:44:\n",
      "[2022-02-10 13:22:53.098539] [0x00007f39428e8740] [info]    Connecting using version 0d24d00c to wss://prodwss.greenaddress.it/v2/ws\n",
      "[2022-02-10 13:22:53.458435] [0x00007f39428e8740] [info]    /root/.blockstream/gdk/15b1519d0f83d03ed889eacc38ac2cd75.sqliteaesgcm loaded correctly\n",
      "[2022-02-10 13:22:53.517020] [0x00007f39428e8740] [info]    Load blob ver 1 over 0\n"
     ]
    },
    {
     "data": {
      "text/plain": [
       "{'address': '3KHbtg26MW2K2Dp5YSpBVZr5so1hP3bAzX',\n",
       " 'address_type': 'csv',\n",
       " 'branch': 1,\n",
       " 'pointer': 1,\n",
       " 'script': '21036742226fb99b70c6d0d8cf30909ad4bd7078d7e2f19ffb085045fb6384cd62edad2103db357e12f691df64226446ff0aed60c5ca3f30699f190d928f0adc077cfa4d1fac73640380ca00b268',\n",
       " 'script_type': 15,\n",
       " 'subaccount': 0,\n",
       " 'subtype': 51840}"
      ]
     },
     "execution_count": 6,
     "metadata": {},
     "output_type": "execute_result"
    }
   ],
   "source": [
    "import greenaddress\n",
    "try:\n",
    "    greenaddress.init({})\n",
    "except:\n",
    "    pass\n",
    "\n",
    "gdkMnemonic = 'order earth buddy render ocean produce bacon orchard congress law illness goat'\n",
    "if not greenaddress.validate_mnemonic(gdkMnemonic):\n",
    "    raise Exception(\"Invalid mnemonic.\")\n",
    "        \n",
    "s = greenaddress.Session({'name': 'mainnet', 'log_level': 'info'})\n",
    "\n",
    "s.login_user({}, {'mnemonic': gdkMnemonic}).resolve()\n",
    "s.get_receive_address().resolve()"
   ]
  },
  {
   "cell_type": "markdown",
   "id": "692581a2",
   "metadata": {},
   "source": [
    "## Testnet"
   ]
  },
  {
   "cell_type": "code",
   "execution_count": 7,
   "id": "edf9a00c",
   "metadata": {},
   "outputs": [
    {
     "name": "stdout",
     "output_type": "stream",
     "text": [
      "[2022-02-10 13:23:15.257014] [0x00007f39428e8740] [error]   assertion failure: ../src/session.cpp:init:44:\n",
      "[2022-02-10 13:23:15.263224] [0x00007f39428e8740] [info]    Connecting using version 0d24d00c to wss://testwss.greenaddress.it/v2/ws\n",
      "[2022-02-10 13:23:16.535652] [0x00007f39428e8740] [info]    Load db, no file or bad file /root/.blockstream/gdk/1b197463da20b33602bec376c5c5dd8c7.sqliteaesgcm\n"
     ]
    },
    {
     "data": {
      "text/plain": [
       "{'address': '2NDyYxjGSWunueUPMaXnWzZxz7ve9eXYLK5',\n",
       " 'address_type': 'csv',\n",
       " 'branch': 1,\n",
       " 'pointer': 1,\n",
       " 'script': '21036742226fb99b70c6d0d8cf30909ad4bd7078d7e2f19ffb085045fb6384cd62edad2102c5cbeb1e3b2843e8171fcaa80675f8230567e4a6d2b8d7a35155e46b96ead837ac73640380ca00b268',\n",
       " 'script_type': 15,\n",
       " 'subaccount': 0,\n",
       " 'subtype': 51840}"
      ]
     },
     "execution_count": 7,
     "metadata": {},
     "output_type": "execute_result"
    }
   ],
   "source": [
    "import greenaddress\n",
    "try:\n",
    "    greenaddress.init({})\n",
    "except:\n",
    "    pass\n",
    "\n",
    "gdkMnemonic = 'order earth buddy render ocean produce bacon orchard congress law illness goat'\n",
    "if not greenaddress.validate_mnemonic(gdkMnemonic):\n",
    "    raise Exception(\"Invalid mnemonic.\")\n",
    "\n",
    "s = greenaddress.Session({'name': 'testnet', 'log_level': 'info'})\n",
    "\n",
    "s.login_user({}, {'mnemonic': gdkMnemonic}).resolve()\n",
    "s.get_receive_address().resolve()"
   ]
  },
  {
   "cell_type": "markdown",
   "id": "7c0f3933",
   "metadata": {},
   "source": [
    "# Liquid\n",
    "## Mainnet"
   ]
  },
  {
   "cell_type": "code",
   "execution_count": 8,
   "id": "f98a302a",
   "metadata": {},
   "outputs": [
    {
     "name": "stdout",
     "output_type": "stream",
     "text": [
      "[2022-02-10 13:23:35.085662] [0x00007f39428e8740] [error]   assertion failure: ../src/session.cpp:init:44:\n",
      "[2022-02-10 13:23:35.089300] [0x00007f39428e8740] [info]    Connecting using version 0d24d00c to wss://liquidwss.greenaddress.it/v2/ws\n",
      "[2022-02-10 13:23:35.444007] [0x00007f39428e8740] [info]    Load db, no file or bad file /root/.blockstream/gdk/1130af3368afffe57f9d20223d84d5e3b.sqliteaesgcm\n"
     ]
    },
    {
     "data": {
      "text/plain": [
       "{'address': 'VJL7N8CXJnF5f3NRXYWf79aVBLSYt68fDQQs7c3EAaUPaDYxzt49Grdaxp2vJ3a6HPjJSp2Hiakwaj6v',\n",
       " 'address_type': 'csv',\n",
       " 'blinding_key': '02430f2853ab9c5735f5490a19f3ff9f52cbc6f7dc94daad108e4d76960b13ff1d',\n",
       " 'blinding_script': 'a9141a83afc138226240c1c736caf642bbc0312408cf87',\n",
       " 'branch': 1,\n",
       " 'is_blinded': True,\n",
       " 'pointer': 1,\n",
       " 'script': '748c63210306874b81518e71d97684676f93bd54adc8636e80aa318d6af103e9cb05913d08ad6703ffff00b2756821036742226fb99b70c6d0d8cf30909ad4bd7078d7e2f19ffb085045fb6384cd62edac',\n",
       " 'script_type': 15,\n",
       " 'subaccount': 0,\n",
       " 'subtype': 65535,\n",
       " 'unblinded_address': 'GjbiixuPC4PEZp5FwzEX5GcThDGsKsGaT8'}"
      ]
     },
     "execution_count": 8,
     "metadata": {},
     "output_type": "execute_result"
    }
   ],
   "source": [
    "import greenaddress\n",
    "try:\n",
    "    greenaddress.init({})\n",
    "except:\n",
    "    pass\n",
    "\n",
    "gdkMnemonic = 'order earth buddy render ocean produce bacon orchard congress law illness goat'\n",
    "if not greenaddress.validate_mnemonic(gdkMnemonic):\n",
    "    raise Exception(\"Invalid mnemonic.\")\n",
    "\n",
    "s = greenaddress.Session({'name': 'liquid', 'log_level': 'info'})\n",
    "\n",
    "s.login_user({}, {'mnemonic': gdkMnemonic}).resolve()\n",
    "s.get_receive_address().resolve()"
   ]
  },
  {
   "cell_type": "markdown",
   "id": "fefcccbd",
   "metadata": {},
   "source": [
    "## Testnet"
   ]
  },
  {
   "cell_type": "code",
   "execution_count": 9,
   "id": "79fb396c",
   "metadata": {},
   "outputs": [
    {
     "name": "stdout",
     "output_type": "stream",
     "text": [
      "[2022-02-10 13:23:46.479407] [0x00007f39428e8740] [error]   assertion failure: ../src/session.cpp:init:44:\n",
      "[2022-02-10 13:23:46.485139] [0x00007f39428e8740] [info]    Connecting using version 0d24d00c to wss://green-liquid-testnet.blockstream.com/v2/ws\n",
      "[2022-02-10 13:23:46.776895] [0x00007f39428e8740] [info]    Load db, no file or bad file /root/.blockstream/gdk/17df8f1a136fda0eeae3b80d31ab7439e.sqliteaesgcm\n"
     ]
    },
    {
     "data": {
      "text/plain": [
       "{'address': 'vjTzH8FPweLHyLaa2dagCLvrdWbmEVcPib8d1Mk6p9mHM2xmEL94xDzd8W6LnCzdqkh5t59tToEk3nXy',\n",
       " 'address_type': 'csv',\n",
       " 'blinding_key': '02c95b618197ff64cbef213b446ba44d0bfec1255f79d98d308caadba3ca29fd65',\n",
       " 'blinding_script': 'a9143378d8af00e707d7ed8481b6f47032237fa442ef87',\n",
       " 'branch': 1,\n",
       " 'is_blinded': True,\n",
       " 'pointer': 1,\n",
       " 'script': '748c632102c25116b7737a45068c6eb14f3f4fa8a05cead5916aec60f8bb84f048dbac75e6ad6703ffff00b2756821036742226fb99b70c6d0d8cf30909ad4bd7078d7e2f19ffb085045fb6384cd62edac',\n",
       " 'script_type': 15,\n",
       " 'subaccount': 0,\n",
       " 'subtype': 65535,\n",
       " 'unblinded_address': '8j7cwQNh1wpSQdn91EEBRK9jFyrxgeHi6C'}"
      ]
     },
     "execution_count": 9,
     "metadata": {},
     "output_type": "execute_result"
    }
   ],
   "source": [
    "import greenaddress\n",
    "try:\n",
    "    greenaddress.init({})\n",
    "except:\n",
    "    pass\n",
    "\n",
    "gdkMnemonic = 'order earth buddy render ocean produce bacon orchard congress law illness goat'\n",
    "if not greenaddress.validate_mnemonic(gdkMnemonic):\n",
    "    raise Exception(\"Invalid mnemonic.\")\n",
    "\n",
    "s = greenaddress.Session({'name': 'testnet-liquid', 'log_level': 'info'})\n",
    "\n",
    "s.login_user({}, {'mnemonic': gdkMnemonic}).resolve()\n",
    "s.get_receive_address().resolve()"
   ]
  }
 ],
 "metadata": {
  "kernelspec": {
   "display_name": "Python 3 (ipykernel)",
   "language": "python",
   "name": "python3"
  },
  "language_info": {
   "codemirror_mode": {
    "name": "ipython",
    "version": 3
   },
   "file_extension": ".py",
   "mimetype": "text/x-python",
   "name": "python",
   "nbconvert_exporter": "python",
   "pygments_lexer": "ipython3",
   "version": "3.7.12"
  }
 },
 "nbformat": 4,
 "nbformat_minor": 5
}
