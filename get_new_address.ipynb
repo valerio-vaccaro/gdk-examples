{
 "cells": [
  {
   "cell_type": "markdown",
   "id": "29958af0",
   "metadata": {},
   "source": [
    "# Bitcoin\n",
    "## Mainnet"
   ]
  },
  {
   "cell_type": "code",
   "execution_count": 1,
   "id": "36c14d88",
   "metadata": {},
   "outputs": [
    {
     "data": {
      "text/plain": [
       "{'address': '34b2NKJGPmc2vKahcaehZ49RATdX7fjeDb',\n",
       " 'address_type': 'csv',\n",
       " 'branch': 1,\n",
       " 'pointer': 4,\n",
       " 'script': '2102f5fffa2daae2c06a52b12bc568463f38077935c1661bcd3ad502f95bc3e0522dad2102e5433456b2a7f50f85b97db38ceb56efb3b3ca4be08cc718e168dea4edee4c33ac73640380ca00b268',\n",
       " 'script_type': 15,\n",
       " 'subaccount': 0,\n",
       " 'subtype': 51840,\n",
       " 'user_path': [1, 4]}"
      ]
     },
     "execution_count": 1,
     "metadata": {},
     "output_type": "execute_result"
    }
   ],
   "source": [
    "import greenaddress\n",
    "try:\n",
    "    greenaddress.init({})\n",
    "except:\n",
    "    pass\n",
    "\n",
    "gdkMnemonic = 'order earth buddy render ocean produce bacon orchard congress law illness goat'\n",
    "if not greenaddress.validate_mnemonic(gdkMnemonic):\n",
    "    raise Exception(\"Invalid mnemonic.\")\n",
    "        \n",
    "s = greenaddress.Session({'name': 'mainnet', 'log_level': 'info'})\n",
    "\n",
    "s.login_user({}, {'mnemonic': gdkMnemonic}).resolve()\n",
    "s.get_receive_address().resolve()"
   ]
  },
  {
   "cell_type": "markdown",
   "id": "692581a2",
   "metadata": {},
   "source": [
    "## Testnet"
   ]
  },
  {
   "cell_type": "code",
   "execution_count": 2,
   "id": "edf9a00c",
   "metadata": {},
   "outputs": [
    {
     "data": {
      "text/plain": [
       "{'address': '2NBnhA1wubeRhuq6y8V6bU1EUksnxRyhFdS',\n",
       " 'address_type': 'csv',\n",
       " 'branch': 1,\n",
       " 'pointer': 4,\n",
       " 'script': '2102f5fffa2daae2c06a52b12bc568463f38077935c1661bcd3ad502f95bc3e0522dad2102fca81ee420e862d0674008f5290b5a640a220c76688f530537981b87522b1811ac73640380ca00b268',\n",
       " 'script_type': 15,\n",
       " 'subaccount': 0,\n",
       " 'subtype': 51840,\n",
       " 'user_path': [1, 4]}"
      ]
     },
     "execution_count": 2,
     "metadata": {},
     "output_type": "execute_result"
    }
   ],
   "source": [
    "import greenaddress\n",
    "try:\n",
    "    greenaddress.init({})\n",
    "except:\n",
    "    pass\n",
    "\n",
    "gdkMnemonic = 'order earth buddy render ocean produce bacon orchard congress law illness goat'\n",
    "if not greenaddress.validate_mnemonic(gdkMnemonic):\n",
    "    raise Exception(\"Invalid mnemonic.\")\n",
    "\n",
    "s = greenaddress.Session({'name': 'testnet', 'log_level': 'info'})\n",
    "\n",
    "s.login_user({}, {'mnemonic': gdkMnemonic}).resolve()\n",
    "s.get_receive_address().resolve()"
   ]
  },
  {
   "cell_type": "markdown",
   "id": "7c0f3933",
   "metadata": {},
   "source": [
    "# Liquid\n",
    "## Mainnet"
   ]
  },
  {
   "cell_type": "code",
   "execution_count": 3,
   "id": "f98a302a",
   "metadata": {},
   "outputs": [
    {
     "data": {
      "text/plain": [
       "{'address': 'VJLEoV9fprp4ETx1FpbrQ6brih2P3YJ9D44cVf3kBrLYkdE5avXxcC5Z9vQBxtPD9ELzjEHkP9s8ckCz',\n",
       " 'address_type': 'csv',\n",
       " 'blinding_key': '0355af8e0eb63f0cf88ee85483ac202b76200f3e53623abee300a99499b95c5930',\n",
       " 'blinding_script': 'a914abc171cc269fa811996133864080d5538813ae8787',\n",
       " 'branch': 1,\n",
       " 'is_blinded': True,\n",
       " 'pointer': 3,\n",
       " 'script': '748c63210271667bdb2cd875c75e380b840dce000dedefeeff22739d96e8a3bd51e3440666ad6703ffff00b2756821039474b4b66b532515dbee84d9fcdfd41f4103b1e3245e98754935850bb4ed8b61ac',\n",
       " 'script_type': 15,\n",
       " 'subaccount': 0,\n",
       " 'subtype': 65535,\n",
       " 'unblinded_address': 'GxqggoLTQbHHb2xu44u6uKtkhjuV7FPuom',\n",
       " 'user_path': [1, 3]}"
      ]
     },
     "execution_count": 3,
     "metadata": {},
     "output_type": "execute_result"
    }
   ],
   "source": [
    "import greenaddress\n",
    "try:\n",
    "    greenaddress.init({})\n",
    "except:\n",
    "    pass\n",
    "\n",
    "gdkMnemonic = 'order earth buddy render ocean produce bacon orchard congress law illness goat'\n",
    "if not greenaddress.validate_mnemonic(gdkMnemonic):\n",
    "    raise Exception(\"Invalid mnemonic.\")\n",
    "\n",
    "s = greenaddress.Session({'name': 'liquid', 'log_level': 'info'})\n",
    "\n",
    "s.login_user({}, {'mnemonic': gdkMnemonic}).resolve()\n",
    "s.get_receive_address().resolve()"
   ]
  },
  {
   "cell_type": "markdown",
   "id": "fefcccbd",
   "metadata": {},
   "source": [
    "## Testnet"
   ]
  },
  {
   "cell_type": "code",
   "execution_count": 4,
   "id": "79fb396c",
   "metadata": {},
   "outputs": [
    {
     "data": {
      "text/plain": [
       "{'address': 'vjU4yZ6ZeKdfg1oWNyvytYi8eCKAQ6sjw5deL5zKNqUtDsw2qPr7UjNHHBbVnxa8FmKeXSrXRfCUSFWx',\n",
       " 'address_type': 'csv',\n",
       " 'blinding_key': '0376cc7c8966afc558c4e69687b090b98b299f43afec01d71113495a9dc99c35b7',\n",
       " 'blinding_script': 'a91420cd9fae3e8ff70a9f529be2a342c733cbe2c3d787',\n",
       " 'branch': 1,\n",
       " 'is_blinded': True,\n",
       " 'pointer': 3,\n",
       " 'script': '748c6321036d798a6f3f519b416ff5a6bebd28048a18df41b1418897bb2b1a0948f65c7ac2ad6703ffff00b2756821039474b4b66b532515dbee84d9fcdfd41f4103b1e3245e98754935850bb4ed8b61ac',\n",
       " 'script_type': 15,\n",
       " 'subaccount': 0,\n",
       " 'subtype': 65535,\n",
       " 'unblinded_address': '8hQufC3w1xopMRQVbTSHUmVH6jtVqdjqx4',\n",
       " 'user_path': [1, 3]}"
      ]
     },
     "execution_count": 4,
     "metadata": {},
     "output_type": "execute_result"
    }
   ],
   "source": [
    "import greenaddress\n",
    "try:\n",
    "    greenaddress.init({})\n",
    "except:\n",
    "    pass\n",
    "\n",
    "gdkMnemonic = 'order earth buddy render ocean produce bacon orchard congress law illness goat'\n",
    "if not greenaddress.validate_mnemonic(gdkMnemonic):\n",
    "    raise Exception(\"Invalid mnemonic.\")\n",
    "\n",
    "s = greenaddress.Session({'name': 'testnet-liquid', 'log_level': 'info'})\n",
    "\n",
    "s.login_user({}, {'mnemonic': gdkMnemonic}).resolve()\n",
    "s.get_receive_address().resolve()"
   ]
  }
 ],
 "metadata": {
  "interpreter": {
   "hash": "f9f85f796d01129d0dd105a088854619f454435301f6ffec2fea96ecbd9be4ac"
  },
  "kernelspec": {
   "display_name": "Python 3.9.12 64-bit",
   "language": "python",
   "name": "python3"
  },
  "language_info": {
   "codemirror_mode": {
    "name": "ipython",
    "version": 3
   },
   "file_extension": ".py",
   "mimetype": "text/x-python",
   "name": "python",
   "nbconvert_exporter": "python",
   "pygments_lexer": "ipython3",
   "version": "3.9.12"
  }
 },
 "nbformat": 4,
 "nbformat_minor": 5
}
