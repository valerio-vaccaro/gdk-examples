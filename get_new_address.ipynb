{
 "cells": [
  {
   "cell_type": "markdown",
   "id": "29958af0",
   "metadata": {},
   "source": [
    "# Bitcoin\n",
    "## Mainnet multisig"
   ]
  },
  {
   "cell_type": "code",
   "execution_count": 25,
   "id": "36c14d88",
   "metadata": {},
   "outputs": [
    {
     "data": {
      "text/plain": [
       "{'address': '3Gg8yq1QrGnjXoPtq5X4oEom4RP7ndGGjt',\n",
       " 'address_type': 'csv',\n",
       " 'branch': 1,\n",
       " 'pointer': 8,\n",
       " 'script': '21027c33a80557d59ea2afcf9e2c987f7c2b6451d1e9fa422c2701c8e58eb48ef0cbad210312afca6327c64ff9d7964362c3a21aa035706e481e0dd6bdebe0801ff6e9e14bac73640380ca00b268',\n",
       " 'script_type': 15,\n",
       " 'subaccount': 0,\n",
       " 'subtype': 51840,\n",
       " 'user_path': [1, 8]}"
      ]
     },
     "execution_count": 25,
     "metadata": {},
     "output_type": "execute_result"
    }
   ],
   "source": [
    "import greenaddress\n",
    "try:\n",
    "    greenaddress.init({})\n",
    "except:\n",
    "    pass\n",
    "\n",
    "gdkMnemonic = 'order earth buddy render ocean produce bacon orchard congress law illness goat'\n",
    "if not greenaddress.validate_mnemonic(gdkMnemonic):\n",
    "    raise Exception(\"Invalid mnemonic.\")\n",
    "        \n",
    "s = greenaddress.Session({'name': 'mainnet', 'log_level': 'info'})\n",
    "\n",
    "s.login_user({}, {'mnemonic': gdkMnemonic}).resolve()\n",
    "s.get_receive_address().resolve()"
   ]
  },
  {
   "cell_type": "code",
   "execution_count": 28,
   "id": "35817d18",
   "metadata": {},
   "outputs": [
    {
     "data": {
      "text/plain": [
       "{'last_pointer': 1,\n",
       " 'list': [{'address': '3Gg8yq1QrGnjXoPtq5X4oEom4RP7ndGGjt',\n",
       "   'address_type': 'csv',\n",
       "   'branch': 1,\n",
       "   'pointer': 8,\n",
       "   'script': '21027c33a80557d59ea2afcf9e2c987f7c2b6451d1e9fa422c2701c8e58eb48ef0cbad210312afca6327c64ff9d7964362c3a21aa035706e481e0dd6bdebe0801ff6e9e14bac73640380ca00b268',\n",
       "   'script_type': 15,\n",
       "   'subaccount': 0,\n",
       "   'subtype': 51840,\n",
       "   'tx_count': 0,\n",
       "   'user_path': [1, 8]},\n",
       "  {'address': '3H8PeWAYG9JZGwM8bT6YYVNRN5Y5d8JmRs',\n",
       "   'address_type': 'csv',\n",
       "   'branch': 1,\n",
       "   'pointer': 7,\n",
       "   'script': '2103b9f7f8cd92606d11d36ed0cf7df0e8f2ebeb0fb4bc3c8d898ba0a49474d53b7dad2103cfd9c35a1ff80068c0e444b39bc3185e80dc02bdb3ca6aa21aa29044a1e1742bac73640380ca00b268',\n",
       "   'script_type': 15,\n",
       "   'subaccount': 0,\n",
       "   'subtype': 51840,\n",
       "   'tx_count': 0,\n",
       "   'user_path': [1, 7]},\n",
       "  {'address': '35s2qvGtS2xEDUuZRupFwB87dtaaScpRLW',\n",
       "   'address_type': 'csv',\n",
       "   'branch': 1,\n",
       "   'pointer': 6,\n",
       "   'script': '2103ba9d2452b9e126627cdbdbd28606b135f197253237ccb75868592568b3b8e1e8ad21032ea3f3714731c9c86307caec9835ee6d27ead44a2c6ed16b6e9b6d7dcc67390aac73640380ca00b268',\n",
       "   'script_type': 15,\n",
       "   'subaccount': 0,\n",
       "   'subtype': 51840,\n",
       "   'tx_count': 0,\n",
       "   'user_path': [1, 6]},\n",
       "  {'address': '3Qe9i6RBQxQvXXHQNTHzawMUon4JayrnD8',\n",
       "   'address_type': 'csv',\n",
       "   'branch': 1,\n",
       "   'pointer': 5,\n",
       "   'script': '2103b5d807147167f3fa573b096ee34732acf357581ea61c1c1ef7433126444d532aad2102bb60938c8ffc6fc928ac87c7b9cac2676c786e23490ba484b15991d2e74c1506ac73640380ca00b268',\n",
       "   'script_type': 15,\n",
       "   'subaccount': 0,\n",
       "   'subtype': 51840,\n",
       "   'tx_count': 0,\n",
       "   'user_path': [1, 5]},\n",
       "  {'address': '34b2NKJGPmc2vKahcaehZ49RATdX7fjeDb',\n",
       "   'address_type': 'csv',\n",
       "   'branch': 1,\n",
       "   'pointer': 4,\n",
       "   'script': '2102f5fffa2daae2c06a52b12bc568463f38077935c1661bcd3ad502f95bc3e0522dad2102e5433456b2a7f50f85b97db38ceb56efb3b3ca4be08cc718e168dea4edee4c33ac73640380ca00b268',\n",
       "   'script_type': 15,\n",
       "   'subaccount': 0,\n",
       "   'subtype': 51840,\n",
       "   'tx_count': 0,\n",
       "   'user_path': [1, 4]},\n",
       "  {'address': '3E5c5K6YxQR78GgGXSbcogeMVcfFrd8j8v',\n",
       "   'address_type': 'csv',\n",
       "   'branch': 1,\n",
       "   'pointer': 3,\n",
       "   'script': '21039474b4b66b532515dbee84d9fcdfd41f4103b1e3245e98754935850bb4ed8b61ad21034a43b2546ad63050ed44303345cfb6946ffa912d595a59fef6ef8cd477b429cdac73640380ca00b268',\n",
       "   'script_type': 15,\n",
       "   'subaccount': 0,\n",
       "   'subtype': 51840,\n",
       "   'tx_count': 0,\n",
       "   'user_path': [1, 3]},\n",
       "  {'address': '33fAv34UCX3iupZCcmmE9NWWFU1rPzWHU4',\n",
       "   'address_type': 'csv',\n",
       "   'branch': 1,\n",
       "   'pointer': 2,\n",
       "   'script': '21037cacc2a3b048f97838dd9ccf8cb421cc28c94f4f8696eed4b7487e27d4583429ad21030118e8131eb37530888f6ad6ffd27c68e1a42c9aeacf55b3a2b060317f0657d9ac73640380ca00b268',\n",
       "   'script_type': 15,\n",
       "   'subaccount': 0,\n",
       "   'subtype': 51840,\n",
       "   'tx_count': 0,\n",
       "   'user_path': [1, 2]},\n",
       "  {'address': '3KHbtg26MW2K2Dp5YSpBVZr5so1hP3bAzX',\n",
       "   'address_type': 'csv',\n",
       "   'branch': 1,\n",
       "   'pointer': 1,\n",
       "   'script': '21036742226fb99b70c6d0d8cf30909ad4bd7078d7e2f19ffb085045fb6384cd62edad2103db357e12f691df64226446ff0aed60c5ca3f30699f190d928f0adc077cfa4d1fac73640380ca00b268',\n",
       "   'script_type': 15,\n",
       "   'subaccount': 0,\n",
       "   'subtype': 51840,\n",
       "   'tx_count': 0,\n",
       "   'user_path': [1, 1]}],\n",
       " 'subaccount': 0}"
      ]
     },
     "execution_count": 28,
     "metadata": {},
     "output_type": "execute_result"
    }
   ],
   "source": [
    "s.get_previous_addresses().resolve()"
   ]
  },
  {
   "cell_type": "markdown",
   "id": "f1a2f3b7",
   "metadata": {},
   "source": [
    "## Mainnet singlesig\n",
    "Electrum requires an explicit subaccount in the get_receive_address call."
   ]
  },
  {
   "cell_type": "code",
   "execution_count": 1,
   "id": "5a01741b",
   "metadata": {},
   "outputs": [
    {
     "data": {
      "text/plain": [
       "{'address': '3KVKATtcuTu5xFpjn1efRzXterfMMxp1ai',\n",
       " 'pointer': 1,\n",
       " 'user_path': [2147483697, 2147483648, 2147483648, 0, 1]}"
      ]
     },
     "execution_count": 1,
     "metadata": {},
     "output_type": "execute_result"
    }
   ],
   "source": [
    "import greenaddress\n",
    "try:\n",
    "    greenaddress.init({})\n",
    "except:\n",
    "    pass\n",
    "\n",
    "gdkMnemonic = 'order earth buddy render ocean produce bacon orchard congress law illness goat'\n",
    "if not greenaddress.validate_mnemonic(gdkMnemonic):\n",
    "    raise Exception(\"Invalid mnemonic.\")\n",
    "        \n",
    "s = greenaddress.Session({'name': 'electrum-mainnet', 'log_level': 'info'})\n",
    "\n",
    "s.login_user({}, {'mnemonic': gdkMnemonic}).resolve()\n",
    "s.get_receive_address({'subaccount': 0}).resolve()"
   ]
  },
  {
   "cell_type": "markdown",
   "id": "692581a2",
   "metadata": {},
   "source": [
    "## Testnet multisig"
   ]
  },
  {
   "cell_type": "code",
   "execution_count": 30,
   "id": "edf9a00c",
   "metadata": {},
   "outputs": [
    {
     "data": {
      "text/plain": [
       "{'address': '2NF1J5Dv5ycN8hPe8Uutd1v8kqSbAzczhZp',\n",
       " 'address_type': 'csv',\n",
       " 'branch': 1,\n",
       " 'pointer': 5,\n",
       " 'script': '2103b5d807147167f3fa573b096ee34732acf357581ea61c1c1ef7433126444d532aad2103ceb6f80dc53dad977eb309300b70d648ae8d8bd6e0f22ff11a2db0d17392e575ac73640380ca00b268',\n",
       " 'script_type': 15,\n",
       " 'subaccount': 0,\n",
       " 'subtype': 51840,\n",
       " 'user_path': [1, 5]}"
      ]
     },
     "execution_count": 30,
     "metadata": {},
     "output_type": "execute_result"
    }
   ],
   "source": [
    "import greenaddress\n",
    "try:\n",
    "    greenaddress.init({})\n",
    "except:\n",
    "    pass\n",
    "\n",
    "gdkMnemonic = 'order earth buddy render ocean produce bacon orchard congress law illness goat'\n",
    "if not greenaddress.validate_mnemonic(gdkMnemonic):\n",
    "    raise Exception(\"Invalid mnemonic.\")\n",
    "\n",
    "s = greenaddress.Session({'name': 'testnet', 'log_level': 'info'})\n",
    "\n",
    "s.login_user({}, {'mnemonic': gdkMnemonic}).resolve()\n",
    "s.get_receive_address().resolve()"
   ]
  },
  {
   "cell_type": "code",
   "execution_count": 31,
   "id": "255dc4ae",
   "metadata": {},
   "outputs": [
    {
     "data": {
      "text/plain": [
       "{'last_pointer': 1,\n",
       " 'list': [{'address': '2NF1J5Dv5ycN8hPe8Uutd1v8kqSbAzczhZp',\n",
       "   'address_type': 'csv',\n",
       "   'branch': 1,\n",
       "   'pointer': 5,\n",
       "   'script': '2103b5d807147167f3fa573b096ee34732acf357581ea61c1c1ef7433126444d532aad2103ceb6f80dc53dad977eb309300b70d648ae8d8bd6e0f22ff11a2db0d17392e575ac73640380ca00b268',\n",
       "   'script_type': 15,\n",
       "   'subaccount': 0,\n",
       "   'subtype': 51840,\n",
       "   'tx_count': 0,\n",
       "   'user_path': [1, 5]},\n",
       "  {'address': '2NBnhA1wubeRhuq6y8V6bU1EUksnxRyhFdS',\n",
       "   'address_type': 'csv',\n",
       "   'branch': 1,\n",
       "   'pointer': 4,\n",
       "   'script': '2102f5fffa2daae2c06a52b12bc568463f38077935c1661bcd3ad502f95bc3e0522dad2102fca81ee420e862d0674008f5290b5a640a220c76688f530537981b87522b1811ac73640380ca00b268',\n",
       "   'script_type': 15,\n",
       "   'subaccount': 0,\n",
       "   'subtype': 51840,\n",
       "   'tx_count': 0,\n",
       "   'user_path': [1, 4]},\n",
       "  {'address': '2NDduKpZ8rPvd6swNrgJHPRPEj7xvxwLVun',\n",
       "   'address_type': 'csv',\n",
       "   'branch': 1,\n",
       "   'pointer': 3,\n",
       "   'script': '21039474b4b66b532515dbee84d9fcdfd41f4103b1e3245e98754935850bb4ed8b61ad21024e03f6ea620d10c90ac93b05e17bdb157c0e0370af90914fbf80b3cd993a09feac73640380ca00b268',\n",
       "   'script_type': 15,\n",
       "   'subaccount': 0,\n",
       "   'subtype': 51840,\n",
       "   'tx_count': 0,\n",
       "   'user_path': [1, 3]},\n",
       "  {'address': '2MwbZ5zYyLTwqHiKSdBmLnKjTn1J2WbHNGY',\n",
       "   'address_type': 'csv',\n",
       "   'branch': 1,\n",
       "   'pointer': 2,\n",
       "   'script': '21037cacc2a3b048f97838dd9ccf8cb421cc28c94f4f8696eed4b7487e27d4583429ad210384108e13369a4ae13de3551c00018ec0b03f1920ce4549409cde4ecc21a24be5ac73640380ca00b268',\n",
       "   'script_type': 15,\n",
       "   'subaccount': 0,\n",
       "   'subtype': 51840,\n",
       "   'tx_count': 0,\n",
       "   'user_path': [1, 2]},\n",
       "  {'address': '2NDyYxjGSWunueUPMaXnWzZxz7ve9eXYLK5',\n",
       "   'address_type': 'csv',\n",
       "   'branch': 1,\n",
       "   'pointer': 1,\n",
       "   'script': '21036742226fb99b70c6d0d8cf30909ad4bd7078d7e2f19ffb085045fb6384cd62edad2102c5cbeb1e3b2843e8171fcaa80675f8230567e4a6d2b8d7a35155e46b96ead837ac73640380ca00b268',\n",
       "   'script_type': 15,\n",
       "   'subaccount': 0,\n",
       "   'subtype': 51840,\n",
       "   'tx_count': 3,\n",
       "   'user_path': [1, 1]}],\n",
       " 'subaccount': 0}"
      ]
     },
     "execution_count": 31,
     "metadata": {},
     "output_type": "execute_result"
    }
   ],
   "source": [
    "s.get_previous_addresses().resolve()"
   ]
  },
  {
   "cell_type": "markdown",
   "id": "cff7ebef",
   "metadata": {},
   "source": [
    "## Testnet singlesig\n",
    "Electrum requires an explicit subaccount in the get_receive_address call."
   ]
  },
  {
   "cell_type": "code",
   "execution_count": 9,
   "id": "b1480ab9",
   "metadata": {},
   "outputs": [
    {
     "data": {
      "text/plain": [
       "{'address': '2Mzany2FbrsB4WjZLhFPLeDz2pex4JSKS9w',\n",
       " 'pointer': 1,\n",
       " 'user_path': [2147483697, 2147483649, 2147483648, 0, 1]}"
      ]
     },
     "execution_count": 9,
     "metadata": {},
     "output_type": "execute_result"
    }
   ],
   "source": [
    "import greenaddress\n",
    "try:\n",
    "    greenaddress.init({})\n",
    "except:\n",
    "    pass\n",
    "\n",
    "gdkMnemonic = 'order earth buddy render ocean produce bacon orchard congress law illness goat'\n",
    "if not greenaddress.validate_mnemonic(gdkMnemonic):\n",
    "    raise Exception(\"Invalid mnemonic.\")\n",
    "\n",
    "s = greenaddress.Session({'name': 'electrum-testnet', 'log_level': 'info'})\n",
    "\n",
    "s.login_user({}, {'mnemonic': gdkMnemonic}).resolve()\n",
    "s.get_receive_address({'subaccount': 0}).resolve()"
   ]
  },
  {
   "cell_type": "markdown",
   "id": "7c0f3933",
   "metadata": {},
   "source": [
    "# Liquid\n",
    "## Mainnet multisig"
   ]
  },
  {
   "cell_type": "code",
   "execution_count": 32,
   "id": "f98a302a",
   "metadata": {},
   "outputs": [
    {
     "data": {
      "text/plain": [
       "{'address': 'VJLJj7pJb3rkca4JB9SahzZy9aRA41KLiAdFUq755kqJNhSZXMa1ChXfmj9LDhKKRGiEqzzf1du7yomQ',\n",
       " 'address_type': 'csv',\n",
       " 'blinding_key': '03e69ba6b535c7648d9cf448c3b02be4b905ef8dd0597b7259433d9fb68ad7d58a',\n",
       " 'blinding_script': 'a9148c9f68efb2aa3def3e725a1f047b9a673a2b4f0687',\n",
       " 'branch': 1,\n",
       " 'is_blinded': True,\n",
       " 'pointer': 4,\n",
       " 'script': '748c632103fde7c83737a77b54bff277e23d112f0ff7406f7ce2fc473c1b5e7816238a3b70ad6703ffff00b275682102f5fffa2daae2c06a52b12bc568463f38077935c1661bcd3ad502f95bc3e0522dac',\n",
       " 'script_type': 15,\n",
       " 'subaccount': 0,\n",
       " 'subtype': 65535,\n",
       " 'unblinded_address': 'Gv14y5yMMoSxqqM8unmYKt2nYweoSBg8yX',\n",
       " 'user_path': [1, 4]}"
      ]
     },
     "execution_count": 32,
     "metadata": {},
     "output_type": "execute_result"
    }
   ],
   "source": [
    "import greenaddress\n",
    "try:\n",
    "    greenaddress.init({})\n",
    "except:\n",
    "    pass\n",
    "\n",
    "gdkMnemonic = 'order earth buddy render ocean produce bacon orchard congress law illness goat'\n",
    "if not greenaddress.validate_mnemonic(gdkMnemonic):\n",
    "    raise Exception(\"Invalid mnemonic.\")\n",
    "\n",
    "s = greenaddress.Session({'name': 'liquid', 'log_level': 'info'})\n",
    "\n",
    "s.login_user({}, {'mnemonic': gdkMnemonic}).resolve()\n",
    "s.get_receive_address().resolve()"
   ]
  },
  {
   "cell_type": "code",
   "execution_count": 33,
   "id": "4b2d9142",
   "metadata": {},
   "outputs": [
    {
     "data": {
      "text/plain": [
       "{'last_pointer': 1,\n",
       " 'list': [{'address': 'VJLJj7pJb3rkca4JB9SahzZy9aRA41KLiAdFUq755kqJNhSZXMa1ChXfmj9LDhKKRGiEqzzf1du7yomQ',\n",
       "   'address_type': 'csv',\n",
       "   'blinding_key': '03e69ba6b535c7648d9cf448c3b02be4b905ef8dd0597b7259433d9fb68ad7d58a',\n",
       "   'blinding_script': 'a9148c9f68efb2aa3def3e725a1f047b9a673a2b4f0687',\n",
       "   'branch': 1,\n",
       "   'is_blinded': True,\n",
       "   'pointer': 4,\n",
       "   'script': '748c632103fde7c83737a77b54bff277e23d112f0ff7406f7ce2fc473c1b5e7816238a3b70ad6703ffff00b275682102f5fffa2daae2c06a52b12bc568463f38077935c1661bcd3ad502f95bc3e0522dac',\n",
       "   'script_type': 15,\n",
       "   'subaccount': 0,\n",
       "   'subtype': 65535,\n",
       "   'tx_count': 0,\n",
       "   'unblinded_address': 'Gv14y5yMMoSxqqM8unmYKt2nYweoSBg8yX',\n",
       "   'user_path': [1, 4]},\n",
       "  {'address': 'VJLEoV9fprp4ETx1FpbrQ6brih2P3YJ9D44cVf3kBrLYkdE5avXxcC5Z9vQBxtPD9ELzjEHkP9s8ckCz',\n",
       "   'address_type': 'csv',\n",
       "   'blinding_key': '0355af8e0eb63f0cf88ee85483ac202b76200f3e53623abee300a99499b95c5930',\n",
       "   'blinding_script': 'a914abc171cc269fa811996133864080d5538813ae8787',\n",
       "   'branch': 1,\n",
       "   'is_blinded': True,\n",
       "   'pointer': 3,\n",
       "   'script': '748c63210271667bdb2cd875c75e380b840dce000dedefeeff22739d96e8a3bd51e3440666ad6703ffff00b2756821039474b4b66b532515dbee84d9fcdfd41f4103b1e3245e98754935850bb4ed8b61ac',\n",
       "   'script_type': 15,\n",
       "   'subaccount': 0,\n",
       "   'subtype': 65535,\n",
       "   'tx_count': 0,\n",
       "   'unblinded_address': 'GxqggoLTQbHHb2xu44u6uKtkhjuV7FPuom',\n",
       "   'user_path': [1, 3]},\n",
       "  {'address': 'VJLGGJ1iNxNaTvQmFuoFsxaxisnyMAyUxpnPTyWpXACzQ7NtVVtUUF7BobkAfKAw7oUnfFGfbuEz8gyj',\n",
       "   'address_type': 'csv',\n",
       "   'blinding_key': '038badc8e19f42dfdd896b6c53114721f21cce094a6b4a6f8d23d9f55a95c8eb9b',\n",
       "   'blinding_script': 'a91439607bac3b16ae1a4ba51b2bf48f05bce771826287',\n",
       "   'branch': 1,\n",
       "   'is_blinded': True,\n",
       "   'pointer': 2,\n",
       "   'script': '748c632102f24303189152f24c6244946d907d59a50f30bada811964c8bbf331993245628ead6703ffff00b2756821037cacc2a3b048f97838dd9ccf8cb421cc28c94f4f8696eed4b7487e27d4583429ac',\n",
       "   'script_type': 15,\n",
       "   'subaccount': 0,\n",
       "   'subtype': 65535,\n",
       "   'tx_count': 0,\n",
       "   'unblinded_address': 'GnQuVw5NM92WtpQ19iN9JtQKeB5u9EC3Y6',\n",
       "   'user_path': [1, 2]},\n",
       "  {'address': 'VJL7N8CXJnF5f3NRXYWf79aVBLSYt68fDQQs7c3EAaUPaDYxzt49Grdaxp2vJ3a6HPjJSp2Hiakwaj6v',\n",
       "   'address_type': 'csv',\n",
       "   'blinding_key': '02430f2853ab9c5735f5490a19f3ff9f52cbc6f7dc94daad108e4d76960b13ff1d',\n",
       "   'blinding_script': 'a9141a83afc138226240c1c736caf642bbc0312408cf87',\n",
       "   'branch': 1,\n",
       "   'is_blinded': True,\n",
       "   'pointer': 1,\n",
       "   'script': '748c63210306874b81518e71d97684676f93bd54adc8636e80aa318d6af103e9cb05913d08ad6703ffff00b2756821036742226fb99b70c6d0d8cf30909ad4bd7078d7e2f19ffb085045fb6384cd62edac',\n",
       "   'script_type': 15,\n",
       "   'subaccount': 0,\n",
       "   'subtype': 65535,\n",
       "   'tx_count': 0,\n",
       "   'unblinded_address': 'GjbiixuPC4PEZp5FwzEX5GcThDGsKsGaT8',\n",
       "   'user_path': [1, 1]}],\n",
       " 'subaccount': 0}"
      ]
     },
     "execution_count": 33,
     "metadata": {},
     "output_type": "execute_result"
    }
   ],
   "source": [
    "s.get_previous_addresses().resolve()"
   ]
  },
  {
   "cell_type": "markdown",
   "id": "aad9bf6a",
   "metadata": {},
   "source": [
    "## Mainnet singlesig\n",
    "Electrum requires an explicit subaccount in the get_receive_address call."
   ]
  },
  {
   "cell_type": "code",
   "execution_count": 8,
   "id": "10c84131",
   "metadata": {},
   "outputs": [
    {
     "data": {
      "text/plain": [
       "{'address': 'VJL6SD8ScicJNJPJCSyXmtKDUA1VbqktPHLhVVatrZeoVfS5QQq6Vqx83eq4ZyHAr324Xqe9rvGHG3dW',\n",
       " 'pointer': 1,\n",
       " 'user_path': [2147483697, 2147485424, 2147483648, 0, 1]}"
      ]
     },
     "execution_count": 8,
     "metadata": {},
     "output_type": "execute_result"
    }
   ],
   "source": [
    "import greenaddress\n",
    "try:\n",
    "    greenaddress.init({})\n",
    "except:\n",
    "    pass\n",
    "\n",
    "gdkMnemonic = 'order earth buddy render ocean produce bacon orchard congress law illness goat'\n",
    "if not greenaddress.validate_mnemonic(gdkMnemonic):\n",
    "    raise Exception(\"Invalid mnemonic.\")\n",
    "\n",
    "s = greenaddress.Session({'name': 'electrum-liquid', 'log_level': 'info'})\n",
    "\n",
    "s.login_user({}, {'mnemonic': gdkMnemonic}).resolve()\n",
    "s.get_receive_address({'subaccount': 0}).resolve()"
   ]
  },
  {
   "cell_type": "markdown",
   "id": "fefcccbd",
   "metadata": {},
   "source": [
    "## Testnet multisig"
   ]
  },
  {
   "cell_type": "code",
   "execution_count": 34,
   "id": "79fb396c",
   "metadata": {},
   "outputs": [
    {
     "data": {
      "text/plain": [
       "{'address': 'vjU6cWgwuMeKYCf4yFmwUGuhz7YP5V2Pc69aeUXd1JV2ekPJmphR5ZBDJpkhLNLhT116ViNBbf8waTrp',\n",
       " 'address_type': 'csv',\n",
       " 'blinding_key': '03b341131252e707a0bf72cfdbd169b2f5aa9e601539b57e487de6d4b0b843e85c',\n",
       " 'blinding_script': 'a9140cc5b150eb9e604ea65cc5ac4fb21c46ff56e67c87',\n",
       " 'branch': 1,\n",
       " 'is_blinded': True,\n",
       " 'pointer': 4,\n",
       " 'script': '748c6321020bb9aa764f70bbc350330e0e199b18166365ade4e1169277c6910b8486fffbb2ad6703ffff00b275682102f5fffa2daae2c06a52b12bc568463f38077935c1661bcd3ad502f95bc3e0522dac',\n",
       " 'script_type': 15,\n",
       " 'subaccount': 0,\n",
       " 'subtype': 65535,\n",
       " 'unblinded_address': '8fazeHrgKPMc8AzjjhAGWSh5vdC1TXk2kZ',\n",
       " 'user_path': [1, 4]}"
      ]
     },
     "execution_count": 34,
     "metadata": {},
     "output_type": "execute_result"
    }
   ],
   "source": [
    "import greenaddress\n",
    "try:\n",
    "    greenaddress.init({})\n",
    "except:\n",
    "    pass\n",
    "\n",
    "gdkMnemonic = 'order earth buddy render ocean produce bacon orchard congress law illness goat'\n",
    "if not greenaddress.validate_mnemonic(gdkMnemonic):\n",
    "    raise Exception(\"Invalid mnemonic.\")\n",
    "\n",
    "s = greenaddress.Session({'name': 'testnet-liquid', 'log_level': 'info'})\n",
    "\n",
    "s.login_user({}, {'mnemonic': gdkMnemonic}).resolve()\n",
    "s.get_receive_address().resolve()"
   ]
  },
  {
   "cell_type": "code",
   "execution_count": 35,
   "id": "5531faf4",
   "metadata": {},
   "outputs": [
    {
     "data": {
      "text/plain": [
       "{'last_pointer': 1,\n",
       " 'list': [{'address': 'vjU6cWgwuMeKYCf4yFmwUGuhz7YP5V2Pc69aeUXd1JV2ekPJmphR5ZBDJpkhLNLhT116ViNBbf8waTrp',\n",
       "   'address_type': 'csv',\n",
       "   'blinding_key': '03b341131252e707a0bf72cfdbd169b2f5aa9e601539b57e487de6d4b0b843e85c',\n",
       "   'blinding_script': 'a9140cc5b150eb9e604ea65cc5ac4fb21c46ff56e67c87',\n",
       "   'branch': 1,\n",
       "   'is_blinded': True,\n",
       "   'pointer': 4,\n",
       "   'script': '748c6321020bb9aa764f70bbc350330e0e199b18166365ade4e1169277c6910b8486fffbb2ad6703ffff00b275682102f5fffa2daae2c06a52b12bc568463f38077935c1661bcd3ad502f95bc3e0522dac',\n",
       "   'script_type': 15,\n",
       "   'subaccount': 0,\n",
       "   'subtype': 65535,\n",
       "   'tx_count': 0,\n",
       "   'unblinded_address': '8fazeHrgKPMc8AzjjhAGWSh5vdC1TXk2kZ',\n",
       "   'user_path': [1, 4]},\n",
       "  {'address': 'vjU4yZ6ZeKdfg1oWNyvytYi8eCKAQ6sjw5deL5zKNqUtDsw2qPr7UjNHHBbVnxa8FmKeXSrXRfCUSFWx',\n",
       "   'address_type': 'csv',\n",
       "   'blinding_key': '0376cc7c8966afc558c4e69687b090b98b299f43afec01d71113495a9dc99c35b7',\n",
       "   'blinding_script': 'a91420cd9fae3e8ff70a9f529be2a342c733cbe2c3d787',\n",
       "   'branch': 1,\n",
       "   'is_blinded': True,\n",
       "   'pointer': 3,\n",
       "   'script': '748c6321036d798a6f3f519b416ff5a6bebd28048a18df41b1418897bb2b1a0948f65c7ac2ad6703ffff00b2756821039474b4b66b532515dbee84d9fcdfd41f4103b1e3245e98754935850bb4ed8b61ac',\n",
       "   'script_type': 15,\n",
       "   'subaccount': 0,\n",
       "   'subtype': 65535,\n",
       "   'tx_count': 0,\n",
       "   'unblinded_address': '8hQufC3w1xopMRQVbTSHUmVH6jtVqdjqx4',\n",
       "   'user_path': [1, 3]},\n",
       "  {'address': 'vjTwNspiGjUavWt7xhgcb7dXiEx1ei9aMopxDFhqTfaB739w7yqUSGgX5BgZf1G3HcczBc9MLuakqBSn',\n",
       "   'address_type': 'csv',\n",
       "   'blinding_key': '025e3dc21624d7b01c9dbb70ebb373e92512d26b239b8f78fe2e8a529d2ce75613',\n",
       "   'blinding_script': 'a9148f60dcda041fcc2b50a197d0bbc978ccaf5f2b1287',\n",
       "   'branch': 1,\n",
       "   'is_blinded': True,\n",
       "   'pointer': 2,\n",
       "   'script': '748c632102b599b60a30c0bbd35f8d7bcf89555d068261273a1d0d1a1ddba847449ee00e0dad6703ffff00b2756821037cacc2a3b048f97838dd9ccf8cb421cc28c94f4f8696eed4b7487e27d4583429ac',\n",
       "   'script_type': 15,\n",
       "   'subaccount': 0,\n",
       "   'subtype': 65535,\n",
       "   'tx_count': 0,\n",
       "   'unblinded_address': '8sVaNdjnrrWbUKcX6GU6YYCaYSZXXWsWGR',\n",
       "   'user_path': [1, 2]},\n",
       "  {'address': 'vjTzH8FPweLHyLaa2dagCLvrdWbmEVcPib8d1Mk6p9mHM2xmEL94xDzd8W6LnCzdqkh5t59tToEk3nXy',\n",
       "   'address_type': 'csv',\n",
       "   'blinding_key': '02c95b618197ff64cbef213b446ba44d0bfec1255f79d98d308caadba3ca29fd65',\n",
       "   'blinding_script': 'a9143378d8af00e707d7ed8481b6f47032237fa442ef87',\n",
       "   'branch': 1,\n",
       "   'is_blinded': True,\n",
       "   'pointer': 1,\n",
       "   'script': '748c632102c25116b7737a45068c6eb14f3f4fa8a05cead5916aec60f8bb84f048dbac75e6ad6703ffff00b2756821036742226fb99b70c6d0d8cf30909ad4bd7078d7e2f19ffb085045fb6384cd62edac',\n",
       "   'script_type': 15,\n",
       "   'subaccount': 0,\n",
       "   'subtype': 65535,\n",
       "   'tx_count': 2,\n",
       "   'unblinded_address': '8j7cwQNh1wpSQdn91EEBRK9jFyrxgeHi6C',\n",
       "   'user_path': [1, 1]}],\n",
       " 'subaccount': 0}"
      ]
     },
     "execution_count": 35,
     "metadata": {},
     "output_type": "execute_result"
    }
   ],
   "source": [
    "s.get_previous_addresses().resolve()"
   ]
  },
  {
   "cell_type": "markdown",
   "metadata": {},
   "source": [
    "## Testnet singlesig\n",
    "Electrum requires an explicit subaccount in the get_receive_address call."
   ]
  },
  {
   "cell_type": "code",
   "execution_count": 3,
   "id": "3ab1c1ff",
   "metadata": {},
   "outputs": [
    {
     "data": {
      "text/plain": [
       "{'address': 'vjU1gcRFQEDErTYpi3ja13KMoPfDh9XaDDYSVUB3CUKzGDHV1se7n5HNNgyr26Kfp1UQRUz865aGnsgU',\n",
       " 'pointer': 1,\n",
       " 'user_path': [2147483697, 2147483649, 2147483648, 0, 1]}"
      ]
     },
     "execution_count": 3,
     "metadata": {},
     "output_type": "execute_result"
    }
   ],
   "source": [
    "import greenaddress\n",
    "try:\n",
    "    greenaddress.init({})\n",
    "except:\n",
    "    pass\n",
    "\n",
    "gdkMnemonic = 'order earth buddy render ocean produce bacon orchard congress law illness goat'\n",
    "if not greenaddress.validate_mnemonic(gdkMnemonic):\n",
    "    raise Exception(\"Invalid mnemonic.\")\n",
    "\n",
    "s = greenaddress.Session({'name': 'electrum-testnet-liquid', 'log_level': 'info'})\n",
    "\n",
    "s.login_user({}, {'mnemonic': gdkMnemonic}).resolve()\n",
    "s.get_receive_address({'subaccount': 0, 'address_type':'p2pkh'}).resolve()"
   ]
  }
 ],
 "metadata": {
  "interpreter": {
   "hash": "f9f85f796d01129d0dd105a088854619f454435301f6ffec2fea96ecbd9be4ac"
  },
  "kernelspec": {
   "display_name": "Python 3.9.12 64-bit",
   "language": "python",
   "name": "python3"
  },
  "language_info": {
   "codemirror_mode": {
    "name": "ipython",
    "version": 3
   },
   "file_extension": ".py",
   "mimetype": "text/x-python",
   "name": "python",
   "nbconvert_exporter": "python",
   "pygments_lexer": "ipython3",
   "version": "3.9.13"
  }
 },
 "nbformat": 4,
 "nbformat_minor": 5
}
