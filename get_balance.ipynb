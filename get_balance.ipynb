{
 "cells": [
  {
   "cell_type": "markdown",
   "id": "62685496",
   "metadata": {},
   "source": [
    "# Bitcoin\n",
    "## Mainnet multisig"
   ]
  },
  {
   "cell_type": "code",
   "execution_count": 1,
   "id": "35981675",
   "metadata": {},
   "outputs": [
    {
     "data": {
      "text/plain": [
       "{'btc': 0}"
      ]
     },
     "execution_count": 1,
     "metadata": {},
     "output_type": "execute_result"
    }
   ],
   "source": [
    "import greenaddress\n",
    "try:\n",
    "    greenaddress.init({})\n",
    "except:\n",
    "    pass\n",
    "\n",
    "gdkMnemonic = 'order earth buddy render ocean produce bacon orchard congress law illness goat'\n",
    "if not greenaddress.validate_mnemonic(gdkMnemonic):\n",
    "    raise Exception(\"Invalid mnemonic.\")\n",
    "        \n",
    "s = greenaddress.Session({'name': 'mainnet', 'log_level': 'info'})\n",
    "\n",
    "s.login_user({}, {'mnemonic': gdkMnemonic}).resolve()\n",
    "s.get_balance({'subaccount': 0, 'num_confs': 0}).resolve()"
   ]
  },
  {
   "cell_type": "markdown",
   "id": "bb393acb",
   "metadata": {},
   "source": [
    "## Mainnet singlesig"
   ]
  },
  {
   "cell_type": "code",
   "execution_count": 1,
   "id": "3bbc4041",
   "metadata": {},
   "outputs": [
    {
     "data": {
      "text/plain": [
       "{'btc': 0}"
      ]
     },
     "execution_count": 1,
     "metadata": {},
     "output_type": "execute_result"
    }
   ],
   "source": [
    "import greenaddress\n",
    "try:\n",
    "    greenaddress.init({})\n",
    "except:\n",
    "    pass\n",
    "\n",
    "gdkMnemonic = 'order earth buddy render ocean produce bacon orchard congress law illness goat'\n",
    "if not greenaddress.validate_mnemonic(gdkMnemonic):\n",
    "    raise Exception(\"Invalid mnemonic.\")\n",
    "        \n",
    "s = greenaddress.Session({'name': 'electrum-mainnet', 'log_level': 'info'})\n",
    "\n",
    "s.login_user({}, {'mnemonic': gdkMnemonic}).resolve()\n",
    "s.get_balance({'subaccount': 0, 'num_confs': 0}).resolve()"
   ]
  },
  {
   "cell_type": "markdown",
   "id": "6d953974",
   "metadata": {},
   "source": [
    "## Testnet multisig"
   ]
  },
  {
   "cell_type": "code",
   "execution_count": 2,
   "id": "2f13d5e8",
   "metadata": {},
   "outputs": [
    {
     "data": {
      "text/plain": [
       "{'btc': 30000}"
      ]
     },
     "execution_count": 2,
     "metadata": {},
     "output_type": "execute_result"
    }
   ],
   "source": [
    "import greenaddress\n",
    "try:\n",
    "    greenaddress.init({})\n",
    "except:\n",
    "    pass\n",
    "\n",
    "gdkMnemonic = 'order earth buddy render ocean produce bacon orchard congress law illness goat'\n",
    "if not greenaddress.validate_mnemonic(gdkMnemonic):\n",
    "    raise Exception(\"Invalid mnemonic.\")\n",
    "\n",
    "s = greenaddress.Session({'name': 'testnet', 'log_level': 'info'})\n",
    "\n",
    "s.login_user({}, {'mnemonic': gdkMnemonic}).resolve()\n",
    "s.get_balance({'subaccount': 0, 'num_confs': 0}).resolve()"
   ]
  },
  {
   "cell_type": "markdown",
   "id": "55656184",
   "metadata": {},
   "source": [
    "## Testnet singlesig"
   ]
  },
  {
   "cell_type": "code",
   "execution_count": 3,
   "id": "2accea02",
   "metadata": {},
   "outputs": [
    {
     "data": {
      "text/plain": [
       "{'btc': 0}"
      ]
     },
     "execution_count": 3,
     "metadata": {},
     "output_type": "execute_result"
    }
   ],
   "source": [
    "import greenaddress\n",
    "try:\n",
    "    greenaddress.init({})\n",
    "except:\n",
    "    pass\n",
    "\n",
    "gdkMnemonic = 'order earth buddy render ocean produce bacon orchard congress law illness goat'\n",
    "if not greenaddress.validate_mnemonic(gdkMnemonic):\n",
    "    raise Exception(\"Invalid mnemonic.\")\n",
    "\n",
    "s = greenaddress.Session({'name': 'electrum-testnet', 'log_level': 'info'})\n",
    "\n",
    "s.login_user({}, {'mnemonic': gdkMnemonic}).resolve()\n",
    "s.get_balance({'subaccount': 0, 'num_confs': 0}).resolve()"
   ]
  },
  {
   "cell_type": "markdown",
   "id": "c27a42ee",
   "metadata": {},
   "source": [
    "# Liquid\n",
    "## Mainnet multisig"
   ]
  },
  {
   "cell_type": "code",
   "execution_count": 3,
   "id": "2b5219b9",
   "metadata": {},
   "outputs": [
    {
     "data": {
      "text/plain": [
       "{'6f0279e9ed041c3d710a9f57d0c02928416460c4b722ae3457a11eec381c526d': 0}"
      ]
     },
     "execution_count": 3,
     "metadata": {},
     "output_type": "execute_result"
    }
   ],
   "source": [
    "import greenaddress\n",
    "try:\n",
    "    greenaddress.init({})\n",
    "except:\n",
    "    pass\n",
    "\n",
    "gdkMnemonic = 'order earth buddy render ocean produce bacon orchard congress law illness goat'\n",
    "if not greenaddress.validate_mnemonic(gdkMnemonic):\n",
    "    raise Exception(\"Invalid mnemonic.\")\n",
    "\n",
    "s = greenaddress.Session({'name': 'liquid', 'log_level': 'info'})\n",
    "\n",
    "s.login_user({}, {'mnemonic': gdkMnemonic}).resolve()\n",
    "s.get_balance({'subaccount': 0, 'num_confs': 0}).resolve()"
   ]
  },
  {
   "cell_type": "markdown",
   "id": "f28f248a",
   "metadata": {},
   "source": [
    "## Mainnet singlesig"
   ]
  },
  {
   "cell_type": "code",
   "execution_count": 4,
   "id": "c90bbbee",
   "metadata": {},
   "outputs": [
    {
     "data": {
      "text/plain": [
       "{'6f0279e9ed041c3d710a9f57d0c02928416460c4b722ae3457a11eec381c526d': 0}"
      ]
     },
     "execution_count": 4,
     "metadata": {},
     "output_type": "execute_result"
    }
   ],
   "source": [
    "import greenaddress\n",
    "try:\n",
    "    greenaddress.init({})\n",
    "except:\n",
    "    pass\n",
    "\n",
    "gdkMnemonic = 'order earth buddy render ocean produce bacon orchard congress law illness goat'\n",
    "if not greenaddress.validate_mnemonic(gdkMnemonic):\n",
    "    raise Exception(\"Invalid mnemonic.\")\n",
    "\n",
    "s = greenaddress.Session({'name': 'electrum-liquid', 'log_level': 'info'})\n",
    "\n",
    "s.login_user({}, {'mnemonic': gdkMnemonic}).resolve()\n",
    "s.get_balance({'subaccount': 0, 'num_confs': 0}).resolve()"
   ]
  },
  {
   "cell_type": "markdown",
   "id": "b10237d5",
   "metadata": {},
   "source": [
    "## Testnet multisig"
   ]
  },
  {
   "cell_type": "code",
   "execution_count": 4,
   "id": "0519f817",
   "metadata": {},
   "outputs": [
    {
     "data": {
      "text/plain": [
       "{'144c654344aa716d6f3abcc1ca90e5641e4e2a7f633bc09fe3baf64585819a49': 100000,\n",
       " '38fca2d939696061a8f76d4e6b5eecd54e3b4221c846f24a6b279e79952850a5': 5000}"
      ]
     },
     "execution_count": 4,
     "metadata": {},
     "output_type": "execute_result"
    }
   ],
   "source": [
    "import greenaddress\n",
    "try:\n",
    "    greenaddress.init({})\n",
    "except:\n",
    "    pass\n",
    "\n",
    "gdkMnemonic = 'order earth buddy render ocean produce bacon orchard congress law illness goat'\n",
    "if not greenaddress.validate_mnemonic(gdkMnemonic):\n",
    "    raise Exception(\"Invalid mnemonic.\")\n",
    "\n",
    "s = greenaddress.Session({'name': 'testnet-liquid', 'log_level': 'info'})\n",
    "\n",
    "s.login_user({}, {'mnemonic': gdkMnemonic}).resolve()\n",
    "s.get_balance({'subaccount': 0, 'num_confs': 0}).resolve()"
   ]
  },
  {
   "cell_type": "markdown",
   "id": "8426a365",
   "metadata": {},
   "source": [
    "## Testnet singlesig"
   ]
  },
  {
   "cell_type": "code",
   "execution_count": 5,
   "id": "0fc41f1f",
   "metadata": {},
   "outputs": [
    {
     "data": {
      "text/plain": [
       "{'144c654344aa716d6f3abcc1ca90e5641e4e2a7f633bc09fe3baf64585819a49': 0}"
      ]
     },
     "execution_count": 5,
     "metadata": {},
     "output_type": "execute_result"
    }
   ],
   "source": [
    "import greenaddress\n",
    "try:\n",
    "    greenaddress.init({})\n",
    "except:\n",
    "    pass\n",
    "\n",
    "gdkMnemonic = 'order earth buddy render ocean produce bacon orchard congress law illness goat'\n",
    "if not greenaddress.validate_mnemonic(gdkMnemonic):\n",
    "    raise Exception(\"Invalid mnemonic.\")\n",
    "\n",
    "s = greenaddress.Session({'name': 'electrum-testnet-liquid', 'log_level': 'info'})\n",
    "\n",
    "s.login_user({}, {'mnemonic': gdkMnemonic}).resolve()\n",
    "s.get_balance({'subaccount': 0, 'num_confs': 0}).resolve()"
   ]
  }
 ],
 "metadata": {
  "interpreter": {
   "hash": "f9f85f796d01129d0dd105a088854619f454435301f6ffec2fea96ecbd9be4ac"
  },
  "kernelspec": {
   "display_name": "Python 3.9.12 64-bit",
   "language": "python",
   "name": "python3"
  },
  "language_info": {
   "codemirror_mode": {
    "name": "ipython",
    "version": 3
   },
   "file_extension": ".py",
   "mimetype": "text/x-python",
   "name": "python",
   "nbconvert_exporter": "python",
   "pygments_lexer": "ipython3",
   "version": "3.9.13"
  }
 },
 "nbformat": 4,
 "nbformat_minor": 5
}
