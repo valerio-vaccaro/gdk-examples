{
 "cells": [
  {
   "cell_type": "markdown",
   "id": "62685496",
   "metadata": {},
   "source": [
    "# Bitcoin\n",
    "## Mainnet"
   ]
  },
  {
   "cell_type": "code",
   "execution_count": 7,
   "id": "35981675",
   "metadata": {},
   "outputs": [
    {
     "name": "stdout",
     "output_type": "stream",
     "text": [
      "[2022-02-10 13:28:00.774007] [0x00007fca2a0fe740] [error]   assertion failure: ../src/session.cpp:init:44:\n",
      "[2022-02-10 13:28:00.777129] [0x00007fca2a0fe740] [info]    Connecting using version 0d24d00c to wss://prodwss.greenaddress.it/v2/ws\n",
      "[2022-02-10 13:28:01.125011] [0x00007fca2a0fe740] [info]    /root/.blockstream/gdk/15b1519d0f83d03ed889eacc38ac2cd75.sqliteaesgcm loaded correctly\n",
      "[2022-02-10 13:28:01.189525] [0x00007fca2a0fe740] [info]    Load blob ver 1 over 0\n"
     ]
    },
    {
     "data": {
      "text/plain": [
       "{'btc': 0}"
      ]
     },
     "execution_count": 7,
     "metadata": {},
     "output_type": "execute_result"
    }
   ],
   "source": [
    "import greenaddress\n",
    "try:\n",
    "    greenaddress.init({})\n",
    "except:\n",
    "    pass\n",
    "\n",
    "gdkMnemonic = 'order earth buddy render ocean produce bacon orchard congress law illness goat'\n",
    "if not greenaddress.validate_mnemonic(gdkMnemonic):\n",
    "    raise Exception(\"Invalid mnemonic.\")\n",
    "        \n",
    "s = greenaddress.Session({'name': 'mainnet', 'log_level': 'info'})\n",
    "\n",
    "s.login_user({}, {'mnemonic': gdkMnemonic}).resolve()\n",
    "s.get_balance({'subaccount': 0, 'num_confs': 0}).resolve()"
   ]
  },
  {
   "cell_type": "markdown",
   "id": "6d953974",
   "metadata": {},
   "source": [
    "## Testnet"
   ]
  },
  {
   "cell_type": "code",
   "execution_count": 8,
   "id": "2f13d5e8",
   "metadata": {},
   "outputs": [
    {
     "name": "stdout",
     "output_type": "stream",
     "text": [
      "[2022-02-10 13:28:01.494607] [0x00007fca2a0fe740] [error]   assertion failure: ../src/session.cpp:init:44:\n",
      "[2022-02-10 13:28:01.497522] [0x00007fca2a0fe740] [info]    Connecting using version 0d24d00c to wss://testwss.greenaddress.it/v2/ws\n",
      "[2022-02-10 13:28:02.749791] [0x00007fca2a0fe740] [info]    /root/.blockstream/gdk/1b197463da20b33602bec376c5c5dd8c7.sqliteaesgcm loaded correctly\n",
      "[2022-02-10 13:28:02.966857] [0x00007fca2a0fe740] [info]    Load blob ver 1 over 0\n"
     ]
    },
    {
     "data": {
      "text/plain": [
       "{'btc': 0}"
      ]
     },
     "execution_count": 8,
     "metadata": {},
     "output_type": "execute_result"
    }
   ],
   "source": [
    "import greenaddress\n",
    "try:\n",
    "    greenaddress.init({})\n",
    "except:\n",
    "    pass\n",
    "\n",
    "gdkMnemonic = 'order earth buddy render ocean produce bacon orchard congress law illness goat'\n",
    "if not greenaddress.validate_mnemonic(gdkMnemonic):\n",
    "    raise Exception(\"Invalid mnemonic.\")\n",
    "\n",
    "s = greenaddress.Session({'name': 'testnet', 'log_level': 'info'})\n",
    "\n",
    "s.login_user({}, {'mnemonic': gdkMnemonic}).resolve()\n",
    "s.get_balance({'subaccount': 0, 'num_confs': 0}).resolve()"
   ]
  },
  {
   "cell_type": "markdown",
   "id": "c27a42ee",
   "metadata": {},
   "source": [
    "# Liquid\n",
    "## Mainnet"
   ]
  },
  {
   "cell_type": "code",
   "execution_count": 9,
   "id": "2b5219b9",
   "metadata": {},
   "outputs": [
    {
     "name": "stdout",
     "output_type": "stream",
     "text": [
      "[2022-02-10 13:28:04.475435] [0x00007fca2a0fe740] [error]   assertion failure: ../src/session.cpp:init:44:\n",
      "[2022-02-10 13:28:04.482297] [0x00007fca2a0fe740] [info]    Connecting using version 0d24d00c to wss://liquidwss.greenaddress.it/v2/ws\n",
      "[2022-02-10 13:28:04.784686] [0x00007fca2a0fe740] [info]    /root/.blockstream/gdk/1130af3368afffe57f9d20223d84d5e3b.sqliteaesgcm loaded correctly\n",
      "[2022-02-10 13:28:04.785112] [0x00007fca2a0fe740] [info]    Deleting cached http data\n",
      "[2022-02-10 13:28:04.833997] [0x00007fca2a0fe740] [info]    Load blob ver 2 over 0\n"
     ]
    },
    {
     "data": {
      "text/plain": [
       "{'6f0279e9ed041c3d710a9f57d0c02928416460c4b722ae3457a11eec381c526d': 0}"
      ]
     },
     "execution_count": 9,
     "metadata": {},
     "output_type": "execute_result"
    }
   ],
   "source": [
    "import greenaddress\n",
    "try:\n",
    "    greenaddress.init({})\n",
    "except:\n",
    "    pass\n",
    "\n",
    "gdkMnemonic = 'order earth buddy render ocean produce bacon orchard congress law illness goat'\n",
    "if not greenaddress.validate_mnemonic(gdkMnemonic):\n",
    "    raise Exception(\"Invalid mnemonic.\")\n",
    "\n",
    "s = greenaddress.Session({'name': 'liquid', 'log_level': 'info'})\n",
    "\n",
    "s.login_user({}, {'mnemonic': gdkMnemonic}).resolve()\n",
    "s.get_balance({'subaccount': 0, 'num_confs': 0}).resolve()"
   ]
  },
  {
   "cell_type": "markdown",
   "id": "b10237d5",
   "metadata": {},
   "source": [
    "## Testnet"
   ]
  },
  {
   "cell_type": "code",
   "execution_count": 10,
   "id": "0519f817",
   "metadata": {},
   "outputs": [
    {
     "name": "stdout",
     "output_type": "stream",
     "text": [
      "[2022-02-10 13:28:05.054571] [0x00007fca2a0fe740] [error]   assertion failure: ../src/session.cpp:init:44:\n",
      "[2022-02-10 13:28:05.058981] [0x00007fca2a0fe740] [info]    Connecting using version 0d24d00c to wss://green-liquid-testnet.blockstream.com/v2/ws\n",
      "[2022-02-10 13:28:05.321554] [0x00007fca2a0fe740] [info]    /root/.blockstream/gdk/17df8f1a136fda0eeae3b80d31ab7439e.sqliteaesgcm loaded correctly\n",
      "[2022-02-10 13:28:05.383593] [0x00007fca2a0fe740] [info]    Load blob ver 2 over 0\n"
     ]
    },
    {
     "data": {
      "text/plain": [
       "{'144c654344aa716d6f3abcc1ca90e5641e4e2a7f633bc09fe3baf64585819a49': 0}"
      ]
     },
     "execution_count": 10,
     "metadata": {},
     "output_type": "execute_result"
    }
   ],
   "source": [
    "import greenaddress\n",
    "try:\n",
    "    greenaddress.init({})\n",
    "except:\n",
    "    pass\n",
    "\n",
    "gdkMnemonic = 'order earth buddy render ocean produce bacon orchard congress law illness goat'\n",
    "if not greenaddress.validate_mnemonic(gdkMnemonic):\n",
    "    raise Exception(\"Invalid mnemonic.\")\n",
    "\n",
    "s = greenaddress.Session({'name': 'testnet-liquid', 'log_level': 'info'})\n",
    "\n",
    "s.login_user({}, {'mnemonic': gdkMnemonic}).resolve()\n",
    "s.get_balance({'subaccount': 0, 'num_confs': 0}).resolve()"
   ]
  }
 ],
 "metadata": {
  "kernelspec": {
   "display_name": "Python 3 (ipykernel)",
   "language": "python",
   "name": "python3"
  },
  "language_info": {
   "codemirror_mode": {
    "name": "ipython",
    "version": 3
   },
   "file_extension": ".py",
   "mimetype": "text/x-python",
   "name": "python",
   "nbconvert_exporter": "python",
   "pygments_lexer": "ipython3",
   "version": "3.7.12"
  }
 },
 "nbformat": 4,
 "nbformat_minor": 5
}
