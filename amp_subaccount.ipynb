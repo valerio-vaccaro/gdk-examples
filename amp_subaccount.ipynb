{
 "cells": [
  {
   "cell_type": "markdown",
   "id": "c27a42ee",
   "metadata": {},
   "source": [
    "# Liquid\n",
    "## Mainnet"
   ]
  },
  {
   "cell_type": "code",
   "execution_count": 12,
   "id": "2b5219b9",
   "metadata": {},
   "outputs": [
    {
     "name": "stdout",
     "output_type": "stream",
     "text": [
      "[2022-02-10 22:03:46.636647] [0x00007f8789af8740] [error]   assertion failure: ../src/session.cpp:init:44:\n",
      "[2022-02-10 22:03:46.644013] [0x00007f8789af8740] [info]    Connecting using version 0d24d00c to wss://liquidwss.greenaddress.it/v2/ws\n",
      "[2022-02-10 22:03:47.212299] [0x00007f8789af8740] [info]    /root/.blockstream/gdk/1130af3368afffe57f9d20223d84d5e3b.sqliteaesgcm loaded correctly\n",
      "[2022-02-10 22:03:47.277608] [0x00007f8789af8740] [info]    Load blob ver 3 over 0\n"
     ]
    }
   ],
   "source": [
    "import greenaddress\n",
    "try:\n",
    "    greenaddress.init({})\n",
    "except:\n",
    "    pass\n",
    "\n",
    "gdkMnemonic = 'order earth buddy render ocean produce bacon orchard congress law illness goat'\n",
    "gdkSubaccount = 'AMP Account'\n",
    "if not greenaddress.validate_mnemonic(gdkMnemonic):\n",
    "    raise Exception(\"Invalid mnemonic.\")\n",
    "\n",
    "s = greenaddress.Session({'name': 'liquid', 'log_level': 'info'})\n",
    "\n",
    "s.login_user({}, {'mnemonic': gdkMnemonic}).resolve()\n",
    "\n",
    "subaccount = -1\n",
    "subaccounts = s.get_subaccounts().resolve()\n",
    "for sub in subaccounts['subaccounts']:\n",
    "    if sub['name'] == gdkSubaccount:\n",
    "        if sub['type'] != '2of2_no_recovery':\n",
    "            pass\n",
    "        subaccount = sub['pointer']\n",
    "        break\n",
    "\n",
    "if subaccount == -1:\n",
    "    print('Missing subaccount')\n",
    "else:\n",
    "    res = s.get_balance({'subaccount': subaccount, 'num_confs': 0}).resolve()\n",
    "    print(res)\n",
    "    \n"
   ]
  },
  {
   "cell_type": "markdown",
   "id": "b10237d5",
   "metadata": {},
   "source": [
    "## Testnet"
   ]
  },
  {
   "cell_type": "code",
   "execution_count": 15,
   "id": "0519f817",
   "metadata": {},
   "outputs": [
    {
     "name": "stdout",
     "output_type": "stream",
     "text": [
      "[2022-02-10 22:10:28.279411] [0x00007f8789af8740] [error]   assertion failure: ../src/session.cpp:init:44:\n",
      "[2022-02-10 22:10:28.284660] [0x00007f8789af8740] [info]    Connecting using version 0d24d00c to wss://green-liquid-testnet.blockstream.com/v2/ws\n",
      "[2022-02-10 22:10:28.545699] [0x00007f8789af8740] [info]    /root/.blockstream/gdk/17df8f1a136fda0eeae3b80d31ab7439e.sqliteaesgcm loaded correctly\n",
      "[2022-02-10 22:10:28.612459] [0x00007f8789af8740] [info]    Load blob ver 4 over 0\n",
      "{'144c654344aa716d6f3abcc1ca90e5641e4e2a7f633bc09fe3baf64585819a49': 100000, 'bea126b86ac7f7b6fc4709d1bb1a8482514a68d35633a5580d50b18504d5c322': 1}\n"
     ]
    }
   ],
   "source": [
    "import greenaddress\n",
    "try:\n",
    "    greenaddress.init({})\n",
    "except:\n",
    "    pass\n",
    "\n",
    "gdkMnemonic = 'order earth buddy render ocean produce bacon orchard congress law illness goat'\n",
    "gdkSubaccount = 'AMP Account'\n",
    "if not greenaddress.validate_mnemonic(gdkMnemonic):\n",
    "    raise Exception(\"Invalid mnemonic.\")\n",
    "\n",
    "s = greenaddress.Session({'name': 'testnet-liquid', 'log_level': 'info'})\n",
    "\n",
    "s.login_user({}, {'mnemonic': gdkMnemonic}).resolve()\n",
    "\n",
    "subaccount = -1\n",
    "subaccounts = s.get_subaccounts().resolve()\n",
    "for sub in subaccounts['subaccounts']:\n",
    "    if sub['name'] == gdkSubaccount:\n",
    "        if sub['type'] != '2of2_no_recovery':\n",
    "            pass\n",
    "        subaccount = sub['pointer']\n",
    "        break\n",
    "\n",
    "if subaccount == -1:\n",
    "    print('Missing subaccount')\n",
    "else:\n",
    "    res = s.get_balance({'subaccount': subaccount, 'num_confs': 0}).resolve()\n",
    "    print(res)\n",
    "\n"
   ]
  },
  {
   "cell_type": "code",
   "execution_count": null,
   "id": "c9072400",
   "metadata": {},
   "outputs": [],
   "source": []
  }
 ],
 "metadata": {
  "kernelspec": {
   "display_name": "Python 3 (ipykernel)",
   "language": "python",
   "name": "python3"
  },
  "language_info": {
   "codemirror_mode": {
    "name": "ipython",
    "version": 3
   },
   "file_extension": ".py",
   "mimetype": "text/x-python",
   "name": "python",
   "nbconvert_exporter": "python",
   "pygments_lexer": "ipython3",
   "version": "3.7.12"
  }
 },
 "nbformat": 4,
 "nbformat_minor": 5
}
