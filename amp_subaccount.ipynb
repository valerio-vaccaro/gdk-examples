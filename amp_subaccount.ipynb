{
 "cells": [
  {
   "cell_type": "markdown",
   "id": "c27a42ee",
   "metadata": {},
   "source": [
    "# Liquid\n",
    "## Mainnet"
   ]
  },
  {
   "cell_type": "code",
   "execution_count": 3,
   "id": "2b5219b9",
   "metadata": {},
   "outputs": [
    {
     "name": "stdout",
     "output_type": "stream",
     "text": [
      "{'6f0279e9ed041c3d710a9f57d0c02928416460c4b722ae3457a11eec381c526d': 0}\n"
     ]
    }
   ],
   "source": [
    "import greenaddress\n",
    "try:\n",
    "    greenaddress.init({})\n",
    "except:\n",
    "    pass\n",
    "\n",
    "gdkMnemonic = 'order earth buddy render ocean produce bacon orchard congress law illness goat'\n",
    "gdkSubaccount = 'AMP Account'\n",
    "if not greenaddress.validate_mnemonic(gdkMnemonic):\n",
    "    raise Exception(\"Invalid mnemonic.\")\n",
    "\n",
    "s = greenaddress.Session({'name': 'liquid', 'log_level': 'info'})\n",
    "\n",
    "s.login_user({}, {'mnemonic': gdkMnemonic}).resolve()\n",
    "\n",
    "subaccount = -1\n",
    "subaccounts = s.get_subaccounts().resolve()\n",
    "for sub in subaccounts['subaccounts']:\n",
    "    if sub['name'] == gdkSubaccount:\n",
    "        if sub['type'] != '2of2_no_recovery':\n",
    "            pass\n",
    "        subaccount = sub['pointer']\n",
    "        break\n",
    "\n",
    "if subaccount == -1:\n",
    "    print('Missing subaccount')\n",
    "else:\n",
    "    res = s.get_balance({'subaccount': subaccount, 'num_confs': 0}).resolve()\n",
    "    print(res)\n",
    "    \n"
   ]
  },
  {
   "cell_type": "markdown",
   "id": "b10237d5",
   "metadata": {},
   "source": [
    "## Testnet"
   ]
  },
  {
   "cell_type": "code",
   "execution_count": 4,
   "id": "0519f817",
   "metadata": {},
   "outputs": [
    {
     "name": "stdout",
     "output_type": "stream",
     "text": [
      "{'144c654344aa716d6f3abcc1ca90e5641e4e2a7f633bc09fe3baf64585819a49': 100000, 'bea126b86ac7f7b6fc4709d1bb1a8482514a68d35633a5580d50b18504d5c322': 1}\n"
     ]
    }
   ],
   "source": [
    "import greenaddress\n",
    "try:\n",
    "    greenaddress.init({})\n",
    "except:\n",
    "    pass\n",
    "\n",
    "gdkMnemonic = 'order earth buddy render ocean produce bacon orchard congress law illness goat'\n",
    "gdkSubaccount = 'AMP Account'\n",
    "if not greenaddress.validate_mnemonic(gdkMnemonic):\n",
    "    raise Exception(\"Invalid mnemonic.\")\n",
    "\n",
    "s = greenaddress.Session({'name': 'testnet-liquid', 'log_level': 'info'})\n",
    "\n",
    "s.login_user({}, {'mnemonic': gdkMnemonic}).resolve()\n",
    "\n",
    "subaccount = -1\n",
    "subaccounts = s.get_subaccounts().resolve()\n",
    "for sub in subaccounts['subaccounts']:\n",
    "    if sub['name'] == gdkSubaccount:\n",
    "        if sub['type'] != '2of2_no_recovery':\n",
    "            pass\n",
    "        subaccount = sub['pointer']\n",
    "        break\n",
    "\n",
    "if subaccount == -1:\n",
    "    print('Missing subaccount')\n",
    "else:\n",
    "    res = s.get_balance({'subaccount': subaccount, 'num_confs': 0}).resolve()\n",
    "    print(res)\n",
    "\n"
   ]
  },
  {
   "cell_type": "code",
   "execution_count": null,
   "id": "c9072400",
   "metadata": {},
   "outputs": [],
   "source": []
  }
 ],
 "metadata": {
  "interpreter": {
   "hash": "f9f85f796d01129d0dd105a088854619f454435301f6ffec2fea96ecbd9be4ac"
  },
  "kernelspec": {
   "display_name": "Python 3.9.12 64-bit",
   "language": "python",
   "name": "python3"
  },
  "language_info": {
   "codemirror_mode": {
    "name": "ipython",
    "version": 3
   },
   "file_extension": ".py",
   "mimetype": "text/x-python",
   "name": "python",
   "nbconvert_exporter": "python",
   "pygments_lexer": "ipython3",
   "version": "3.9.12"
  }
 },
 "nbformat": 4,
 "nbformat_minor": 5
}
