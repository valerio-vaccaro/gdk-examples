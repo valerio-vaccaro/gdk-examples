{
 "cells": [
  {
   "cell_type": "markdown",
   "id": "62685496",
   "metadata": {},
   "source": [
    "# Bitcoin\n",
    "## Mainnet multisig"
   ]
  },
  {
   "cell_type": "code",
   "execution_count": 12,
   "id": "35981675",
   "metadata": {},
   "outputs": [
    {
     "data": {
      "text/plain": [
       "{'subaccounts': [{'hidden': False,\n",
       "   'name': '',\n",
       "   'pointer': 0,\n",
       "   'receiving_id': 'GAF18XTgoePwP7DgC8Z4VwTd46o1y',\n",
       "   'recovery_chain_code': '',\n",
       "   'recovery_pub_key': '',\n",
       "   'recovery_xpub': '',\n",
       "   'required_ca': 0,\n",
       "   'type': '2of2'},\n",
       "  {'hidden': False,\n",
       "   'name': 'prova',\n",
       "   'pointer': 1,\n",
       "   'receiving_id': 'GA5LjK6fqmLtp6Mz8F1fuxdtMEWxG',\n",
       "   'recovery_chain_code': '',\n",
       "   'recovery_pub_key': '',\n",
       "   'recovery_xpub': '',\n",
       "   'required_ca': 0,\n",
       "   'type': '2of2'},\n",
       "  {'hidden': False,\n",
       "   'name': 'prova',\n",
       "   'pointer': 2,\n",
       "   'receiving_id': 'GA3R313B8U3H2qiVuHVwTCTjDPLHMQ',\n",
       "   'recovery_chain_code': '',\n",
       "   'recovery_pub_key': '',\n",
       "   'recovery_xpub': '',\n",
       "   'required_ca': 0,\n",
       "   'type': '2of2'},\n",
       "  {'hidden': False,\n",
       "   'name': 'example_1',\n",
       "   'pointer': 3,\n",
       "   'receiving_id': 'GAxZcdG5PiyQJ7BxyCBi6DrJxm71S',\n",
       "   'recovery_chain_code': '',\n",
       "   'recovery_pub_key': '',\n",
       "   'recovery_xpub': '',\n",
       "   'required_ca': 0,\n",
       "   'type': '2of2'},\n",
       "  {'hidden': False,\n",
       "   'name': 'example_1',\n",
       "   'pointer': 4,\n",
       "   'receiving_id': 'GA21X87wMKQyhhzEucwyQW9yJdjsao',\n",
       "   'recovery_chain_code': '',\n",
       "   'recovery_pub_key': '',\n",
       "   'recovery_xpub': '',\n",
       "   'required_ca': 0,\n",
       "   'type': '2of2'}]}"
      ]
     },
     "execution_count": 12,
     "metadata": {},
     "output_type": "execute_result"
    }
   ],
   "source": [
    "import greenaddress\n",
    "import json\n",
    "try:\n",
    "    greenaddress.init({})\n",
    "except:\n",
    "    pass\n",
    "\n",
    "gdkMnemonic = 'order earth buddy render ocean produce bacon orchard congress law illness goat'\n",
    "gdkMnemonic_two = 'weird short bitter noble bullet syrup camp bachelor waste east exit number'\n",
    "if not greenaddress.validate_mnemonic(gdkMnemonic):\n",
    "    raise Exception(\"Invalid mnemonic.\")\n",
    "        \n",
    "s = greenaddress.Session({'name': 'mainnet', 'log_level': 'info'})\n",
    "\n",
    "s.login_user({}, {'mnemonic': gdkMnemonic}).resolve()\n",
    "\n",
    "subaccounts = s.get_subaccounts().resolve()\n",
    "subaccounts"
   ]
  },
  {
   "cell_type": "code",
   "execution_count": 13,
   "id": "a73a2b96",
   "metadata": {},
   "outputs": [
    {
     "data": {
      "text/plain": [
       "{'hidden': False,\n",
       " 'name': 'example_1',\n",
       " 'pointer': 5,\n",
       " 'receiving_id': 'GA24wP8Egtjui9xaVY6AE62yUsSK77',\n",
       " 'recovery_chain_code': '',\n",
       " 'recovery_pub_key': '',\n",
       " 'recovery_xpub': '',\n",
       " 'required_ca': 0,\n",
       " 'type': '2of2'}"
      ]
     },
     "execution_count": 13,
     "metadata": {},
     "output_type": "execute_result"
    }
   ],
   "source": [
    "s.create_subaccount({'name': 'example_1', 'type': '2of2'}).resolve()\n"
   ]
  },
  {
   "cell_type": "code",
   "execution_count": 15,
   "id": "2438ee96",
   "metadata": {},
   "outputs": [
    {
     "data": {
      "text/plain": [
       "{'hidden': False,\n",
       " 'name': 'example_2',\n",
       " 'pointer': 7,\n",
       " 'receiving_id': 'GA3k9bCX3raXrF6ccfES6fFYTKC7G8',\n",
       " 'recovery_chain_code': '4c2f8a634b78a63c85ed09401263ea21df468d9c900b8da4d71d48d3f20aac36',\n",
       " 'recovery_pub_key': '032c6d395c41f874e6b8bbe1ed46502e7ffc52fc6c42f5d7b6410b6d8b5381758a',\n",
       " 'recovery_xpub': 'xpub69mdgvyMbhUaSxmHWbQxuaK8PNX3JjjBp9PxcELKftPJLgtRpsWgVSCmXMYuW5kWRm1fZCAXwK4jNsM48CcR4LffiEHn4GGKSU9sWmnpD7M',\n",
       " 'required_ca': 0,\n",
       " 'type': '2of3'}"
      ]
     },
     "execution_count": 15,
     "metadata": {},
     "output_type": "execute_result"
    }
   ],
   "source": [
    "s.create_subaccount({'name': 'example_2', 'type': '2of3', 'recovery_mnemonic':gdkMnemonic_two}).resolve()"
   ]
  },
  {
   "cell_type": "markdown",
   "id": "8553c63c",
   "metadata": {},
   "source": [
    "## Mainnet singlesig"
   ]
  },
  {
   "cell_type": "code",
   "execution_count": 8,
   "id": "7a4b019f",
   "metadata": {},
   "outputs": [
    {
     "data": {
      "text/plain": [
       "{'subaccounts': [{'bip44_discovered': False,\n",
       "   'hidden': False,\n",
       "   'name': '',\n",
       "   'pointer': 0,\n",
       "   'receiving_id': '',\n",
       "   'required_ca': 0,\n",
       "   'type': 'p2sh-p2wpkh'},\n",
       "  {'bip44_discovered': False,\n",
       "   'hidden': False,\n",
       "   'name': 'example_2',\n",
       "   'pointer': 1,\n",
       "   'receiving_id': '',\n",
       "   'required_ca': 0,\n",
       "   'type': 'p2wpkh'},\n",
       "  {'bip44_discovered': False,\n",
       "   'hidden': False,\n",
       "   'name': 'example_1',\n",
       "   'pointer': 2,\n",
       "   'receiving_id': '',\n",
       "   'required_ca': 0,\n",
       "   'type': 'p2pkh'}]}"
      ]
     },
     "execution_count": 8,
     "metadata": {},
     "output_type": "execute_result"
    }
   ],
   "source": [
    "import greenaddress\n",
    "import json\n",
    "try:\n",
    "    greenaddress.init({})\n",
    "except:\n",
    "    pass\n",
    "\n",
    "gdkMnemonic = 'order earth buddy render ocean produce bacon orchard congress law illness goat'\n",
    "if not greenaddress.validate_mnemonic(gdkMnemonic):\n",
    "    raise Exception(\"Invalid mnemonic.\")\n",
    "        \n",
    "s = greenaddress.Session({'name': 'electrum-mainnet', 'log_level': 'info'})\n",
    "\n",
    "s.login_user({}, {'mnemonic': gdkMnemonic}).resolve()\n",
    "\n",
    "subaccounts = s.get_subaccounts().resolve()\n",
    "subaccounts"
   ]
  },
  {
   "cell_type": "code",
   "execution_count": 9,
   "id": "ac1f4b2e",
   "metadata": {},
   "outputs": [
    {
     "ename": "RuntimeError",
     "evalue": "cannot create a new subaccount while the last one is unused",
     "output_type": "error",
     "traceback": [
      "\u001b[0;31m---------------------------------------------------------------------------\u001b[0m",
      "\u001b[0;31mRuntimeError\u001b[0m                              Traceback (most recent call last)",
      "\u001b[1;32m/home/valerio/github/gdk-examples/subaccounts.ipynb Cell 5'\u001b[0m in \u001b[0;36m<cell line: 1>\u001b[0;34m()\u001b[0m\n\u001b[0;32m----> <a href='vscode-notebook-cell:/home/valerio/github/gdk-examples/subaccounts.ipynb#ch0000020?line=0'>1</a>\u001b[0m s\u001b[39m.\u001b[39;49mcreate_subaccount({\u001b[39m'\u001b[39;49m\u001b[39mname\u001b[39;49m\u001b[39m'\u001b[39;49m: \u001b[39m'\u001b[39;49m\u001b[39mexample_1\u001b[39;49m\u001b[39m'\u001b[39;49m, \u001b[39m'\u001b[39;49m\u001b[39mtype\u001b[39;49m\u001b[39m'\u001b[39;49m: \u001b[39m'\u001b[39;49m\u001b[39mp2pkh\u001b[39;49m\u001b[39m'\u001b[39;49m})\u001b[39m.\u001b[39;49mresolve()\n",
      "File \u001b[0;32m~/.local/lib/python3.9/site-packages/greenaddress/__init__.py:339\u001b[0m, in \u001b[0;36mCall.resolve\u001b[0;34m(self, select_method_fn, resolve_code_fn)\u001b[0m\n\u001b[1;32m    337\u001b[0m \u001b[39mif\u001b[39;00m state \u001b[39m==\u001b[39m \u001b[39m'\u001b[39m\u001b[39merror\u001b[39m\u001b[39m'\u001b[39m:\n\u001b[1;32m    338\u001b[0m     \u001b[39mself\u001b[39m\u001b[39m.\u001b[39mcall_obj \u001b[39m=\u001b[39m \u001b[39mNone\u001b[39;00m\n\u001b[0;32m--> 339\u001b[0m     \u001b[39mraise\u001b[39;00m \u001b[39mRuntimeError\u001b[39;00m(status[\u001b[39m'\u001b[39m\u001b[39merror\u001b[39m\u001b[39m'\u001b[39m])\n\u001b[1;32m    340\u001b[0m \u001b[39mif\u001b[39;00m state \u001b[39m==\u001b[39m \u001b[39m'\u001b[39m\u001b[39mdone\u001b[39m\u001b[39m'\u001b[39m:\n\u001b[1;32m    341\u001b[0m     \u001b[39mself\u001b[39m\u001b[39m.\u001b[39mcall_obj \u001b[39m=\u001b[39m \u001b[39mNone\u001b[39;00m\n",
      "\u001b[0;31mRuntimeError\u001b[0m: cannot create a new subaccount while the last one is unused"
     ]
    }
   ],
   "source": [
    "s.create_subaccount({'name': 'example_1', 'type': 'p2pkh'}).resolve()\n"
   ]
  },
  {
   "cell_type": "code",
   "execution_count": 10,
   "id": "6c98c47f",
   "metadata": {},
   "outputs": [
    {
     "ename": "RuntimeError",
     "evalue": "cannot create a new subaccount while the last one is unused",
     "output_type": "error",
     "traceback": [
      "\u001b[0;31m---------------------------------------------------------------------------\u001b[0m",
      "\u001b[0;31mRuntimeError\u001b[0m                              Traceback (most recent call last)",
      "\u001b[1;32m/home/valerio/github/gdk-examples/subaccounts.ipynb Cell 6'\u001b[0m in \u001b[0;36m<cell line: 1>\u001b[0;34m()\u001b[0m\n\u001b[0;32m----> <a href='vscode-notebook-cell:/home/valerio/github/gdk-examples/subaccounts.ipynb#ch0000019?line=0'>1</a>\u001b[0m s\u001b[39m.\u001b[39;49mcreate_subaccount({\u001b[39m'\u001b[39;49m\u001b[39mname\u001b[39;49m\u001b[39m'\u001b[39;49m: \u001b[39m'\u001b[39;49m\u001b[39mexample_2\u001b[39;49m\u001b[39m'\u001b[39;49m, \u001b[39m'\u001b[39;49m\u001b[39mtype\u001b[39;49m\u001b[39m'\u001b[39;49m: \u001b[39m'\u001b[39;49m\u001b[39mp2wpkh\u001b[39;49m\u001b[39m'\u001b[39;49m})\u001b[39m.\u001b[39;49mresolve()\n",
      "File \u001b[0;32m~/.local/lib/python3.9/site-packages/greenaddress/__init__.py:339\u001b[0m, in \u001b[0;36mCall.resolve\u001b[0;34m(self, select_method_fn, resolve_code_fn)\u001b[0m\n\u001b[1;32m    337\u001b[0m \u001b[39mif\u001b[39;00m state \u001b[39m==\u001b[39m \u001b[39m'\u001b[39m\u001b[39merror\u001b[39m\u001b[39m'\u001b[39m:\n\u001b[1;32m    338\u001b[0m     \u001b[39mself\u001b[39m\u001b[39m.\u001b[39mcall_obj \u001b[39m=\u001b[39m \u001b[39mNone\u001b[39;00m\n\u001b[0;32m--> 339\u001b[0m     \u001b[39mraise\u001b[39;00m \u001b[39mRuntimeError\u001b[39;00m(status[\u001b[39m'\u001b[39m\u001b[39merror\u001b[39m\u001b[39m'\u001b[39m])\n\u001b[1;32m    340\u001b[0m \u001b[39mif\u001b[39;00m state \u001b[39m==\u001b[39m \u001b[39m'\u001b[39m\u001b[39mdone\u001b[39m\u001b[39m'\u001b[39m:\n\u001b[1;32m    341\u001b[0m     \u001b[39mself\u001b[39m\u001b[39m.\u001b[39mcall_obj \u001b[39m=\u001b[39m \u001b[39mNone\u001b[39;00m\n",
      "\u001b[0;31mRuntimeError\u001b[0m: cannot create a new subaccount while the last one is unused"
     ]
    }
   ],
   "source": [
    "s.create_subaccount({'name': 'example_2', 'type': 'p2wpkh'}).resolve()\n"
   ]
  },
  {
   "cell_type": "code",
   "execution_count": 11,
   "id": "61e3d3aa",
   "metadata": {},
   "outputs": [
    {
     "ename": "RuntimeError",
     "evalue": "cannot create a new subaccount while the last one is unused",
     "output_type": "error",
     "traceback": [
      "\u001b[0;31m---------------------------------------------------------------------------\u001b[0m",
      "\u001b[0;31mRuntimeError\u001b[0m                              Traceback (most recent call last)",
      "\u001b[1;32m/home/valerio/github/gdk-examples/subaccounts.ipynb Cell 7'\u001b[0m in \u001b[0;36m<cell line: 1>\u001b[0;34m()\u001b[0m\n\u001b[0;32m----> <a href='vscode-notebook-cell:/home/valerio/github/gdk-examples/subaccounts.ipynb#ch0000018?line=0'>1</a>\u001b[0m s\u001b[39m.\u001b[39;49mcreate_subaccount({\u001b[39m'\u001b[39;49m\u001b[39mname\u001b[39;49m\u001b[39m'\u001b[39;49m: \u001b[39m'\u001b[39;49m\u001b[39mexample_3\u001b[39;49m\u001b[39m'\u001b[39;49m, \u001b[39m'\u001b[39;49m\u001b[39mtype\u001b[39;49m\u001b[39m'\u001b[39;49m: \u001b[39m'\u001b[39;49m\u001b[39mp2sh-p2wpkh\u001b[39;49m\u001b[39m'\u001b[39;49m})\u001b[39m.\u001b[39;49mresolve()\n",
      "File \u001b[0;32m~/.local/lib/python3.9/site-packages/greenaddress/__init__.py:339\u001b[0m, in \u001b[0;36mCall.resolve\u001b[0;34m(self, select_method_fn, resolve_code_fn)\u001b[0m\n\u001b[1;32m    337\u001b[0m \u001b[39mif\u001b[39;00m state \u001b[39m==\u001b[39m \u001b[39m'\u001b[39m\u001b[39merror\u001b[39m\u001b[39m'\u001b[39m:\n\u001b[1;32m    338\u001b[0m     \u001b[39mself\u001b[39m\u001b[39m.\u001b[39mcall_obj \u001b[39m=\u001b[39m \u001b[39mNone\u001b[39;00m\n\u001b[0;32m--> 339\u001b[0m     \u001b[39mraise\u001b[39;00m \u001b[39mRuntimeError\u001b[39;00m(status[\u001b[39m'\u001b[39m\u001b[39merror\u001b[39m\u001b[39m'\u001b[39m])\n\u001b[1;32m    340\u001b[0m \u001b[39mif\u001b[39;00m state \u001b[39m==\u001b[39m \u001b[39m'\u001b[39m\u001b[39mdone\u001b[39m\u001b[39m'\u001b[39m:\n\u001b[1;32m    341\u001b[0m     \u001b[39mself\u001b[39m\u001b[39m.\u001b[39mcall_obj \u001b[39m=\u001b[39m \u001b[39mNone\u001b[39;00m\n",
      "\u001b[0;31mRuntimeError\u001b[0m: cannot create a new subaccount while the last one is unused"
     ]
    }
   ],
   "source": [
    "s.create_subaccount({'name': 'example_3', 'type': 'p2sh-p2wpkh'}).resolve()"
   ]
  },
  {
   "cell_type": "markdown",
   "id": "6d953974",
   "metadata": {},
   "source": [
    "## Testnet multisig"
   ]
  },
  {
   "cell_type": "code",
   "execution_count": 5,
   "id": "2f13d5e8",
   "metadata": {},
   "outputs": [
    {
     "data": {
      "text/plain": [
       "{'subaccounts': [{'hidden': False,\n",
       "   'name': '',\n",
       "   'pointer': 0,\n",
       "   'receiving_id': 'GA3VeWFeG9YTAt4bEHDfgtpmaPDnks',\n",
       "   'recovery_chain_code': '',\n",
       "   'recovery_pub_key': '',\n",
       "   'recovery_xpub': '',\n",
       "   'required_ca': 0,\n",
       "   'type': '2of2'},\n",
       "  {'hidden': False,\n",
       "   'name': 'example_1',\n",
       "   'pointer': 1,\n",
       "   'receiving_id': 'GA4DcHx4EvoLmfCtRDcF6Cj2dqiqjU',\n",
       "   'recovery_chain_code': '',\n",
       "   'recovery_pub_key': '',\n",
       "   'recovery_xpub': '',\n",
       "   'required_ca': 0,\n",
       "   'type': '2of2'},\n",
       "  {'hidden': False,\n",
       "   'name': 'example_1',\n",
       "   'pointer': 2,\n",
       "   'receiving_id': 'GAcAdoGaJUP6wPeqJbd9qhxJySMVB',\n",
       "   'recovery_chain_code': '',\n",
       "   'recovery_pub_key': '',\n",
       "   'recovery_xpub': '',\n",
       "   'required_ca': 0,\n",
       "   'type': '2of2'},\n",
       "  {'hidden': False,\n",
       "   'name': 'example_1',\n",
       "   'pointer': 3,\n",
       "   'receiving_id': 'GA4DCjT9aWXPS6HwMEmakAouWb4s6F',\n",
       "   'recovery_chain_code': '',\n",
       "   'recovery_pub_key': '',\n",
       "   'recovery_xpub': '',\n",
       "   'required_ca': 0,\n",
       "   'type': '2of2'},\n",
       "  {'hidden': False,\n",
       "   'name': 'example_2',\n",
       "   'pointer': 4,\n",
       "   'receiving_id': 'GA3bhLn4fCLTmHfkHF8aLX52Cshk2j',\n",
       "   'recovery_chain_code': '5bdadbc9c7aa81d1bbafbcab87b9670148b6256cec655023df24b1f9037d8db8',\n",
       "   'recovery_pub_key': '02e47c04badf9df1f45f35640718a293513886e837bf547ff9fd79791f73ad7092',\n",
       "   'recovery_xpub': 'tpubDA9GDAo3JyS2bGX1Sw1tdZ2dDBD9w81VpwhjNirDKVpk5cGwameACuUiRhjRHjsqRgMBZZSgv4NNruPMwhL5dyoeC5x5VrW7owdrFC1bDgC',\n",
       "   'required_ca': 0,\n",
       "   'type': '2of3'},\n",
       "  {'hidden': False,\n",
       "   'name': 'example_1',\n",
       "   'pointer': 5,\n",
       "   'receiving_id': 'GA2gdsXdYZ3DYFskWFUgi9QMactoQP',\n",
       "   'recovery_chain_code': '',\n",
       "   'recovery_pub_key': '',\n",
       "   'recovery_xpub': '',\n",
       "   'required_ca': 0,\n",
       "   'type': '2of2'},\n",
       "  {'hidden': False,\n",
       "   'name': 'example_2',\n",
       "   'pointer': 6,\n",
       "   'receiving_id': 'GA24qGPw6fK6EHnLjqcDge5GASnDfc',\n",
       "   'recovery_chain_code': '37ab5dacbb8a9a62b15d26dfdee1186bafabb636b2a7c05ff35fc86de7971c28',\n",
       "   'recovery_pub_key': '037bae056f4d3799fec152d55144c40ce955fb590d454fe79d10622c7459eca5ec',\n",
       "   'recovery_xpub': 'tpubDA9GDAo3JyS2g1H2f6mMr9Hg9umi3Z1HVSPedfeWargmSopRUPJeGEM4MsYcFE57b3yURUyRbpinCMEBX8SYQzZD4x2PvzX3xHjrUmZ324r',\n",
       "   'required_ca': 0,\n",
       "   'type': '2of3'}]}"
      ]
     },
     "execution_count": 5,
     "metadata": {},
     "output_type": "execute_result"
    }
   ],
   "source": [
    "import greenaddress\n",
    "try:\n",
    "    greenaddress.init({})\n",
    "except:\n",
    "    pass\n",
    "\n",
    "gdkMnemonic = 'order earth buddy render ocean produce bacon orchard congress law illness goat'\n",
    "gdkMnemonic_two = 'weird short bitter noble bullet syrup camp bachelor waste east exit number'\n",
    "if not greenaddress.validate_mnemonic(gdkMnemonic):\n",
    "    raise Exception(\"Invalid mnemonic.\")\n",
    "\n",
    "s = greenaddress.Session({'name': 'testnet', 'log_level': 'info'})\n",
    "\n",
    "s.login_user({}, {'mnemonic': gdkMnemonic}).resolve()\n",
    "\n",
    "subaccounts = s.get_subaccounts().resolve()\n",
    "subaccounts"
   ]
  },
  {
   "cell_type": "code",
   "execution_count": 6,
   "id": "0db705d7",
   "metadata": {},
   "outputs": [
    {
     "data": {
      "text/plain": [
       "{'hidden': False,\n",
       " 'name': 'example_1',\n",
       " 'pointer': 7,\n",
       " 'receiving_id': 'GA4RJzEbPZi5xcava3ibztLVhhumh9',\n",
       " 'recovery_chain_code': '',\n",
       " 'recovery_pub_key': '',\n",
       " 'recovery_xpub': '',\n",
       " 'required_ca': 0,\n",
       " 'type': '2of2'}"
      ]
     },
     "execution_count": 6,
     "metadata": {},
     "output_type": "execute_result"
    }
   ],
   "source": [
    "s.create_subaccount({'name': 'example_1', 'type': '2of2'}).resolve()"
   ]
  },
  {
   "cell_type": "code",
   "execution_count": 7,
   "id": "42c52238",
   "metadata": {},
   "outputs": [
    {
     "data": {
      "text/plain": [
       "{'hidden': False,\n",
       " 'name': 'example_2',\n",
       " 'pointer': 8,\n",
       " 'receiving_id': 'GAZA3uEM86J6APmZ8ghkQu3NkEvE1',\n",
       " 'recovery_chain_code': '273a7c843f19991d687586d4924b8353846fd479f14463951076d477ea2cb481',\n",
       " 'recovery_pub_key': '03d0fd3e8898956c6bf5808819853d23eda4a07eccead07ef3eb3fab636b92d101',\n",
       " 'recovery_xpub': 'tpubDA9GDAo3JyS2kwSLXmhvrp3xKnGaAMD9yG7AmLGrPg2WE1DhrXSfPo2wXwTWXnzytAvifu1q6HyjhTaxW6Fd4RUGBQsrS3kgYSrcfryHEHf',\n",
       " 'required_ca': 0,\n",
       " 'type': '2of3'}"
      ]
     },
     "execution_count": 7,
     "metadata": {},
     "output_type": "execute_result"
    }
   ],
   "source": [
    "s.create_subaccount({'name': 'example_2', 'type': '2of3', 'recovery_mnemonic':gdkMnemonic_two}).resolve()"
   ]
  },
  {
   "cell_type": "markdown",
   "id": "3b48c141",
   "metadata": {},
   "source": [
    "## Testnet singlesig"
   ]
  },
  {
   "cell_type": "code",
   "execution_count": 25,
   "id": "0aacba40",
   "metadata": {},
   "outputs": [
    {
     "data": {
      "text/plain": [
       "{'subaccounts': [{'bip44_discovered': False,\n",
       "   'hidden': False,\n",
       "   'name': '',\n",
       "   'pointer': 0,\n",
       "   'receiving_id': '',\n",
       "   'required_ca': 0,\n",
       "   'type': 'p2sh-p2wpkh'}]}"
      ]
     },
     "execution_count": 25,
     "metadata": {},
     "output_type": "execute_result"
    }
   ],
   "source": [
    "import greenaddress\n",
    "try:\n",
    "    greenaddress.init({})\n",
    "except:\n",
    "    pass\n",
    "\n",
    "gdkMnemonic = 'order earth buddy render ocean produce bacon orchard congress law illness goat'\n",
    "if not greenaddress.validate_mnemonic(gdkMnemonic):\n",
    "    raise Exception(\"Invalid mnemonic.\")\n",
    "\n",
    "s = greenaddress.Session({'name': 'electrum-testnet', 'log_level': 'info'})\n",
    "\n",
    "s.login_user({}, {'mnemonic': gdkMnemonic}).resolve()\n",
    "\n",
    "subaccounts = s.get_subaccounts().resolve()\n",
    "subaccounts"
   ]
  },
  {
   "cell_type": "code",
   "execution_count": 26,
   "id": "ba575a38",
   "metadata": {},
   "outputs": [
    {
     "data": {
      "text/plain": [
       "{'bip44_discovered': False,\n",
       " 'hidden': False,\n",
       " 'name': 'example_1',\n",
       " 'pointer': 2,\n",
       " 'receiving_id': '',\n",
       " 'required_ca': 0,\n",
       " 'type': 'p2pkh'}"
      ]
     },
     "execution_count": 26,
     "metadata": {},
     "output_type": "execute_result"
    }
   ],
   "source": [
    "s.create_subaccount({'name': 'example_1', 'type': 'p2pkh'}).resolve()"
   ]
  },
  {
   "cell_type": "code",
   "execution_count": 27,
   "id": "4eb461a9",
   "metadata": {},
   "outputs": [
    {
     "data": {
      "text/plain": [
       "{'bip44_discovered': False,\n",
       " 'hidden': False,\n",
       " 'name': 'example_2',\n",
       " 'pointer': 1,\n",
       " 'receiving_id': '',\n",
       " 'required_ca': 0,\n",
       " 'type': 'p2wpkh'}"
      ]
     },
     "execution_count": 27,
     "metadata": {},
     "output_type": "execute_result"
    }
   ],
   "source": [
    "s.create_subaccount({'name': 'example_2', 'type': 'p2wpkh'}).resolve()"
   ]
  },
  {
   "cell_type": "code",
   "execution_count": 28,
   "id": "b072dfb6",
   "metadata": {},
   "outputs": [
    {
     "ename": "RuntimeError",
     "evalue": "cannot create a new subaccount while the last one is unused",
     "output_type": "error",
     "traceback": [
      "\u001b[0;31m---------------------------------------------------------------------------\u001b[0m",
      "\u001b[0;31mRuntimeError\u001b[0m                              Traceback (most recent call last)",
      "\u001b[1;32m/home/valerio/github/gdk-examples/subaccounts.ipynb Cell 18'\u001b[0m in \u001b[0;36m<cell line: 1>\u001b[0;34m()\u001b[0m\n\u001b[0;32m----> <a href='vscode-notebook-cell:/home/valerio/github/gdk-examples/subaccounts.ipynb#ch0000027?line=0'>1</a>\u001b[0m s\u001b[39m.\u001b[39;49mcreate_subaccount({\u001b[39m'\u001b[39;49m\u001b[39mname\u001b[39;49m\u001b[39m'\u001b[39;49m: \u001b[39m'\u001b[39;49m\u001b[39mexample_3\u001b[39;49m\u001b[39m'\u001b[39;49m, \u001b[39m'\u001b[39;49m\u001b[39mtype\u001b[39;49m\u001b[39m'\u001b[39;49m: \u001b[39m'\u001b[39;49m\u001b[39mp2sh-p2wpkh\u001b[39;49m\u001b[39m'\u001b[39;49m})\u001b[39m.\u001b[39;49mresolve()\n",
      "File \u001b[0;32m~/.local/lib/python3.9/site-packages/greenaddress/__init__.py:339\u001b[0m, in \u001b[0;36mCall.resolve\u001b[0;34m(self, select_method_fn, resolve_code_fn)\u001b[0m\n\u001b[1;32m    337\u001b[0m \u001b[39mif\u001b[39;00m state \u001b[39m==\u001b[39m \u001b[39m'\u001b[39m\u001b[39merror\u001b[39m\u001b[39m'\u001b[39m:\n\u001b[1;32m    338\u001b[0m     \u001b[39mself\u001b[39m\u001b[39m.\u001b[39mcall_obj \u001b[39m=\u001b[39m \u001b[39mNone\u001b[39;00m\n\u001b[0;32m--> 339\u001b[0m     \u001b[39mraise\u001b[39;00m \u001b[39mRuntimeError\u001b[39;00m(status[\u001b[39m'\u001b[39m\u001b[39merror\u001b[39m\u001b[39m'\u001b[39m])\n\u001b[1;32m    340\u001b[0m \u001b[39mif\u001b[39;00m state \u001b[39m==\u001b[39m \u001b[39m'\u001b[39m\u001b[39mdone\u001b[39m\u001b[39m'\u001b[39m:\n\u001b[1;32m    341\u001b[0m     \u001b[39mself\u001b[39m\u001b[39m.\u001b[39mcall_obj \u001b[39m=\u001b[39m \u001b[39mNone\u001b[39;00m\n",
      "\u001b[0;31mRuntimeError\u001b[0m: cannot create a new subaccount while the last one is unused"
     ]
    }
   ],
   "source": [
    "s.create_subaccount({'name': 'example_3', 'type': 'p2sh-p2wpkh'}).resolve()"
   ]
  },
  {
   "cell_type": "markdown",
   "id": "c27a42ee",
   "metadata": {},
   "source": [
    "# Liquid\n",
    "## Mainnet multisig"
   ]
  },
  {
   "cell_type": "code",
   "execution_count": 21,
   "id": "2b5219b9",
   "metadata": {},
   "outputs": [
    {
     "data": {
      "text/plain": [
       "{'subaccounts': [{'bip44_discovered': False,\n",
       "   'hidden': False,\n",
       "   'name': '',\n",
       "   'pointer': 0,\n",
       "   'receiving_id': '',\n",
       "   'required_ca': 0,\n",
       "   'type': 'p2sh-p2wpkh'}]}"
      ]
     },
     "execution_count": 21,
     "metadata": {},
     "output_type": "execute_result"
    }
   ],
   "source": [
    "import greenaddress\n",
    "try:\n",
    "    greenaddress.init({})\n",
    "except:\n",
    "    pass\n",
    "\n",
    "gdkMnemonic = 'order earth buddy render ocean produce bacon orchard congress law illness goat'\n",
    "gdkMnemonic_two = 'weird short bitter noble bullet syrup camp bachelor waste east exit number'\n",
    "if not greenaddress.validate_mnemonic(gdkMnemonic):\n",
    "    raise Exception(\"Invalid mnemonic.\")\n",
    "\n",
    "s = greenaddress.Session({'name': 'liquid', 'log_level': 'info'})\n",
    "\n",
    "s.login_user({}, {'mnemonic': gdkMnemonic}).resolve()\n",
    "\n",
    "tsubaccounts = s.get_subaccounts().resolve()\n",
    "subaccounts"
   ]
  },
  {
   "cell_type": "code",
   "execution_count": 22,
   "id": "ffb40bc6",
   "metadata": {},
   "outputs": [
    {
     "data": {
      "text/plain": [
       "{'hidden': False,\n",
       " 'name': 'example_1',\n",
       " 'pointer': 4,\n",
       " 'receiving_id': 'GA2HW1jDfvMw6p7jZDjzgKCUivyTvB',\n",
       " 'recovery_chain_code': '',\n",
       " 'recovery_pub_key': '',\n",
       " 'recovery_xpub': '',\n",
       " 'required_ca': 0,\n",
       " 'type': '2of2'}"
      ]
     },
     "execution_count": 22,
     "metadata": {},
     "output_type": "execute_result"
    }
   ],
   "source": [
    "s.create_subaccount({'name': 'example_1', 'type': '2of2'}).resolve()"
   ]
  },
  {
   "cell_type": "code",
   "execution_count": 23,
   "id": "9c3a71e8",
   "metadata": {},
   "outputs": [
    {
     "ename": "RuntimeError",
     "evalue": "Liquid 2of3 subaccount creation is disabled",
     "output_type": "error",
     "traceback": [
      "\u001b[0;31m---------------------------------------------------------------------------\u001b[0m",
      "\u001b[0;31mRuntimeError\u001b[0m                              Traceback (most recent call last)",
      "\u001b[1;32m/home/valerio/github/gdk-examples/subaccounts.ipynb Cell 20'\u001b[0m in \u001b[0;36m<cell line: 1>\u001b[0;34m()\u001b[0m\n\u001b[0;32m----> <a href='vscode-notebook-cell:/home/valerio/github/gdk-examples/subaccounts.ipynb#ch0000025?line=0'>1</a>\u001b[0m s\u001b[39m.\u001b[39;49mcreate_subaccount({\u001b[39m'\u001b[39;49m\u001b[39mname\u001b[39;49m\u001b[39m'\u001b[39;49m: \u001b[39m'\u001b[39;49m\u001b[39mexample_2\u001b[39;49m\u001b[39m'\u001b[39;49m, \u001b[39m'\u001b[39;49m\u001b[39mtype\u001b[39;49m\u001b[39m'\u001b[39;49m: \u001b[39m'\u001b[39;49m\u001b[39m2of3\u001b[39;49m\u001b[39m'\u001b[39;49m, \u001b[39m'\u001b[39;49m\u001b[39mrecovery_mnemonic\u001b[39;49m\u001b[39m'\u001b[39;49m:gdkMnemonic_two})\u001b[39m.\u001b[39;49mresolve()\n",
      "File \u001b[0;32m~/.local/lib/python3.9/site-packages/greenaddress/__init__.py:339\u001b[0m, in \u001b[0;36mCall.resolve\u001b[0;34m(self, select_method_fn, resolve_code_fn)\u001b[0m\n\u001b[1;32m    337\u001b[0m \u001b[39mif\u001b[39;00m state \u001b[39m==\u001b[39m \u001b[39m'\u001b[39m\u001b[39merror\u001b[39m\u001b[39m'\u001b[39m:\n\u001b[1;32m    338\u001b[0m     \u001b[39mself\u001b[39m\u001b[39m.\u001b[39mcall_obj \u001b[39m=\u001b[39m \u001b[39mNone\u001b[39;00m\n\u001b[0;32m--> 339\u001b[0m     \u001b[39mraise\u001b[39;00m \u001b[39mRuntimeError\u001b[39;00m(status[\u001b[39m'\u001b[39m\u001b[39merror\u001b[39m\u001b[39m'\u001b[39m])\n\u001b[1;32m    340\u001b[0m \u001b[39mif\u001b[39;00m state \u001b[39m==\u001b[39m \u001b[39m'\u001b[39m\u001b[39mdone\u001b[39m\u001b[39m'\u001b[39m:\n\u001b[1;32m    341\u001b[0m     \u001b[39mself\u001b[39m\u001b[39m.\u001b[39mcall_obj \u001b[39m=\u001b[39m \u001b[39mNone\u001b[39;00m\n",
      "\u001b[0;31mRuntimeError\u001b[0m: Liquid 2of3 subaccount creation is disabled"
     ]
    }
   ],
   "source": [
    "s.create_subaccount({'name': 'example_2', 'type': '2of3', 'recovery_mnemonic':gdkMnemonic_two}).resolve()"
   ]
  },
  {
   "cell_type": "code",
   "execution_count": 24,
   "id": "110ddc02",
   "metadata": {},
   "outputs": [
    {
     "data": {
      "text/plain": [
       "{'hidden': False,\n",
       " 'name': 'example_3',\n",
       " 'pointer': 6,\n",
       " 'receiving_id': 'GAk8Xi9pZKCRN4hrVNHYC5XfxTZ2h',\n",
       " 'recovery_chain_code': '',\n",
       " 'recovery_pub_key': '',\n",
       " 'recovery_xpub': '',\n",
       " 'required_ca': 0,\n",
       " 'type': '2of2_no_recovery'}"
      ]
     },
     "execution_count": 24,
     "metadata": {},
     "output_type": "execute_result"
    }
   ],
   "source": [
    "s.create_subaccount({'name': 'example_3', 'type': '2of2_no_recovery'}).resolve()"
   ]
  },
  {
   "cell_type": "markdown",
   "id": "b02f683d",
   "metadata": {},
   "source": [
    "## Mainnet singlesig"
   ]
  },
  {
   "cell_type": "code",
   "execution_count": 18,
   "id": "798be0fb",
   "metadata": {},
   "outputs": [
    {
     "data": {
      "text/plain": [
       "{'subaccounts': [{'bip44_discovered': False,\n",
       "   'hidden': False,\n",
       "   'name': '',\n",
       "   'pointer': 0,\n",
       "   'receiving_id': '',\n",
       "   'required_ca': 0,\n",
       "   'type': 'p2sh-p2wpkh'}]}"
      ]
     },
     "execution_count": 18,
     "metadata": {},
     "output_type": "execute_result"
    }
   ],
   "source": [
    "import greenaddress\n",
    "try:\n",
    "    greenaddress.init({})\n",
    "except:\n",
    "    pass\n",
    "\n",
    "gdkMnemonic = 'order earth buddy render ocean produce bacon orchard congress law illness goat'\n",
    "if not greenaddress.validate_mnemonic(gdkMnemonic):\n",
    "    raise Exception(\"Invalid mnemonic.\")\n",
    "\n",
    "s = greenaddress.Session({'name': 'electrum-liquid', 'log_level': 'info'})\n",
    "\n",
    "s.login_user({}, {'mnemonic': gdkMnemonic}).resolve()\n",
    "\n",
    "subaccounts = s.get_subaccounts().resolve()\n",
    "subaccounts"
   ]
  },
  {
   "cell_type": "code",
   "execution_count": 29,
   "id": "17dad641",
   "metadata": {},
   "outputs": [
    {
     "ename": "RuntimeError",
     "evalue": "cannot create a new subaccount while the last one is unused",
     "output_type": "error",
     "traceback": [
      "\u001b[0;31m---------------------------------------------------------------------------\u001b[0m",
      "\u001b[0;31mRuntimeError\u001b[0m                              Traceback (most recent call last)",
      "\u001b[1;32m/home/valerio/github/gdk-examples/subaccounts.ipynb Cell 26'\u001b[0m in \u001b[0;36m<cell line: 1>\u001b[0;34m()\u001b[0m\n\u001b[0;32m----> <a href='vscode-notebook-cell:/home/valerio/github/gdk-examples/subaccounts.ipynb#ch0000032?line=0'>1</a>\u001b[0m s\u001b[39m.\u001b[39;49mcreate_subaccount({\u001b[39m'\u001b[39;49m\u001b[39mname\u001b[39;49m\u001b[39m'\u001b[39;49m: \u001b[39m'\u001b[39;49m\u001b[39mexample_1\u001b[39;49m\u001b[39m'\u001b[39;49m, \u001b[39m'\u001b[39;49m\u001b[39mtype\u001b[39;49m\u001b[39m'\u001b[39;49m: \u001b[39m'\u001b[39;49m\u001b[39mp2pkh\u001b[39;49m\u001b[39m'\u001b[39;49m})\u001b[39m.\u001b[39;49mresolve()\n",
      "File \u001b[0;32m~/.local/lib/python3.9/site-packages/greenaddress/__init__.py:339\u001b[0m, in \u001b[0;36mCall.resolve\u001b[0;34m(self, select_method_fn, resolve_code_fn)\u001b[0m\n\u001b[1;32m    337\u001b[0m \u001b[39mif\u001b[39;00m state \u001b[39m==\u001b[39m \u001b[39m'\u001b[39m\u001b[39merror\u001b[39m\u001b[39m'\u001b[39m:\n\u001b[1;32m    338\u001b[0m     \u001b[39mself\u001b[39m\u001b[39m.\u001b[39mcall_obj \u001b[39m=\u001b[39m \u001b[39mNone\u001b[39;00m\n\u001b[0;32m--> 339\u001b[0m     \u001b[39mraise\u001b[39;00m \u001b[39mRuntimeError\u001b[39;00m(status[\u001b[39m'\u001b[39m\u001b[39merror\u001b[39m\u001b[39m'\u001b[39m])\n\u001b[1;32m    340\u001b[0m \u001b[39mif\u001b[39;00m state \u001b[39m==\u001b[39m \u001b[39m'\u001b[39m\u001b[39mdone\u001b[39m\u001b[39m'\u001b[39m:\n\u001b[1;32m    341\u001b[0m     \u001b[39mself\u001b[39m\u001b[39m.\u001b[39mcall_obj \u001b[39m=\u001b[39m \u001b[39mNone\u001b[39;00m\n",
      "\u001b[0;31mRuntimeError\u001b[0m: cannot create a new subaccount while the last one is unused"
     ]
    }
   ],
   "source": [
    "s.create_subaccount({'name': 'example_1', 'type': 'p2pkh'}).resolve()"
   ]
  },
  {
   "cell_type": "code",
   "execution_count": 30,
   "id": "f0c3b7ad",
   "metadata": {},
   "outputs": [
    {
     "ename": "RuntimeError",
     "evalue": "cannot create a new subaccount while the last one is unused",
     "output_type": "error",
     "traceback": [
      "\u001b[0;31m---------------------------------------------------------------------------\u001b[0m",
      "\u001b[0;31mRuntimeError\u001b[0m                              Traceback (most recent call last)",
      "\u001b[1;32m/home/valerio/github/gdk-examples/subaccounts.ipynb Cell 27'\u001b[0m in \u001b[0;36m<cell line: 1>\u001b[0;34m()\u001b[0m\n\u001b[0;32m----> <a href='vscode-notebook-cell:/home/valerio/github/gdk-examples/subaccounts.ipynb#ch0000031?line=0'>1</a>\u001b[0m s\u001b[39m.\u001b[39;49mcreate_subaccount({\u001b[39m'\u001b[39;49m\u001b[39mname\u001b[39;49m\u001b[39m'\u001b[39;49m: \u001b[39m'\u001b[39;49m\u001b[39mexample_2\u001b[39;49m\u001b[39m'\u001b[39;49m, \u001b[39m'\u001b[39;49m\u001b[39mtype\u001b[39;49m\u001b[39m'\u001b[39;49m: \u001b[39m'\u001b[39;49m\u001b[39mp2wpkh\u001b[39;49m\u001b[39m'\u001b[39;49m})\u001b[39m.\u001b[39;49mresolve()\n",
      "File \u001b[0;32m~/.local/lib/python3.9/site-packages/greenaddress/__init__.py:339\u001b[0m, in \u001b[0;36mCall.resolve\u001b[0;34m(self, select_method_fn, resolve_code_fn)\u001b[0m\n\u001b[1;32m    337\u001b[0m \u001b[39mif\u001b[39;00m state \u001b[39m==\u001b[39m \u001b[39m'\u001b[39m\u001b[39merror\u001b[39m\u001b[39m'\u001b[39m:\n\u001b[1;32m    338\u001b[0m     \u001b[39mself\u001b[39m\u001b[39m.\u001b[39mcall_obj \u001b[39m=\u001b[39m \u001b[39mNone\u001b[39;00m\n\u001b[0;32m--> 339\u001b[0m     \u001b[39mraise\u001b[39;00m \u001b[39mRuntimeError\u001b[39;00m(status[\u001b[39m'\u001b[39m\u001b[39merror\u001b[39m\u001b[39m'\u001b[39m])\n\u001b[1;32m    340\u001b[0m \u001b[39mif\u001b[39;00m state \u001b[39m==\u001b[39m \u001b[39m'\u001b[39m\u001b[39mdone\u001b[39m\u001b[39m'\u001b[39m:\n\u001b[1;32m    341\u001b[0m     \u001b[39mself\u001b[39m\u001b[39m.\u001b[39mcall_obj \u001b[39m=\u001b[39m \u001b[39mNone\u001b[39;00m\n",
      "\u001b[0;31mRuntimeError\u001b[0m: cannot create a new subaccount while the last one is unused"
     ]
    }
   ],
   "source": [
    "s.create_subaccount({'name': 'example_2', 'type': 'p2wpkh'}).resolve()"
   ]
  },
  {
   "cell_type": "code",
   "execution_count": 31,
   "id": "a99419b1",
   "metadata": {},
   "outputs": [
    {
     "ename": "RuntimeError",
     "evalue": "cannot create a new subaccount while the last one is unused",
     "output_type": "error",
     "traceback": [
      "\u001b[0;31m---------------------------------------------------------------------------\u001b[0m",
      "\u001b[0;31mRuntimeError\u001b[0m                              Traceback (most recent call last)",
      "\u001b[1;32m/home/valerio/github/gdk-examples/subaccounts.ipynb Cell 28'\u001b[0m in \u001b[0;36m<cell line: 1>\u001b[0;34m()\u001b[0m\n\u001b[0;32m----> <a href='vscode-notebook-cell:/home/valerio/github/gdk-examples/subaccounts.ipynb#ch0000030?line=0'>1</a>\u001b[0m s\u001b[39m.\u001b[39;49mcreate_subaccount({\u001b[39m'\u001b[39;49m\u001b[39mname\u001b[39;49m\u001b[39m'\u001b[39;49m: \u001b[39m'\u001b[39;49m\u001b[39mexample_3\u001b[39;49m\u001b[39m'\u001b[39;49m, \u001b[39m'\u001b[39;49m\u001b[39mtype\u001b[39;49m\u001b[39m'\u001b[39;49m: \u001b[39m'\u001b[39;49m\u001b[39mp2sh-p2wpkh\u001b[39;49m\u001b[39m'\u001b[39;49m})\u001b[39m.\u001b[39;49mresolve()\n",
      "File \u001b[0;32m~/.local/lib/python3.9/site-packages/greenaddress/__init__.py:339\u001b[0m, in \u001b[0;36mCall.resolve\u001b[0;34m(self, select_method_fn, resolve_code_fn)\u001b[0m\n\u001b[1;32m    337\u001b[0m \u001b[39mif\u001b[39;00m state \u001b[39m==\u001b[39m \u001b[39m'\u001b[39m\u001b[39merror\u001b[39m\u001b[39m'\u001b[39m:\n\u001b[1;32m    338\u001b[0m     \u001b[39mself\u001b[39m\u001b[39m.\u001b[39mcall_obj \u001b[39m=\u001b[39m \u001b[39mNone\u001b[39;00m\n\u001b[0;32m--> 339\u001b[0m     \u001b[39mraise\u001b[39;00m \u001b[39mRuntimeError\u001b[39;00m(status[\u001b[39m'\u001b[39m\u001b[39merror\u001b[39m\u001b[39m'\u001b[39m])\n\u001b[1;32m    340\u001b[0m \u001b[39mif\u001b[39;00m state \u001b[39m==\u001b[39m \u001b[39m'\u001b[39m\u001b[39mdone\u001b[39m\u001b[39m'\u001b[39m:\n\u001b[1;32m    341\u001b[0m     \u001b[39mself\u001b[39m\u001b[39m.\u001b[39mcall_obj \u001b[39m=\u001b[39m \u001b[39mNone\u001b[39;00m\n",
      "\u001b[0;31mRuntimeError\u001b[0m: cannot create a new subaccount while the last one is unused"
     ]
    }
   ],
   "source": [
    "s.create_subaccount({'name': 'example_3', 'type': 'p2sh-p2wpkh'}).resolve()"
   ]
  },
  {
   "cell_type": "markdown",
   "id": "b10237d5",
   "metadata": {},
   "source": [
    "## Testnet multisig"
   ]
  },
  {
   "cell_type": "code",
   "execution_count": 33,
   "id": "0519f817",
   "metadata": {},
   "outputs": [
    {
     "data": {
      "text/plain": [
       "{'subaccounts': [{'hidden': False,\n",
       "   'name': '',\n",
       "   'pointer': 0,\n",
       "   'receiving_id': 'GA2Nt8NwLJcynoEKPBBpCeZh497Mwu',\n",
       "   'recovery_chain_code': '',\n",
       "   'recovery_pub_key': '',\n",
       "   'recovery_xpub': '',\n",
       "   'required_ca': 0,\n",
       "   'type': '2of2'},\n",
       "  {'hidden': False,\n",
       "   'name': 'AMP Account',\n",
       "   'pointer': 1,\n",
       "   'receiving_id': 'GA3vWtnBn6Z72Uw5QsAHYz3N7xN7Lz',\n",
       "   'recovery_chain_code': '',\n",
       "   'recovery_pub_key': '',\n",
       "   'recovery_xpub': '',\n",
       "   'required_ca': 0,\n",
       "   'type': '2of2_no_recovery'},\n",
       "  {'hidden': False,\n",
       "   'name': 'AMP Account',\n",
       "   'pointer': 2,\n",
       "   'receiving_id': 'GAahtrUG59ME6kKVVUQdVF81NkxRo',\n",
       "   'recovery_chain_code': '',\n",
       "   'recovery_pub_key': '',\n",
       "   'recovery_xpub': '',\n",
       "   'required_ca': 0,\n",
       "   'type': '2of2_no_recovery'}]}"
      ]
     },
     "execution_count": 33,
     "metadata": {},
     "output_type": "execute_result"
    }
   ],
   "source": [
    "import greenaddress\n",
    "try:\n",
    "    greenaddress.init({})\n",
    "except:\n",
    "    pass\n",
    "\n",
    "gdkMnemonic = 'order earth buddy render ocean produce bacon orchard congress law illness goat'\n",
    "gdkMnemonic_two = 'weird short bitter noble bullet syrup camp bachelor waste east exit number'\n",
    "if not greenaddress.validate_mnemonic(gdkMnemonic):\n",
    "    raise Exception(\"Invalid mnemonic.\")\n",
    "\n",
    "s = greenaddress.Session({'name': 'testnet-liquid', 'log_level': 'info'})\n",
    "\n",
    "s.login_user({}, {'mnemonic': gdkMnemonic}).resolve()\n",
    "\n",
    "subaccounts = s.get_subaccounts().resolve()\n",
    "subaccounts"
   ]
  },
  {
   "cell_type": "code",
   "execution_count": 35,
   "id": "1a7c6c6a",
   "metadata": {},
   "outputs": [
    {
     "data": {
      "text/plain": [
       "{'hidden': False,\n",
       " 'name': 'example_1',\n",
       " 'pointer': 3,\n",
       " 'receiving_id': 'GA2pSxSJ6zYgBuJkv9EpH3HZ1rwXF1',\n",
       " 'recovery_chain_code': '',\n",
       " 'recovery_pub_key': '',\n",
       " 'recovery_xpub': '',\n",
       " 'required_ca': 0,\n",
       " 'type': '2of2'}"
      ]
     },
     "execution_count": 35,
     "metadata": {},
     "output_type": "execute_result"
    }
   ],
   "source": [
    "s.create_subaccount({'name': 'example_1', 'type': '2of2'}).resolve()"
   ]
  },
  {
   "cell_type": "code",
   "execution_count": 36,
   "id": "728ef3fc",
   "metadata": {},
   "outputs": [
    {
     "ename": "RuntimeError",
     "evalue": "Liquid 2of3 subaccount creation is disabled",
     "output_type": "error",
     "traceback": [
      "\u001b[0;31m---------------------------------------------------------------------------\u001b[0m",
      "\u001b[0;31mRuntimeError\u001b[0m                              Traceback (most recent call last)",
      "\u001b[1;32m/home/valerio/github/gdk-examples/subaccounts.ipynb Cell 32'\u001b[0m in \u001b[0;36m<cell line: 1>\u001b[0;34m()\u001b[0m\n\u001b[0;32m----> <a href='vscode-notebook-cell:/home/valerio/github/gdk-examples/subaccounts.ipynb#ch0000034?line=0'>1</a>\u001b[0m s\u001b[39m.\u001b[39;49mcreate_subaccount({\u001b[39m'\u001b[39;49m\u001b[39mname\u001b[39;49m\u001b[39m'\u001b[39;49m: \u001b[39m'\u001b[39;49m\u001b[39mexample_2\u001b[39;49m\u001b[39m'\u001b[39;49m, \u001b[39m'\u001b[39;49m\u001b[39mtype\u001b[39;49m\u001b[39m'\u001b[39;49m: \u001b[39m'\u001b[39;49m\u001b[39m2of3\u001b[39;49m\u001b[39m'\u001b[39;49m, \u001b[39m'\u001b[39;49m\u001b[39mrecovery_mnemonic\u001b[39;49m\u001b[39m'\u001b[39;49m:gdkMnemonic_two})\u001b[39m.\u001b[39;49mresolve()\n",
      "File \u001b[0;32m~/.local/lib/python3.9/site-packages/greenaddress/__init__.py:339\u001b[0m, in \u001b[0;36mCall.resolve\u001b[0;34m(self, select_method_fn, resolve_code_fn)\u001b[0m\n\u001b[1;32m    337\u001b[0m \u001b[39mif\u001b[39;00m state \u001b[39m==\u001b[39m \u001b[39m'\u001b[39m\u001b[39merror\u001b[39m\u001b[39m'\u001b[39m:\n\u001b[1;32m    338\u001b[0m     \u001b[39mself\u001b[39m\u001b[39m.\u001b[39mcall_obj \u001b[39m=\u001b[39m \u001b[39mNone\u001b[39;00m\n\u001b[0;32m--> 339\u001b[0m     \u001b[39mraise\u001b[39;00m \u001b[39mRuntimeError\u001b[39;00m(status[\u001b[39m'\u001b[39m\u001b[39merror\u001b[39m\u001b[39m'\u001b[39m])\n\u001b[1;32m    340\u001b[0m \u001b[39mif\u001b[39;00m state \u001b[39m==\u001b[39m \u001b[39m'\u001b[39m\u001b[39mdone\u001b[39m\u001b[39m'\u001b[39m:\n\u001b[1;32m    341\u001b[0m     \u001b[39mself\u001b[39m\u001b[39m.\u001b[39mcall_obj \u001b[39m=\u001b[39m \u001b[39mNone\u001b[39;00m\n",
      "\u001b[0;31mRuntimeError\u001b[0m: Liquid 2of3 subaccount creation is disabled"
     ]
    }
   ],
   "source": [
    "s.create_subaccount({'name': 'example_2', 'type': '2of3', 'recovery_mnemonic':gdkMnemonic_two}).resolve()"
   ]
  },
  {
   "cell_type": "code",
   "execution_count": 37,
   "id": "b092c786",
   "metadata": {},
   "outputs": [
    {
     "data": {
      "text/plain": [
       "{'hidden': False,\n",
       " 'name': 'example_3',\n",
       " 'pointer': 5,\n",
       " 'receiving_id': 'GAdZ3bAjkJ8gHVBc3oMiL593DjDoj',\n",
       " 'recovery_chain_code': '',\n",
       " 'recovery_pub_key': '',\n",
       " 'recovery_xpub': '',\n",
       " 'required_ca': 0,\n",
       " 'type': '2of2_no_recovery'}"
      ]
     },
     "execution_count": 37,
     "metadata": {},
     "output_type": "execute_result"
    }
   ],
   "source": [
    "s.create_subaccount({'name': 'example_3', 'type': '2of2_no_recovery'}).resolve()"
   ]
  },
  {
   "cell_type": "markdown",
   "id": "68f2e005",
   "metadata": {},
   "source": [
    "## Testnet singlesig"
   ]
  },
  {
   "cell_type": "code",
   "execution_count": 38,
   "id": "cc4089ed",
   "metadata": {},
   "outputs": [
    {
     "data": {
      "text/plain": [
       "{'subaccounts': [{'bip44_discovered': False,\n",
       "   'hidden': False,\n",
       "   'name': '',\n",
       "   'pointer': 0,\n",
       "   'receiving_id': '',\n",
       "   'required_ca': 0,\n",
       "   'type': 'p2sh-p2wpkh'}]}"
      ]
     },
     "execution_count": 38,
     "metadata": {},
     "output_type": "execute_result"
    }
   ],
   "source": [
    "import greenaddress\n",
    "try:\n",
    "    greenaddress.init({})\n",
    "except:\n",
    "    pass\n",
    "\n",
    "gdkMnemonic = 'order earth buddy render ocean produce bacon orchard congress law illness goat'\n",
    "if not greenaddress.validate_mnemonic(gdkMnemonic):\n",
    "    raise Exception(\"Invalid mnemonic.\")\n",
    "\n",
    "s = greenaddress.Session({'name': 'electrum-testnet-liquid', 'log_level': 'info'})\n",
    "\n",
    "s.login_user({}, {'mnemonic': gdkMnemonic}).resolve()\n",
    "\n",
    "subaccounts = s.get_subaccounts().resolve()\n",
    "subaccounts"
   ]
  },
  {
   "cell_type": "code",
   "execution_count": 39,
   "id": "c3875fe3",
   "metadata": {},
   "outputs": [
    {
     "data": {
      "text/plain": [
       "{'bip44_discovered': False,\n",
       " 'hidden': False,\n",
       " 'name': 'example_1',\n",
       " 'pointer': 2,\n",
       " 'receiving_id': '',\n",
       " 'required_ca': 0,\n",
       " 'type': 'p2pkh'}"
      ]
     },
     "execution_count": 39,
     "metadata": {},
     "output_type": "execute_result"
    }
   ],
   "source": [
    "s.create_subaccount({'name': 'example_1', 'type': 'p2pkh'}).resolve()"
   ]
  },
  {
   "cell_type": "code",
   "execution_count": 40,
   "id": "ca6912ff",
   "metadata": {},
   "outputs": [
    {
     "data": {
      "text/plain": [
       "{'bip44_discovered': False,\n",
       " 'hidden': False,\n",
       " 'name': 'example_2',\n",
       " 'pointer': 1,\n",
       " 'receiving_id': '',\n",
       " 'required_ca': 0,\n",
       " 'type': 'p2wpkh'}"
      ]
     },
     "execution_count": 40,
     "metadata": {},
     "output_type": "execute_result"
    }
   ],
   "source": [
    "s.create_subaccount({'name': 'example_2', 'type': 'p2wpkh'}).resolve()"
   ]
  },
  {
   "cell_type": "code",
   "execution_count": 41,
   "id": "a7617460",
   "metadata": {},
   "outputs": [
    {
     "ename": "RuntimeError",
     "evalue": "cannot create a new subaccount while the last one is unused",
     "output_type": "error",
     "traceback": [
      "\u001b[0;31m---------------------------------------------------------------------------\u001b[0m",
      "\u001b[0;31mRuntimeError\u001b[0m                              Traceback (most recent call last)",
      "\u001b[1;32m/home/valerio/github/gdk-examples/subaccounts.ipynb Cell 38'\u001b[0m in \u001b[0;36m<cell line: 1>\u001b[0;34m()\u001b[0m\n\u001b[0;32m----> <a href='vscode-notebook-cell:/home/valerio/github/gdk-examples/subaccounts.ipynb#ch0000036?line=0'>1</a>\u001b[0m s\u001b[39m.\u001b[39;49mcreate_subaccount({\u001b[39m'\u001b[39;49m\u001b[39mname\u001b[39;49m\u001b[39m'\u001b[39;49m: \u001b[39m'\u001b[39;49m\u001b[39mexample_3\u001b[39;49m\u001b[39m'\u001b[39;49m, \u001b[39m'\u001b[39;49m\u001b[39mtype\u001b[39;49m\u001b[39m'\u001b[39;49m: \u001b[39m'\u001b[39;49m\u001b[39mp2sh-p2wpkh\u001b[39;49m\u001b[39m'\u001b[39;49m})\u001b[39m.\u001b[39;49mresolve()\n",
      "File \u001b[0;32m~/.local/lib/python3.9/site-packages/greenaddress/__init__.py:339\u001b[0m, in \u001b[0;36mCall.resolve\u001b[0;34m(self, select_method_fn, resolve_code_fn)\u001b[0m\n\u001b[1;32m    337\u001b[0m \u001b[39mif\u001b[39;00m state \u001b[39m==\u001b[39m \u001b[39m'\u001b[39m\u001b[39merror\u001b[39m\u001b[39m'\u001b[39m:\n\u001b[1;32m    338\u001b[0m     \u001b[39mself\u001b[39m\u001b[39m.\u001b[39mcall_obj \u001b[39m=\u001b[39m \u001b[39mNone\u001b[39;00m\n\u001b[0;32m--> 339\u001b[0m     \u001b[39mraise\u001b[39;00m \u001b[39mRuntimeError\u001b[39;00m(status[\u001b[39m'\u001b[39m\u001b[39merror\u001b[39m\u001b[39m'\u001b[39m])\n\u001b[1;32m    340\u001b[0m \u001b[39mif\u001b[39;00m state \u001b[39m==\u001b[39m \u001b[39m'\u001b[39m\u001b[39mdone\u001b[39m\u001b[39m'\u001b[39m:\n\u001b[1;32m    341\u001b[0m     \u001b[39mself\u001b[39m\u001b[39m.\u001b[39mcall_obj \u001b[39m=\u001b[39m \u001b[39mNone\u001b[39;00m\n",
      "\u001b[0;31mRuntimeError\u001b[0m: cannot create a new subaccount while the last one is unused"
     ]
    }
   ],
   "source": [
    "s.create_subaccount({'name': 'example_3', 'type': 'p2sh-p2wpkh'}).resolve()"
   ]
  }
 ],
 "metadata": {
  "interpreter": {
   "hash": "f9f85f796d01129d0dd105a088854619f454435301f6ffec2fea96ecbd9be4ac"
  },
  "kernelspec": {
   "display_name": "Python 3.9.12 64-bit",
   "language": "python",
   "name": "python3"
  },
  "language_info": {
   "codemirror_mode": {
    "name": "ipython",
    "version": 3
   },
   "file_extension": ".py",
   "mimetype": "text/x-python",
   "name": "python",
   "nbconvert_exporter": "python",
   "pygments_lexer": "ipython3",
   "version": "3.9.13"
  }
 },
 "nbformat": 4,
 "nbformat_minor": 5
}
