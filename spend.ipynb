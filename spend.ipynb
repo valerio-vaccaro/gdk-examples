{
 "cells": [
  {
   "cell_type": "markdown",
   "id": "62685496",
   "metadata": {},
   "source": [
    "# Bitcoin\n",
    "## Mainnet multisig"
   ]
  },
  {
   "cell_type": "code",
   "execution_count": 1,
   "id": "35981675",
   "metadata": {},
   "outputs": [
    {
     "ename": "RuntimeError",
     "evalue": "assertion failure: ../src/ga_tx.cpp:get_ga_signing_inputs:1025:id_insufficient_funds",
     "output_type": "error",
     "traceback": [
      "\u001b[0;31m---------------------------------------------------------------------------\u001b[0m",
      "\u001b[0;31mRuntimeError\u001b[0m                              Traceback (most recent call last)",
      "\u001b[1;32m/home/valerio/github/gdk-examples/spend.ipynb Cell 2'\u001b[0m in \u001b[0;36m<cell line: 26>\u001b[0;34m()\u001b[0m\n\u001b[1;32m     <a href='vscode-notebook-cell:/home/valerio/github/gdk-examples/spend.ipynb#ch0000001?line=22'>23</a>\u001b[0m tx[\u001b[39m'\u001b[39m\u001b[39mutxos\u001b[39m\u001b[39m'\u001b[39m] \u001b[39m=\u001b[39m utxos[\u001b[39m'\u001b[39m\u001b[39munspent_outputs\u001b[39m\u001b[39m'\u001b[39m]\n\u001b[1;32m     <a href='vscode-notebook-cell:/home/valerio/github/gdk-examples/spend.ipynb#ch0000001?line=23'>24</a>\u001b[0m txc \u001b[39m=\u001b[39m s\u001b[39m.\u001b[39mcreate_transaction(json\u001b[39m.\u001b[39mdumps(tx))\u001b[39m.\u001b[39mresolve()\n\u001b[0;32m---> <a href='vscode-notebook-cell:/home/valerio/github/gdk-examples/spend.ipynb#ch0000001?line=25'>26</a>\u001b[0m txg \u001b[39m=\u001b[39m s\u001b[39m.\u001b[39;49msign_transaction(txc)\u001b[39m.\u001b[39;49mresolve()\n\u001b[1;32m     <a href='vscode-notebook-cell:/home/valerio/github/gdk-examples/spend.ipynb#ch0000001?line=26'>27</a>\u001b[0m txs \u001b[39m=\u001b[39m s\u001b[39m.\u001b[39msend_transaction(txg)\u001b[39m.\u001b[39mresolve()\n\u001b[1;32m     <a href='vscode-notebook-cell:/home/valerio/github/gdk-examples/spend.ipynb#ch0000001?line=27'>28</a>\u001b[0m \u001b[39mprint\u001b[39m(\u001b[39m'\u001b[39m\u001b[39mTransaction sent!\u001b[39m\u001b[39m'\u001b[39m)\n",
      "File \u001b[0;32m~/.local/lib/python3.9/site-packages/greenaddress/__init__.py:339\u001b[0m, in \u001b[0;36mCall.resolve\u001b[0;34m(self, select_method_fn, resolve_code_fn)\u001b[0m\n\u001b[1;32m    <a href='file:///home/valerio/.local/lib/python3.9/site-packages/greenaddress/__init__.py?line=336'>337</a>\u001b[0m \u001b[39mif\u001b[39;00m state \u001b[39m==\u001b[39m \u001b[39m'\u001b[39m\u001b[39merror\u001b[39m\u001b[39m'\u001b[39m:\n\u001b[1;32m    <a href='file:///home/valerio/.local/lib/python3.9/site-packages/greenaddress/__init__.py?line=337'>338</a>\u001b[0m     \u001b[39mself\u001b[39m\u001b[39m.\u001b[39mcall_obj \u001b[39m=\u001b[39m \u001b[39mNone\u001b[39;00m\n\u001b[0;32m--> <a href='file:///home/valerio/.local/lib/python3.9/site-packages/greenaddress/__init__.py?line=338'>339</a>\u001b[0m     \u001b[39mraise\u001b[39;00m \u001b[39mRuntimeError\u001b[39;00m(status[\u001b[39m'\u001b[39m\u001b[39merror\u001b[39m\u001b[39m'\u001b[39m])\n\u001b[1;32m    <a href='file:///home/valerio/.local/lib/python3.9/site-packages/greenaddress/__init__.py?line=339'>340</a>\u001b[0m \u001b[39mif\u001b[39;00m state \u001b[39m==\u001b[39m \u001b[39m'\u001b[39m\u001b[39mdone\u001b[39m\u001b[39m'\u001b[39m:\n\u001b[1;32m    <a href='file:///home/valerio/.local/lib/python3.9/site-packages/greenaddress/__init__.py?line=340'>341</a>\u001b[0m     \u001b[39mself\u001b[39m\u001b[39m.\u001b[39mcall_obj \u001b[39m=\u001b[39m \u001b[39mNone\u001b[39;00m\n",
      "\u001b[0;31mRuntimeError\u001b[0m: assertion failure: ../src/ga_tx.cpp:get_ga_signing_inputs:1025:id_insufficient_funds"
     ]
    }
   ],
   "source": [
    "import greenaddress\n",
    "import json\n",
    "try:\n",
    "    greenaddress.init({})\n",
    "except:\n",
    "    pass\n",
    "\n",
    "gdkMnemonic = 'order earth buddy render ocean produce bacon orchard congress law illness goat'\n",
    "if not greenaddress.validate_mnemonic(gdkMnemonic):\n",
    "    raise Exception(\"Invalid mnemonic.\")\n",
    "        \n",
    "s = greenaddress.Session({'name': 'mainnet', 'log_level': 'info'})\n",
    "\n",
    "s.login_user({}, {'mnemonic': gdkMnemonic}).resolve()\n",
    "\n",
    "tx = {\n",
    "    'subaccount': 0,\n",
    "    'addressees': [{'satoshi': 1000, 'address': '3KHbtg26MW2K2Dp5YSpBVZr5so1hP3bAzX'}],\n",
    "}\n",
    "\n",
    "utxo_details = {'subaccount': 0, 'num_confs': 0}\n",
    "utxos = s.get_unspent_outputs(json.dumps(utxo_details)).resolve()\n",
    "tx['utxos'] = utxos['unspent_outputs']\n",
    "txc = s.create_transaction(json.dumps(tx)).resolve()\n",
    "\n",
    "txg = s.sign_transaction(txc).resolve()\n",
    "txs = s.send_transaction(txg).resolve()\n",
    "print('Transaction sent!')\n",
    "print('txhash: {}'.format(txs[\"txhash\"]))"
   ]
  },
  {
   "cell_type": "markdown",
   "id": "8553c63c",
   "metadata": {},
   "source": [
    "## Mainnet singlesig"
   ]
  },
  {
   "cell_type": "code",
   "execution_count": 1,
   "id": "7a4b019f",
   "metadata": {},
   "outputs": [
    {
     "ename": "RuntimeError",
     "evalue": "assertion failure: ../src/ga_tx.cpp:get_ga_signing_inputs:1025:id_insufficient_funds",
     "output_type": "error",
     "traceback": [
      "\u001b[0;31m---------------------------------------------------------------------------\u001b[0m",
      "\u001b[0;31mRuntimeError\u001b[0m                              Traceback (most recent call last)",
      "\u001b[1;32m/home/valerio/github/gdk-examples/spend.ipynb Cell 2'\u001b[0m in \u001b[0;36m<cell line: 26>\u001b[0;34m()\u001b[0m\n\u001b[1;32m     <a href='vscode-notebook-cell:/home/valerio/github/gdk-examples/spend.ipynb#ch0000001?line=22'>23</a>\u001b[0m tx[\u001b[39m'\u001b[39m\u001b[39mutxos\u001b[39m\u001b[39m'\u001b[39m] \u001b[39m=\u001b[39m utxos[\u001b[39m'\u001b[39m\u001b[39munspent_outputs\u001b[39m\u001b[39m'\u001b[39m]\n\u001b[1;32m     <a href='vscode-notebook-cell:/home/valerio/github/gdk-examples/spend.ipynb#ch0000001?line=23'>24</a>\u001b[0m txc \u001b[39m=\u001b[39m s\u001b[39m.\u001b[39mcreate_transaction(json\u001b[39m.\u001b[39mdumps(tx))\u001b[39m.\u001b[39mresolve()\n\u001b[0;32m---> <a href='vscode-notebook-cell:/home/valerio/github/gdk-examples/spend.ipynb#ch0000001?line=25'>26</a>\u001b[0m txg \u001b[39m=\u001b[39m s\u001b[39m.\u001b[39;49msign_transaction(txc)\u001b[39m.\u001b[39;49mresolve()\n\u001b[1;32m     <a href='vscode-notebook-cell:/home/valerio/github/gdk-examples/spend.ipynb#ch0000001?line=26'>27</a>\u001b[0m txs \u001b[39m=\u001b[39m s\u001b[39m.\u001b[39msend_transaction(txg)\u001b[39m.\u001b[39mresolve()\n\u001b[1;32m     <a href='vscode-notebook-cell:/home/valerio/github/gdk-examples/spend.ipynb#ch0000001?line=27'>28</a>\u001b[0m \u001b[39mprint\u001b[39m(\u001b[39m'\u001b[39m\u001b[39mTransaction sent!\u001b[39m\u001b[39m'\u001b[39m)\n",
      "File \u001b[0;32m~/.local/lib/python3.9/site-packages/greenaddress/__init__.py:339\u001b[0m, in \u001b[0;36mCall.resolve\u001b[0;34m(self, select_method_fn, resolve_code_fn)\u001b[0m\n\u001b[1;32m    337\u001b[0m \u001b[39mif\u001b[39;00m state \u001b[39m==\u001b[39m \u001b[39m'\u001b[39m\u001b[39merror\u001b[39m\u001b[39m'\u001b[39m:\n\u001b[1;32m    338\u001b[0m     \u001b[39mself\u001b[39m\u001b[39m.\u001b[39mcall_obj \u001b[39m=\u001b[39m \u001b[39mNone\u001b[39;00m\n\u001b[0;32m--> 339\u001b[0m     \u001b[39mraise\u001b[39;00m \u001b[39mRuntimeError\u001b[39;00m(status[\u001b[39m'\u001b[39m\u001b[39merror\u001b[39m\u001b[39m'\u001b[39m])\n\u001b[1;32m    340\u001b[0m \u001b[39mif\u001b[39;00m state \u001b[39m==\u001b[39m \u001b[39m'\u001b[39m\u001b[39mdone\u001b[39m\u001b[39m'\u001b[39m:\n\u001b[1;32m    341\u001b[0m     \u001b[39mself\u001b[39m\u001b[39m.\u001b[39mcall_obj \u001b[39m=\u001b[39m \u001b[39mNone\u001b[39;00m\n",
      "\u001b[0;31mRuntimeError\u001b[0m: assertion failure: ../src/ga_tx.cpp:get_ga_signing_inputs:1025:id_insufficient_funds"
     ]
    }
   ],
   "source": [
    "import greenaddress\n",
    "import json\n",
    "try:\n",
    "    greenaddress.init({})\n",
    "except:\n",
    "    pass\n",
    "\n",
    "gdkMnemonic = 'order earth buddy render ocean produce bacon orchard congress law illness goat'\n",
    "if not greenaddress.validate_mnemonic(gdkMnemonic):\n",
    "    raise Exception(\"Invalid mnemonic.\")\n",
    "        \n",
    "s = greenaddress.Session({'name': 'electrum-mainnet', 'log_level': 'info'})\n",
    "\n",
    "s.login_user({}, {'mnemonic': gdkMnemonic}).resolve()\n",
    "\n",
    "tx = {\n",
    "    'subaccount': 0,\n",
    "    'addressees': [{'satoshi': 1000, 'address': '3KHbtg26MW2K2Dp5YSpBVZr5so1hP3bAzX'}],\n",
    "}\n",
    "\n",
    "utxo_details = {'subaccount': 0, 'num_confs': 0}\n",
    "utxos = s.get_unspent_outputs(json.dumps(utxo_details)).resolve()\n",
    "tx['utxos'] = utxos['unspent_outputs']\n",
    "txc = s.create_transaction(json.dumps(tx)).resolve()\n",
    "\n",
    "txg = s.sign_transaction(txc).resolve()\n",
    "txs = s.send_transaction(txg).resolve()\n",
    "print('Transaction sent!')\n",
    "print('txhash: {}'.format(txs[\"txhash\"]))"
   ]
  },
  {
   "cell_type": "markdown",
   "id": "6d953974",
   "metadata": {},
   "source": [
    "## Testnet multisig"
   ]
  },
  {
   "cell_type": "code",
   "execution_count": null,
   "id": "2f13d5e8",
   "metadata": {},
   "outputs": [
    {
     "name": "stdout",
     "output_type": "stream",
     "text": [
      "[2022-02-10 22:25:23.374741] [0x00007f2b50b25740] [error]   assertion failure: ../src/session.cpp:init:44:\n",
      "[2022-02-10 22:25:23.377352] [0x00007f2b50b25740] [info]    Connecting using version 0d24d00c to wss://testwss.greenaddress.it/v2/ws\n",
      "[2022-02-10 22:25:24.624459] [0x00007f2b50b25740] [info]    /root/.blockstream/gdk/1b197463da20b33602bec376c5c5dd8c7.sqliteaesgcm loaded correctly\n",
      "[2022-02-10 22:25:24.865484] [0x00007f2b50b25740] [info]    Load blob ver 1 over 0\n",
      "[2022-02-10 22:25:27.512011] [0x00007f2b50b25740] [warning] send_transaction call exception: id_invalid_twofactor_code\n"
     ]
    },
    {
     "ename": "RuntimeError",
     "evalue": "id_invalid_twofactor_code",
     "output_type": "error",
     "traceback": [
      "\u001b[0;31m---------------------------------------------------------------------------\u001b[0m",
      "\u001b[0;31mRuntimeError\u001b[0m                              Traceback (most recent call last)",
      "\u001b[0;32m/tmp/ipykernel_2570065/876120597.py\u001b[0m in \u001b[0;36m<module>\u001b[0;34m\u001b[0m\n\u001b[1;32m     24\u001b[0m \u001b[0;34m\u001b[0m\u001b[0m\n\u001b[1;32m     25\u001b[0m \u001b[0mtxg\u001b[0m \u001b[0;34m=\u001b[0m \u001b[0ms\u001b[0m\u001b[0;34m.\u001b[0m\u001b[0msign_transaction\u001b[0m\u001b[0;34m(\u001b[0m\u001b[0mtxc\u001b[0m\u001b[0;34m)\u001b[0m\u001b[0;34m.\u001b[0m\u001b[0mresolve\u001b[0m\u001b[0;34m(\u001b[0m\u001b[0;34m)\u001b[0m\u001b[0;34m\u001b[0m\u001b[0;34m\u001b[0m\u001b[0m\n\u001b[0;32m---> 26\u001b[0;31m \u001b[0mtxs\u001b[0m \u001b[0;34m=\u001b[0m \u001b[0ms\u001b[0m\u001b[0;34m.\u001b[0m\u001b[0msend_transaction\u001b[0m\u001b[0;34m(\u001b[0m\u001b[0mtxg\u001b[0m\u001b[0;34m)\u001b[0m\u001b[0;34m.\u001b[0m\u001b[0mresolve\u001b[0m\u001b[0;34m(\u001b[0m\u001b[0;34m)\u001b[0m\u001b[0;34m\u001b[0m\u001b[0;34m\u001b[0m\u001b[0m\n\u001b[0m\u001b[1;32m     27\u001b[0m \u001b[0mprint\u001b[0m\u001b[0;34m(\u001b[0m\u001b[0;34m'Transaction sent!'\u001b[0m\u001b[0;34m)\u001b[0m\u001b[0;34m\u001b[0m\u001b[0;34m\u001b[0m\u001b[0m\n\u001b[1;32m     28\u001b[0m \u001b[0mprint\u001b[0m\u001b[0;34m(\u001b[0m\u001b[0;34m'txhash: {}'\u001b[0m\u001b[0;34m.\u001b[0m\u001b[0mformat\u001b[0m\u001b[0;34m(\u001b[0m\u001b[0mtxs\u001b[0m\u001b[0;34m[\u001b[0m\u001b[0;34m\"txhash\"\u001b[0m\u001b[0;34m]\u001b[0m\u001b[0;34m)\u001b[0m\u001b[0;34m)\u001b[0m\u001b[0;34m\u001b[0m\u001b[0;34m\u001b[0m\u001b[0m\n",
      "\u001b[0;32m/opt/liquidtestnet.com/venv3/lib/python3.7/site-packages/greenaddress/__init__.py\u001b[0m in \u001b[0;36mresolve\u001b[0;34m(self, select_method_fn, resolve_code_fn)\u001b[0m\n\u001b[1;32m    407\u001b[0m             \u001b[0;32mif\u001b[0m \u001b[0mstate\u001b[0m \u001b[0;34m==\u001b[0m \u001b[0;34m'error'\u001b[0m\u001b[0;34m:\u001b[0m\u001b[0;34m\u001b[0m\u001b[0;34m\u001b[0m\u001b[0m\n\u001b[1;32m    408\u001b[0m                 \u001b[0mself\u001b[0m\u001b[0;34m.\u001b[0m\u001b[0mcall_obj\u001b[0m \u001b[0;34m=\u001b[0m \u001b[0;32mNone\u001b[0m\u001b[0;34m\u001b[0m\u001b[0;34m\u001b[0m\u001b[0m\n\u001b[0;32m--> 409\u001b[0;31m                 \u001b[0;32mraise\u001b[0m \u001b[0mRuntimeError\u001b[0m\u001b[0;34m(\u001b[0m\u001b[0mstatus\u001b[0m\u001b[0;34m[\u001b[0m\u001b[0;34m'error'\u001b[0m\u001b[0;34m]\u001b[0m\u001b[0;34m)\u001b[0m\u001b[0;34m\u001b[0m\u001b[0;34m\u001b[0m\u001b[0m\n\u001b[0m\u001b[1;32m    410\u001b[0m             \u001b[0;32mif\u001b[0m \u001b[0mstate\u001b[0m \u001b[0;34m==\u001b[0m \u001b[0;34m'done'\u001b[0m\u001b[0;34m:\u001b[0m\u001b[0;34m\u001b[0m\u001b[0;34m\u001b[0m\u001b[0m\n\u001b[1;32m    411\u001b[0m                 \u001b[0mself\u001b[0m\u001b[0;34m.\u001b[0m\u001b[0mcall_obj\u001b[0m \u001b[0;34m=\u001b[0m \u001b[0;32mNone\u001b[0m\u001b[0;34m\u001b[0m\u001b[0;34m\u001b[0m\u001b[0m\n",
      "\u001b[0;31mRuntimeError\u001b[0m: id_invalid_twofactor_code"
     ]
    }
   ],
   "source": [
    "import greenaddress\n",
    "try:\n",
    "    greenaddress.init({})\n",
    "except:\n",
    "    pass\n",
    "\n",
    "gdkMnemonic = 'order earth buddy render ocean produce bacon orchard congress law illness goat'\n",
    "if not greenaddress.validate_mnemonic(gdkMnemonic):\n",
    "    raise Exception(\"Invalid mnemonic.\")\n",
    "\n",
    "s = greenaddress.Session({'name': 'testnet', 'log_level': 'info'})\n",
    "\n",
    "s.login_user({}, {'mnemonic': gdkMnemonic}).resolve()\n",
    "\n",
    "tx = {\n",
    "    'subaccount': 0,\n",
    "    'addressees': [{'satoshi': 1000, 'address': '2NDyYxjGSWunueUPMaXnWzZxz7ve9eXYLK5'}],\n",
    "}\n",
    "\n",
    "utxo_details = {'subaccount': 0, 'num_confs': 0}\n",
    "utxos = s.get_unspent_outputs(json.dumps(utxo_details)).resolve()\n",
    "tx['utxos'] = utxos['unspent_outputs']\n",
    "txc = s.create_transaction(json.dumps(tx)).resolve()\n",
    "\n",
    "txg = s.sign_transaction(txc).resolve()\n",
    "txs = s.send_transaction(txg).resolve()\n",
    "print('Transaction sent!')\n",
    "print('txhash: {}'.format(txs[\"txhash\"]))"
   ]
  },
  {
   "cell_type": "markdown",
   "id": "3b48c141",
   "metadata": {},
   "source": [
    "## Testnet singlesig"
   ]
  },
  {
   "cell_type": "code",
   "execution_count": 2,
   "id": "0aacba40",
   "metadata": {},
   "outputs": [
    {
     "ename": "RuntimeError",
     "evalue": "assertion failure: ../src/ga_tx.cpp:get_ga_signing_inputs:1025:id_insufficient_funds",
     "output_type": "error",
     "traceback": [
      "\u001b[0;31m---------------------------------------------------------------------------\u001b[0m",
      "\u001b[0;31mRuntimeError\u001b[0m                              Traceback (most recent call last)",
      "\u001b[1;32m/home/valerio/github/gdk-examples/spend.ipynb Cell 8'\u001b[0m in \u001b[0;36m<cell line: 25>\u001b[0;34m()\u001b[0m\n\u001b[1;32m     <a href='vscode-notebook-cell:/home/valerio/github/gdk-examples/spend.ipynb#ch0000010?line=21'>22</a>\u001b[0m tx[\u001b[39m'\u001b[39m\u001b[39mutxos\u001b[39m\u001b[39m'\u001b[39m] \u001b[39m=\u001b[39m utxos[\u001b[39m'\u001b[39m\u001b[39munspent_outputs\u001b[39m\u001b[39m'\u001b[39m]\n\u001b[1;32m     <a href='vscode-notebook-cell:/home/valerio/github/gdk-examples/spend.ipynb#ch0000010?line=22'>23</a>\u001b[0m txc \u001b[39m=\u001b[39m s\u001b[39m.\u001b[39mcreate_transaction(json\u001b[39m.\u001b[39mdumps(tx))\u001b[39m.\u001b[39mresolve()\n\u001b[0;32m---> <a href='vscode-notebook-cell:/home/valerio/github/gdk-examples/spend.ipynb#ch0000010?line=24'>25</a>\u001b[0m txg \u001b[39m=\u001b[39m s\u001b[39m.\u001b[39;49msign_transaction(txc)\u001b[39m.\u001b[39;49mresolve()\n\u001b[1;32m     <a href='vscode-notebook-cell:/home/valerio/github/gdk-examples/spend.ipynb#ch0000010?line=25'>26</a>\u001b[0m txs \u001b[39m=\u001b[39m s\u001b[39m.\u001b[39msend_transaction(txg)\u001b[39m.\u001b[39mresolve()\n\u001b[1;32m     <a href='vscode-notebook-cell:/home/valerio/github/gdk-examples/spend.ipynb#ch0000010?line=26'>27</a>\u001b[0m \u001b[39mprint\u001b[39m(\u001b[39m'\u001b[39m\u001b[39mTransaction sent!\u001b[39m\u001b[39m'\u001b[39m)\n",
      "File \u001b[0;32m~/.local/lib/python3.9/site-packages/greenaddress/__init__.py:339\u001b[0m, in \u001b[0;36mCall.resolve\u001b[0;34m(self, select_method_fn, resolve_code_fn)\u001b[0m\n\u001b[1;32m    337\u001b[0m \u001b[39mif\u001b[39;00m state \u001b[39m==\u001b[39m \u001b[39m'\u001b[39m\u001b[39merror\u001b[39m\u001b[39m'\u001b[39m:\n\u001b[1;32m    338\u001b[0m     \u001b[39mself\u001b[39m\u001b[39m.\u001b[39mcall_obj \u001b[39m=\u001b[39m \u001b[39mNone\u001b[39;00m\n\u001b[0;32m--> 339\u001b[0m     \u001b[39mraise\u001b[39;00m \u001b[39mRuntimeError\u001b[39;00m(status[\u001b[39m'\u001b[39m\u001b[39merror\u001b[39m\u001b[39m'\u001b[39m])\n\u001b[1;32m    340\u001b[0m \u001b[39mif\u001b[39;00m state \u001b[39m==\u001b[39m \u001b[39m'\u001b[39m\u001b[39mdone\u001b[39m\u001b[39m'\u001b[39m:\n\u001b[1;32m    341\u001b[0m     \u001b[39mself\u001b[39m\u001b[39m.\u001b[39mcall_obj \u001b[39m=\u001b[39m \u001b[39mNone\u001b[39;00m\n",
      "\u001b[0;31mRuntimeError\u001b[0m: assertion failure: ../src/ga_tx.cpp:get_ga_signing_inputs:1025:id_insufficient_funds"
     ]
    }
   ],
   "source": [
    "import greenaddress\n",
    "try:\n",
    "    greenaddress.init({})\n",
    "except:\n",
    "    pass\n",
    "\n",
    "gdkMnemonic = 'order earth buddy render ocean produce bacon orchard congress law illness goat'\n",
    "if not greenaddress.validate_mnemonic(gdkMnemonic):\n",
    "    raise Exception(\"Invalid mnemonic.\")\n",
    "\n",
    "s = greenaddress.Session({'name': 'electrum-testnet', 'log_level': 'info'})\n",
    "\n",
    "s.login_user({}, {'mnemonic': gdkMnemonic}).resolve()\n",
    "\n",
    "tx = {\n",
    "    'subaccount': 0,\n",
    "    'addressees': [{'satoshi': 1000, 'address': '2NDyYxjGSWunueUPMaXnWzZxz7ve9eXYLK5'}],\n",
    "}\n",
    "\n",
    "utxo_details = {'subaccount': 0, 'num_confs': 0}\n",
    "utxos = s.get_unspent_outputs(json.dumps(utxo_details)).resolve()\n",
    "tx['utxos'] = utxos['unspent_outputs']\n",
    "txc = s.create_transaction(json.dumps(tx)).resolve()\n",
    "\n",
    "txg = s.sign_transaction(txc).resolve()\n",
    "txs = s.send_transaction(txg).resolve()\n",
    "print('Transaction sent!')\n",
    "print('txhash: {}'.format(txs[\"txhash\"]))"
   ]
  },
  {
   "cell_type": "markdown",
   "id": "c27a42ee",
   "metadata": {},
   "source": [
    "# Liquid\n",
    "## Mainnet multisig"
   ]
  },
  {
   "cell_type": "code",
   "execution_count": 4,
   "id": "2b5219b9",
   "metadata": {},
   "outputs": [
    {
     "ename": "RuntimeError",
     "evalue": "assertion failure: ../src/ga_tx.cpp:get_ga_signing_inputs:1025:id_insufficient_funds",
     "output_type": "error",
     "traceback": [
      "\u001b[0;31m---------------------------------------------------------------------------\u001b[0m",
      "\u001b[0;31mRuntimeError\u001b[0m                              Traceback (most recent call last)",
      "\u001b[1;32m/home/valerio/github/gdk-examples/spend.ipynb Cell 10'\u001b[0m in \u001b[0;36m<cell line: 25>\u001b[0;34m()\u001b[0m\n\u001b[1;32m     <a href='vscode-notebook-cell:/home/valerio/github/gdk-examples/spend.ipynb#ch0000005?line=21'>22</a>\u001b[0m tx[\u001b[39m'\u001b[39m\u001b[39mutxos\u001b[39m\u001b[39m'\u001b[39m] \u001b[39m=\u001b[39m utxos[\u001b[39m'\u001b[39m\u001b[39munspent_outputs\u001b[39m\u001b[39m'\u001b[39m]\n\u001b[1;32m     <a href='vscode-notebook-cell:/home/valerio/github/gdk-examples/spend.ipynb#ch0000005?line=22'>23</a>\u001b[0m txc \u001b[39m=\u001b[39m s\u001b[39m.\u001b[39mcreate_transaction(json\u001b[39m.\u001b[39mdumps(tx))\u001b[39m.\u001b[39mresolve()\n\u001b[0;32m---> <a href='vscode-notebook-cell:/home/valerio/github/gdk-examples/spend.ipynb#ch0000005?line=24'>25</a>\u001b[0m txg \u001b[39m=\u001b[39m s\u001b[39m.\u001b[39;49msign_transaction(txc)\u001b[39m.\u001b[39;49mresolve()\n\u001b[1;32m     <a href='vscode-notebook-cell:/home/valerio/github/gdk-examples/spend.ipynb#ch0000005?line=25'>26</a>\u001b[0m txs \u001b[39m=\u001b[39m s\u001b[39m.\u001b[39msend_transaction(txg)\u001b[39m.\u001b[39mresolve()\n\u001b[1;32m     <a href='vscode-notebook-cell:/home/valerio/github/gdk-examples/spend.ipynb#ch0000005?line=26'>27</a>\u001b[0m \u001b[39mprint\u001b[39m(\u001b[39m'\u001b[39m\u001b[39mTransaction sent!\u001b[39m\u001b[39m'\u001b[39m)\n",
      "File \u001b[0;32m~/.local/lib/python3.9/site-packages/greenaddress/__init__.py:339\u001b[0m, in \u001b[0;36mCall.resolve\u001b[0;34m(self, select_method_fn, resolve_code_fn)\u001b[0m\n\u001b[1;32m    337\u001b[0m \u001b[39mif\u001b[39;00m state \u001b[39m==\u001b[39m \u001b[39m'\u001b[39m\u001b[39merror\u001b[39m\u001b[39m'\u001b[39m:\n\u001b[1;32m    338\u001b[0m     \u001b[39mself\u001b[39m\u001b[39m.\u001b[39mcall_obj \u001b[39m=\u001b[39m \u001b[39mNone\u001b[39;00m\n\u001b[0;32m--> 339\u001b[0m     \u001b[39mraise\u001b[39;00m \u001b[39mRuntimeError\u001b[39;00m(status[\u001b[39m'\u001b[39m\u001b[39merror\u001b[39m\u001b[39m'\u001b[39m])\n\u001b[1;32m    340\u001b[0m \u001b[39mif\u001b[39;00m state \u001b[39m==\u001b[39m \u001b[39m'\u001b[39m\u001b[39mdone\u001b[39m\u001b[39m'\u001b[39m:\n\u001b[1;32m    341\u001b[0m     \u001b[39mself\u001b[39m\u001b[39m.\u001b[39mcall_obj \u001b[39m=\u001b[39m \u001b[39mNone\u001b[39;00m\n",
      "\u001b[0;31mRuntimeError\u001b[0m: assertion failure: ../src/ga_tx.cpp:get_ga_signing_inputs:1025:id_insufficient_funds"
     ]
    }
   ],
   "source": [
    "import greenaddress\n",
    "try:\n",
    "    greenaddress.init({})\n",
    "except:\n",
    "    pass\n",
    "\n",
    "gdkMnemonic = 'order earth buddy render ocean produce bacon orchard congress law illness goat'\n",
    "if not greenaddress.validate_mnemonic(gdkMnemonic):\n",
    "    raise Exception(\"Invalid mnemonic.\")\n",
    "\n",
    "s = greenaddress.Session({'name': 'liquid', 'log_level': 'info'})\n",
    "\n",
    "s.login_user({}, {'mnemonic': gdkMnemonic}).resolve()\n",
    "\n",
    "tx = {\n",
    "    'subaccount': 0,\n",
    "    'addressees': [{'satoshi': 1000, 'address': 'VJL7N8CXJnF5f3NRXYWf79aVBLSYt68fDQQs7c3EAaUPaDYxzt49Grdaxp2vJ3a6HPjJSp2Hiakwaj6v', 'asset_id':'6f0279e9ed041c3d710a9f57d0c02928416460c4b722ae3457a11eec381c526d'}],\n",
    "}\n",
    "\n",
    "utxo_details = {'subaccount': 0, 'num_confs': 0}\n",
    "utxos = s.get_unspent_outputs(json.dumps(utxo_details)).resolve()\n",
    "tx['utxos'] = utxos['unspent_outputs']\n",
    "txc = s.create_transaction(json.dumps(tx)).resolve()\n",
    "\n",
    "txg = s.sign_transaction(txc).resolve()\n",
    "txs = s.send_transaction(txg).resolve()\n",
    "print('Transaction sent!')\n",
    "print('txhash: {}'.format(txs[\"txhash\"]))"
   ]
  },
  {
   "cell_type": "markdown",
   "id": "b02f683d",
   "metadata": {},
   "source": [
    "## Mainnet singlesig"
   ]
  },
  {
   "cell_type": "code",
   "execution_count": 5,
   "id": "798be0fb",
   "metadata": {},
   "outputs": [
    {
     "ename": "RuntimeError",
     "evalue": "missing field `transaction`",
     "output_type": "error",
     "traceback": [
      "\u001b[0;31m---------------------------------------------------------------------------\u001b[0m",
      "\u001b[0;31mRuntimeError\u001b[0m                              Traceback (most recent call last)",
      "\u001b[1;32m/home/valerio/github/gdk-examples/spend.ipynb Cell 12'\u001b[0m in \u001b[0;36m<cell line: 25>\u001b[0;34m()\u001b[0m\n\u001b[1;32m     <a href='vscode-notebook-cell:/home/valerio/github/gdk-examples/spend.ipynb#ch0000012?line=21'>22</a>\u001b[0m tx[\u001b[39m'\u001b[39m\u001b[39mutxos\u001b[39m\u001b[39m'\u001b[39m] \u001b[39m=\u001b[39m utxos[\u001b[39m'\u001b[39m\u001b[39munspent_outputs\u001b[39m\u001b[39m'\u001b[39m]\n\u001b[1;32m     <a href='vscode-notebook-cell:/home/valerio/github/gdk-examples/spend.ipynb#ch0000012?line=22'>23</a>\u001b[0m txc \u001b[39m=\u001b[39m s\u001b[39m.\u001b[39mcreate_transaction(json\u001b[39m.\u001b[39mdumps(tx))\u001b[39m.\u001b[39mresolve()\n\u001b[0;32m---> <a href='vscode-notebook-cell:/home/valerio/github/gdk-examples/spend.ipynb#ch0000012?line=24'>25</a>\u001b[0m txg \u001b[39m=\u001b[39m s\u001b[39m.\u001b[39;49msign_transaction(txc)\u001b[39m.\u001b[39;49mresolve()\n\u001b[1;32m     <a href='vscode-notebook-cell:/home/valerio/github/gdk-examples/spend.ipynb#ch0000012?line=25'>26</a>\u001b[0m txs \u001b[39m=\u001b[39m s\u001b[39m.\u001b[39msend_transaction(txg)\u001b[39m.\u001b[39mresolve()\n\u001b[1;32m     <a href='vscode-notebook-cell:/home/valerio/github/gdk-examples/spend.ipynb#ch0000012?line=26'>27</a>\u001b[0m \u001b[39mprint\u001b[39m(\u001b[39m'\u001b[39m\u001b[39mTransaction sent!\u001b[39m\u001b[39m'\u001b[39m)\n",
      "File \u001b[0;32m~/.local/lib/python3.9/site-packages/greenaddress/__init__.py:339\u001b[0m, in \u001b[0;36mCall.resolve\u001b[0;34m(self, select_method_fn, resolve_code_fn)\u001b[0m\n\u001b[1;32m    337\u001b[0m \u001b[39mif\u001b[39;00m state \u001b[39m==\u001b[39m \u001b[39m'\u001b[39m\u001b[39merror\u001b[39m\u001b[39m'\u001b[39m:\n\u001b[1;32m    338\u001b[0m     \u001b[39mself\u001b[39m\u001b[39m.\u001b[39mcall_obj \u001b[39m=\u001b[39m \u001b[39mNone\u001b[39;00m\n\u001b[0;32m--> 339\u001b[0m     \u001b[39mraise\u001b[39;00m \u001b[39mRuntimeError\u001b[39;00m(status[\u001b[39m'\u001b[39m\u001b[39merror\u001b[39m\u001b[39m'\u001b[39m])\n\u001b[1;32m    340\u001b[0m \u001b[39mif\u001b[39;00m state \u001b[39m==\u001b[39m \u001b[39m'\u001b[39m\u001b[39mdone\u001b[39m\u001b[39m'\u001b[39m:\n\u001b[1;32m    341\u001b[0m     \u001b[39mself\u001b[39m\u001b[39m.\u001b[39mcall_obj \u001b[39m=\u001b[39m \u001b[39mNone\u001b[39;00m\n",
      "\u001b[0;31mRuntimeError\u001b[0m: missing field `transaction`"
     ]
    }
   ],
   "source": [
    "import greenaddress\n",
    "try:\n",
    "    greenaddress.init({})\n",
    "except:\n",
    "    pass\n",
    "\n",
    "gdkMnemonic = 'order earth buddy render ocean produce bacon orchard congress law illness goat'\n",
    "if not greenaddress.validate_mnemonic(gdkMnemonic):\n",
    "    raise Exception(\"Invalid mnemonic.\")\n",
    "\n",
    "s = greenaddress.Session({'name': 'electrum-liquid', 'log_level': 'info'})\n",
    "\n",
    "s.login_user({}, {'mnemonic': gdkMnemonic}).resolve()\n",
    "\n",
    "tx = {\n",
    "    'subaccount': 0,\n",
    "    'addressees': [{'satoshi': 1000, 'address': 'VJL7N8CXJnF5f3NRXYWf79aVBLSYt68fDQQs7c3EAaUPaDYxzt49Grdaxp2vJ3a6HPjJSp2Hiakwaj6v', 'asset_id':'6f0279e9ed041c3d710a9f57d0c02928416460c4b722ae3457a11eec381c526d'}],\n",
    "}\n",
    "\n",
    "utxo_details = {'subaccount': 0, 'num_confs': 0}\n",
    "utxos = s.get_unspent_outputs(json.dumps(utxo_details)).resolve()\n",
    "tx['utxos'] = utxos['unspent_outputs']\n",
    "txc = s.create_transaction(json.dumps(tx)).resolve()\n",
    "\n",
    "txg = s.sign_transaction(txc).resolve()\n",
    "txs = s.send_transaction(txg).resolve()\n",
    "print('Transaction sent!')\n",
    "print('txhash: {}'.format(txs[\"txhash\"]))"
   ]
  },
  {
   "cell_type": "markdown",
   "id": "b10237d5",
   "metadata": {},
   "source": [
    "## Testnet multisig"
   ]
  },
  {
   "cell_type": "code",
   "execution_count": null,
   "id": "0519f817",
   "metadata": {},
   "outputs": [
    {
     "name": "stdout",
     "output_type": "stream",
     "text": [
      "[2022-02-10 22:28:16.649490] [0x00007f2b50b25740] [error]   assertion failure: ../src/session.cpp:init:44:\n",
      "[2022-02-10 22:28:16.655977] [0x00007f2b50b25740] [info]    Connecting using version 0d24d00c to wss://green-liquid-testnet.blockstream.com/v2/ws\n",
      "[2022-02-10 22:28:16.926963] [0x00007f2b50b25740] [info]    /root/.blockstream/gdk/17df8f1a136fda0eeae3b80d31ab7439e.sqliteaesgcm loaded correctly\n",
      "[2022-02-10 22:28:16.994377] [0x00007f2b50b25740] [info]    Load blob ver 4 over 0\n",
      "[2022-02-10 22:28:18.044521] [0x00007f2b50b25740] [warning] send_transaction call exception: id_invalid_twofactor_code\n"
     ]
    },
    {
     "ename": "RuntimeError",
     "evalue": "id_invalid_twofactor_code",
     "output_type": "error",
     "traceback": [
      "\u001b[0;31m---------------------------------------------------------------------------\u001b[0m",
      "\u001b[0;31mRuntimeError\u001b[0m                              Traceback (most recent call last)",
      "\u001b[0;32m/tmp/ipykernel_2570065/749662528.py\u001b[0m in \u001b[0;36m<module>\u001b[0;34m\u001b[0m\n\u001b[1;32m     24\u001b[0m \u001b[0;34m\u001b[0m\u001b[0m\n\u001b[1;32m     25\u001b[0m \u001b[0mtxg\u001b[0m \u001b[0;34m=\u001b[0m \u001b[0ms\u001b[0m\u001b[0;34m.\u001b[0m\u001b[0msign_transaction\u001b[0m\u001b[0;34m(\u001b[0m\u001b[0mtxc\u001b[0m\u001b[0;34m)\u001b[0m\u001b[0;34m.\u001b[0m\u001b[0mresolve\u001b[0m\u001b[0;34m(\u001b[0m\u001b[0;34m)\u001b[0m\u001b[0;34m\u001b[0m\u001b[0;34m\u001b[0m\u001b[0m\n\u001b[0;32m---> 26\u001b[0;31m \u001b[0mtxs\u001b[0m \u001b[0;34m=\u001b[0m \u001b[0ms\u001b[0m\u001b[0;34m.\u001b[0m\u001b[0msend_transaction\u001b[0m\u001b[0;34m(\u001b[0m\u001b[0mtxg\u001b[0m\u001b[0;34m)\u001b[0m\u001b[0;34m.\u001b[0m\u001b[0mresolve\u001b[0m\u001b[0;34m(\u001b[0m\u001b[0;34m)\u001b[0m\u001b[0;34m\u001b[0m\u001b[0;34m\u001b[0m\u001b[0m\n\u001b[0m\u001b[1;32m     27\u001b[0m \u001b[0mprint\u001b[0m\u001b[0;34m(\u001b[0m\u001b[0;34m'Transaction sent!'\u001b[0m\u001b[0;34m)\u001b[0m\u001b[0;34m\u001b[0m\u001b[0;34m\u001b[0m\u001b[0m\n\u001b[1;32m     28\u001b[0m \u001b[0mprint\u001b[0m\u001b[0;34m(\u001b[0m\u001b[0;34m'txhash: {}'\u001b[0m\u001b[0;34m.\u001b[0m\u001b[0mformat\u001b[0m\u001b[0;34m(\u001b[0m\u001b[0mtxs\u001b[0m\u001b[0;34m[\u001b[0m\u001b[0;34m\"txhash\"\u001b[0m\u001b[0;34m]\u001b[0m\u001b[0;34m)\u001b[0m\u001b[0;34m)\u001b[0m\u001b[0;34m\u001b[0m\u001b[0;34m\u001b[0m\u001b[0m\n",
      "\u001b[0;32m/opt/liquidtestnet.com/venv3/lib/python3.7/site-packages/greenaddress/__init__.py\u001b[0m in \u001b[0;36mresolve\u001b[0;34m(self, select_method_fn, resolve_code_fn)\u001b[0m\n\u001b[1;32m    407\u001b[0m             \u001b[0;32mif\u001b[0m \u001b[0mstate\u001b[0m \u001b[0;34m==\u001b[0m \u001b[0;34m'error'\u001b[0m\u001b[0;34m:\u001b[0m\u001b[0;34m\u001b[0m\u001b[0;34m\u001b[0m\u001b[0m\n\u001b[1;32m    408\u001b[0m                 \u001b[0mself\u001b[0m\u001b[0;34m.\u001b[0m\u001b[0mcall_obj\u001b[0m \u001b[0;34m=\u001b[0m \u001b[0;32mNone\u001b[0m\u001b[0;34m\u001b[0m\u001b[0;34m\u001b[0m\u001b[0m\n\u001b[0;32m--> 409\u001b[0;31m                 \u001b[0;32mraise\u001b[0m \u001b[0mRuntimeError\u001b[0m\u001b[0;34m(\u001b[0m\u001b[0mstatus\u001b[0m\u001b[0;34m[\u001b[0m\u001b[0;34m'error'\u001b[0m\u001b[0;34m]\u001b[0m\u001b[0;34m)\u001b[0m\u001b[0;34m\u001b[0m\u001b[0;34m\u001b[0m\u001b[0m\n\u001b[0m\u001b[1;32m    410\u001b[0m             \u001b[0;32mif\u001b[0m \u001b[0mstate\u001b[0m \u001b[0;34m==\u001b[0m \u001b[0;34m'done'\u001b[0m\u001b[0;34m:\u001b[0m\u001b[0;34m\u001b[0m\u001b[0;34m\u001b[0m\u001b[0m\n\u001b[1;32m    411\u001b[0m                 \u001b[0mself\u001b[0m\u001b[0;34m.\u001b[0m\u001b[0mcall_obj\u001b[0m \u001b[0;34m=\u001b[0m \u001b[0;32mNone\u001b[0m\u001b[0;34m\u001b[0m\u001b[0;34m\u001b[0m\u001b[0m\n",
      "\u001b[0;31mRuntimeError\u001b[0m: id_invalid_twofactor_code"
     ]
    }
   ],
   "source": [
    "import greenaddress\n",
    "try:\n",
    "    greenaddress.init({})\n",
    "except:\n",
    "    pass\n",
    "\n",
    "gdkMnemonic = 'order earth buddy render ocean produce bacon orchard congress law illness goat'\n",
    "if not greenaddress.validate_mnemonic(gdkMnemonic):\n",
    "    raise Exception(\"Invalid mnemonic.\")\n",
    "\n",
    "s = greenaddress.Session({'name': 'testnet-liquid', 'log_level': 'info'})\n",
    "\n",
    "s.login_user({}, {'mnemonic': gdkMnemonic}).resolve()\n",
    "\n",
    "tx = {\n",
    "    'subaccount': 0,\n",
    "    'addressees': [{'satoshi': 1000, 'address': 'vjTzH8FPweLHyLaa2dagCLvrdWbmEVcPib8d1Mk6p9mHM2xmEL94xDzd8W6LnCzdqkh5t59tToEk3nXy', 'asset_id':'144c654344aa716d6f3abcc1ca90e5641e4e2a7f633bc09fe3baf64585819a49'}],\n",
    "}\n",
    "\n",
    "utxo_details = {'subaccount': 0, 'num_confs': 0}\n",
    "utxos = s.get_unspent_outputs(json.dumps(utxo_details)).resolve()\n",
    "tx['utxos'] = utxos['unspent_outputs']\n",
    "txc = s.create_transaction(json.dumps(tx)).resolve()\n",
    "\n",
    "txg = s.sign_transaction(txc).resolve()\n",
    "txs = s.send_transaction(txg).resolve()\n",
    "print('Transaction sent!')\n",
    "print('txhash: {}'.format(txs[\"txhash\"]))"
   ]
  },
  {
   "cell_type": "markdown",
   "id": "68f2e005",
   "metadata": {},
   "source": [
    "## Testnet singlesig"
   ]
  },
  {
   "cell_type": "code",
   "execution_count": 8,
   "id": "cc4089ed",
   "metadata": {},
   "outputs": [
    {
     "ename": "RuntimeError",
     "evalue": "missing field `transaction`",
     "output_type": "error",
     "traceback": [
      "\u001b[0;31m---------------------------------------------------------------------------\u001b[0m",
      "\u001b[0;31mRuntimeError\u001b[0m                              Traceback (most recent call last)",
      "\u001b[1;32m/home/valerio/github/gdk-examples/spend.ipynb Cell 16'\u001b[0m in \u001b[0;36m<cell line: 25>\u001b[0;34m()\u001b[0m\n\u001b[1;32m     <a href='vscode-notebook-cell:/home/valerio/github/gdk-examples/spend.ipynb#ch0000014?line=21'>22</a>\u001b[0m tx[\u001b[39m'\u001b[39m\u001b[39mutxos\u001b[39m\u001b[39m'\u001b[39m] \u001b[39m=\u001b[39m utxos[\u001b[39m'\u001b[39m\u001b[39munspent_outputs\u001b[39m\u001b[39m'\u001b[39m]\n\u001b[1;32m     <a href='vscode-notebook-cell:/home/valerio/github/gdk-examples/spend.ipynb#ch0000014?line=22'>23</a>\u001b[0m txc \u001b[39m=\u001b[39m s\u001b[39m.\u001b[39mcreate_transaction(json\u001b[39m.\u001b[39mdumps(tx))\u001b[39m.\u001b[39mresolve()\n\u001b[0;32m---> <a href='vscode-notebook-cell:/home/valerio/github/gdk-examples/spend.ipynb#ch0000014?line=24'>25</a>\u001b[0m txg \u001b[39m=\u001b[39m s\u001b[39m.\u001b[39;49msign_transaction(txc)\u001b[39m.\u001b[39;49mresolve()\n\u001b[1;32m     <a href='vscode-notebook-cell:/home/valerio/github/gdk-examples/spend.ipynb#ch0000014?line=25'>26</a>\u001b[0m txs \u001b[39m=\u001b[39m s\u001b[39m.\u001b[39msend_transaction(txg)\u001b[39m.\u001b[39mresolve()\n\u001b[1;32m     <a href='vscode-notebook-cell:/home/valerio/github/gdk-examples/spend.ipynb#ch0000014?line=26'>27</a>\u001b[0m \u001b[39mprint\u001b[39m(\u001b[39m'\u001b[39m\u001b[39mTransaction sent!\u001b[39m\u001b[39m'\u001b[39m)\n",
      "File \u001b[0;32m~/.local/lib/python3.9/site-packages/greenaddress/__init__.py:339\u001b[0m, in \u001b[0;36mCall.resolve\u001b[0;34m(self, select_method_fn, resolve_code_fn)\u001b[0m\n\u001b[1;32m    337\u001b[0m \u001b[39mif\u001b[39;00m state \u001b[39m==\u001b[39m \u001b[39m'\u001b[39m\u001b[39merror\u001b[39m\u001b[39m'\u001b[39m:\n\u001b[1;32m    338\u001b[0m     \u001b[39mself\u001b[39m\u001b[39m.\u001b[39mcall_obj \u001b[39m=\u001b[39m \u001b[39mNone\u001b[39;00m\n\u001b[0;32m--> 339\u001b[0m     \u001b[39mraise\u001b[39;00m \u001b[39mRuntimeError\u001b[39;00m(status[\u001b[39m'\u001b[39m\u001b[39merror\u001b[39m\u001b[39m'\u001b[39m])\n\u001b[1;32m    340\u001b[0m \u001b[39mif\u001b[39;00m state \u001b[39m==\u001b[39m \u001b[39m'\u001b[39m\u001b[39mdone\u001b[39m\u001b[39m'\u001b[39m:\n\u001b[1;32m    341\u001b[0m     \u001b[39mself\u001b[39m\u001b[39m.\u001b[39mcall_obj \u001b[39m=\u001b[39m \u001b[39mNone\u001b[39;00m\n",
      "\u001b[0;31mRuntimeError\u001b[0m: missing field `transaction`"
     ]
    }
   ],
   "source": [
    "import greenaddress\n",
    "try:\n",
    "    greenaddress.init({})\n",
    "except:\n",
    "    pass\n",
    "\n",
    "gdkMnemonic = 'order earth buddy render ocean produce bacon orchard congress law illness goat'\n",
    "if not greenaddress.validate_mnemonic(gdkMnemonic):\n",
    "    raise Exception(\"Invalid mnemonic.\")\n",
    "\n",
    "s = greenaddress.Session({'name': 'electrum-testnet-liquid', 'log_level': 'info'})\n",
    "\n",
    "s.login_user({}, {'mnemonic': gdkMnemonic}).resolve()\n",
    "\n",
    "tx = {\n",
    "    'subaccount': 0,\n",
    "    'addressees': [{'satoshi': 1000, 'address': 'vjTzH8FPweLHyLaa2dagCLvrdWbmEVcPib8d1Mk6p9mHM2xmEL94xDzd8W6LnCzdqkh5t59tToEk3nXy', 'asset_id':'144c654344aa716d6f3abcc1ca90e5641e4e2a7f633bc09fe3baf64585819a49'}],\n",
    "}\n",
    "\n",
    "utxo_details = {'subaccount': 0, 'num_confs': 0}\n",
    "utxos = s.get_unspent_outputs(json.dumps(utxo_details)).resolve()\n",
    "tx['utxos'] = utxos['unspent_outputs']\n",
    "txc = s.create_transaction(json.dumps(tx)).resolve()\n",
    "\n",
    "txg = s.sign_transaction(txc).resolve()\n",
    "txs = s.send_transaction(txg).resolve()\n",
    "print('Transaction sent!')\n",
    "print('txhash: {}'.format(txs[\"txhash\"]))"
   ]
  }
 ],
 "metadata": {
  "interpreter": {
   "hash": "f9f85f796d01129d0dd105a088854619f454435301f6ffec2fea96ecbd9be4ac"
  },
  "kernelspec": {
   "display_name": "Python 3.9.12 64-bit",
   "language": "python",
   "name": "python3"
  },
  "language_info": {
   "codemirror_mode": {
    "name": "ipython",
    "version": 3
   },
   "file_extension": ".py",
   "mimetype": "text/x-python",
   "name": "python",
   "nbconvert_exporter": "python",
   "pygments_lexer": "ipython3",
   "version": "3.9.13"
  }
 },
 "nbformat": 4,
 "nbformat_minor": 5
}
