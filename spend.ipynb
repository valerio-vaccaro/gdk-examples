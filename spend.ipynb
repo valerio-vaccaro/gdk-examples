{
 "cells": [
  {
   "cell_type": "markdown",
   "id": "62685496",
   "metadata": {},
   "source": [
    "# Bitcoin\n",
    "## Mainnet"
   ]
  },
  {
   "cell_type": "code",
   "execution_count": 6,
   "id": "35981675",
   "metadata": {},
   "outputs": [
    {
     "name": "stdout",
     "output_type": "stream",
     "text": [
      "[2022-02-10 22:24:22.018567] [0x00007f2b50b25740] [error]   assertion failure: ../src/session.cpp:init:44:\n",
      "[2022-02-10 22:24:22.025188] [0x00007f2b50b25740] [info]    Connecting using version 0d24d00c to wss://prodwss.greenaddress.it/v2/ws\n",
      "[2022-02-10 22:24:22.379322] [0x00007f2b50b25740] [info]    /root/.blockstream/gdk/15b1519d0f83d03ed889eacc38ac2cd75.sqliteaesgcm loaded correctly\n",
      "[2022-02-10 22:24:22.444893] [0x00007f2b50b25740] [info]    Load blob ver 1 over 0\n",
      "[2022-02-10 22:24:22.803270] [0x00007f2b50b25740] [error]   assertion failure: ../src/ga_tx.cpp:get_ga_signing_inputs:983:id_insufficient_funds\n",
      "[2022-02-10 22:24:22.803363] [0x00007f2b50b25740] [warning] sign_transaction call exception: assertion failure: ../src/ga_tx.cpp:get_ga_signing_inputs:983:id_insufficient_funds\n"
     ]
    },
    {
     "ename": "RuntimeError",
     "evalue": "assertion failure: ../src/ga_tx.cpp:get_ga_signing_inputs:983:id_insufficient_funds",
     "output_type": "error",
     "traceback": [
      "\u001b[0;31m---------------------------------------------------------------------------\u001b[0m",
      "\u001b[0;31mRuntimeError\u001b[0m                              Traceback (most recent call last)",
      "\u001b[0;32m/tmp/ipykernel_2570065/3738087099.py\u001b[0m in \u001b[0;36m<module>\u001b[0;34m\u001b[0m\n\u001b[1;32m     23\u001b[0m \u001b[0mtxc\u001b[0m \u001b[0;34m=\u001b[0m \u001b[0ms\u001b[0m\u001b[0;34m.\u001b[0m\u001b[0mcreate_transaction\u001b[0m\u001b[0;34m(\u001b[0m\u001b[0mjson\u001b[0m\u001b[0;34m.\u001b[0m\u001b[0mdumps\u001b[0m\u001b[0;34m(\u001b[0m\u001b[0mtx\u001b[0m\u001b[0;34m)\u001b[0m\u001b[0;34m)\u001b[0m\u001b[0;34m.\u001b[0m\u001b[0mresolve\u001b[0m\u001b[0;34m(\u001b[0m\u001b[0;34m)\u001b[0m\u001b[0;34m\u001b[0m\u001b[0;34m\u001b[0m\u001b[0m\n\u001b[1;32m     24\u001b[0m \u001b[0;34m\u001b[0m\u001b[0m\n\u001b[0;32m---> 25\u001b[0;31m \u001b[0mtxg\u001b[0m \u001b[0;34m=\u001b[0m \u001b[0ms\u001b[0m\u001b[0;34m.\u001b[0m\u001b[0msign_transaction\u001b[0m\u001b[0;34m(\u001b[0m\u001b[0mtxc\u001b[0m\u001b[0;34m)\u001b[0m\u001b[0;34m.\u001b[0m\u001b[0mresolve\u001b[0m\u001b[0;34m(\u001b[0m\u001b[0;34m)\u001b[0m\u001b[0;34m\u001b[0m\u001b[0;34m\u001b[0m\u001b[0m\n\u001b[0m\u001b[1;32m     26\u001b[0m \u001b[0mtxs\u001b[0m \u001b[0;34m=\u001b[0m \u001b[0ms\u001b[0m\u001b[0;34m.\u001b[0m\u001b[0msend_transaction\u001b[0m\u001b[0;34m(\u001b[0m\u001b[0mtxg\u001b[0m\u001b[0;34m)\u001b[0m\u001b[0;34m.\u001b[0m\u001b[0mresolve\u001b[0m\u001b[0;34m(\u001b[0m\u001b[0;34m)\u001b[0m\u001b[0;34m\u001b[0m\u001b[0;34m\u001b[0m\u001b[0m\n\u001b[1;32m     27\u001b[0m \u001b[0mprint\u001b[0m\u001b[0;34m(\u001b[0m\u001b[0;34m'Transaction sent!'\u001b[0m\u001b[0;34m)\u001b[0m\u001b[0;34m\u001b[0m\u001b[0;34m\u001b[0m\u001b[0m\n",
      "\u001b[0;32m/opt/liquidtestnet.com/venv3/lib/python3.7/site-packages/greenaddress/__init__.py\u001b[0m in \u001b[0;36mresolve\u001b[0;34m(self, select_method_fn, resolve_code_fn)\u001b[0m\n\u001b[1;32m    407\u001b[0m             \u001b[0;32mif\u001b[0m \u001b[0mstate\u001b[0m \u001b[0;34m==\u001b[0m \u001b[0;34m'error'\u001b[0m\u001b[0;34m:\u001b[0m\u001b[0;34m\u001b[0m\u001b[0;34m\u001b[0m\u001b[0m\n\u001b[1;32m    408\u001b[0m                 \u001b[0mself\u001b[0m\u001b[0;34m.\u001b[0m\u001b[0mcall_obj\u001b[0m \u001b[0;34m=\u001b[0m \u001b[0;32mNone\u001b[0m\u001b[0;34m\u001b[0m\u001b[0;34m\u001b[0m\u001b[0m\n\u001b[0;32m--> 409\u001b[0;31m                 \u001b[0;32mraise\u001b[0m \u001b[0mRuntimeError\u001b[0m\u001b[0;34m(\u001b[0m\u001b[0mstatus\u001b[0m\u001b[0;34m[\u001b[0m\u001b[0;34m'error'\u001b[0m\u001b[0;34m]\u001b[0m\u001b[0;34m)\u001b[0m\u001b[0;34m\u001b[0m\u001b[0;34m\u001b[0m\u001b[0m\n\u001b[0m\u001b[1;32m    410\u001b[0m             \u001b[0;32mif\u001b[0m \u001b[0mstate\u001b[0m \u001b[0;34m==\u001b[0m \u001b[0;34m'done'\u001b[0m\u001b[0;34m:\u001b[0m\u001b[0;34m\u001b[0m\u001b[0;34m\u001b[0m\u001b[0m\n\u001b[1;32m    411\u001b[0m                 \u001b[0mself\u001b[0m\u001b[0;34m.\u001b[0m\u001b[0mcall_obj\u001b[0m \u001b[0;34m=\u001b[0m \u001b[0;32mNone\u001b[0m\u001b[0;34m\u001b[0m\u001b[0;34m\u001b[0m\u001b[0m\n",
      "\u001b[0;31mRuntimeError\u001b[0m: assertion failure: ../src/ga_tx.cpp:get_ga_signing_inputs:983:id_insufficient_funds"
     ]
    }
   ],
   "source": [
    "import greenaddress\n",
    "import json\n",
    "try:\n",
    "    greenaddress.init({})\n",
    "except:\n",
    "    pass\n",
    "\n",
    "gdkMnemonic = 'order earth buddy render ocean produce bacon orchard congress law illness goat'\n",
    "if not greenaddress.validate_mnemonic(gdkMnemonic):\n",
    "    raise Exception(\"Invalid mnemonic.\")\n",
    "        \n",
    "s = greenaddress.Session({'name': 'mainnet', 'log_level': 'info'})\n",
    "\n",
    "s.login_user({}, {'mnemonic': gdkMnemonic}).resolve()\n",
    "\n",
    "tx = {\n",
    "    'subaccount': 0,\n",
    "    'addressees': [{'satoshi': 1000, 'address': '3KHbtg26MW2K2Dp5YSpBVZr5so1hP3bAzX'}],\n",
    "}\n",
    "\n",
    "utxo_details = {'subaccount': 0, 'num_confs': 0}\n",
    "utxos = s.get_unspent_outputs(json.dumps(utxo_details)).resolve()\n",
    "tx['utxos'] = utxos['unspent_outputs']\n",
    "txc = s.create_transaction(json.dumps(tx)).resolve()\n",
    "\n",
    "txg = s.sign_transaction(txc).resolve()\n",
    "txs = s.send_transaction(txg).resolve()\n",
    "print('Transaction sent!')\n",
    "print('txhash: {}'.format(txs[\"txhash\"]))"
   ]
  },
  {
   "cell_type": "markdown",
   "id": "6d953974",
   "metadata": {},
   "source": [
    "## Testnet"
   ]
  },
  {
   "cell_type": "code",
   "execution_count": 8,
   "id": "2f13d5e8",
   "metadata": {},
   "outputs": [
    {
     "name": "stdout",
     "output_type": "stream",
     "text": [
      "[2022-02-10 22:25:23.374741] [0x00007f2b50b25740] [error]   assertion failure: ../src/session.cpp:init:44:\n",
      "[2022-02-10 22:25:23.377352] [0x00007f2b50b25740] [info]    Connecting using version 0d24d00c to wss://testwss.greenaddress.it/v2/ws\n",
      "[2022-02-10 22:25:24.624459] [0x00007f2b50b25740] [info]    /root/.blockstream/gdk/1b197463da20b33602bec376c5c5dd8c7.sqliteaesgcm loaded correctly\n",
      "[2022-02-10 22:25:24.865484] [0x00007f2b50b25740] [info]    Load blob ver 1 over 0\n",
      "[2022-02-10 22:25:27.512011] [0x00007f2b50b25740] [warning] send_transaction call exception: id_invalid_twofactor_code\n"
     ]
    },
    {
     "ename": "RuntimeError",
     "evalue": "id_invalid_twofactor_code",
     "output_type": "error",
     "traceback": [
      "\u001b[0;31m---------------------------------------------------------------------------\u001b[0m",
      "\u001b[0;31mRuntimeError\u001b[0m                              Traceback (most recent call last)",
      "\u001b[0;32m/tmp/ipykernel_2570065/876120597.py\u001b[0m in \u001b[0;36m<module>\u001b[0;34m\u001b[0m\n\u001b[1;32m     24\u001b[0m \u001b[0;34m\u001b[0m\u001b[0m\n\u001b[1;32m     25\u001b[0m \u001b[0mtxg\u001b[0m \u001b[0;34m=\u001b[0m \u001b[0ms\u001b[0m\u001b[0;34m.\u001b[0m\u001b[0msign_transaction\u001b[0m\u001b[0;34m(\u001b[0m\u001b[0mtxc\u001b[0m\u001b[0;34m)\u001b[0m\u001b[0;34m.\u001b[0m\u001b[0mresolve\u001b[0m\u001b[0;34m(\u001b[0m\u001b[0;34m)\u001b[0m\u001b[0;34m\u001b[0m\u001b[0;34m\u001b[0m\u001b[0m\n\u001b[0;32m---> 26\u001b[0;31m \u001b[0mtxs\u001b[0m \u001b[0;34m=\u001b[0m \u001b[0ms\u001b[0m\u001b[0;34m.\u001b[0m\u001b[0msend_transaction\u001b[0m\u001b[0;34m(\u001b[0m\u001b[0mtxg\u001b[0m\u001b[0;34m)\u001b[0m\u001b[0;34m.\u001b[0m\u001b[0mresolve\u001b[0m\u001b[0;34m(\u001b[0m\u001b[0;34m)\u001b[0m\u001b[0;34m\u001b[0m\u001b[0;34m\u001b[0m\u001b[0m\n\u001b[0m\u001b[1;32m     27\u001b[0m \u001b[0mprint\u001b[0m\u001b[0;34m(\u001b[0m\u001b[0;34m'Transaction sent!'\u001b[0m\u001b[0;34m)\u001b[0m\u001b[0;34m\u001b[0m\u001b[0;34m\u001b[0m\u001b[0m\n\u001b[1;32m     28\u001b[0m \u001b[0mprint\u001b[0m\u001b[0;34m(\u001b[0m\u001b[0;34m'txhash: {}'\u001b[0m\u001b[0;34m.\u001b[0m\u001b[0mformat\u001b[0m\u001b[0;34m(\u001b[0m\u001b[0mtxs\u001b[0m\u001b[0;34m[\u001b[0m\u001b[0;34m\"txhash\"\u001b[0m\u001b[0;34m]\u001b[0m\u001b[0;34m)\u001b[0m\u001b[0;34m)\u001b[0m\u001b[0;34m\u001b[0m\u001b[0;34m\u001b[0m\u001b[0m\n",
      "\u001b[0;32m/opt/liquidtestnet.com/venv3/lib/python3.7/site-packages/greenaddress/__init__.py\u001b[0m in \u001b[0;36mresolve\u001b[0;34m(self, select_method_fn, resolve_code_fn)\u001b[0m\n\u001b[1;32m    407\u001b[0m             \u001b[0;32mif\u001b[0m \u001b[0mstate\u001b[0m \u001b[0;34m==\u001b[0m \u001b[0;34m'error'\u001b[0m\u001b[0;34m:\u001b[0m\u001b[0;34m\u001b[0m\u001b[0;34m\u001b[0m\u001b[0m\n\u001b[1;32m    408\u001b[0m                 \u001b[0mself\u001b[0m\u001b[0;34m.\u001b[0m\u001b[0mcall_obj\u001b[0m \u001b[0;34m=\u001b[0m \u001b[0;32mNone\u001b[0m\u001b[0;34m\u001b[0m\u001b[0;34m\u001b[0m\u001b[0m\n\u001b[0;32m--> 409\u001b[0;31m                 \u001b[0;32mraise\u001b[0m \u001b[0mRuntimeError\u001b[0m\u001b[0;34m(\u001b[0m\u001b[0mstatus\u001b[0m\u001b[0;34m[\u001b[0m\u001b[0;34m'error'\u001b[0m\u001b[0;34m]\u001b[0m\u001b[0;34m)\u001b[0m\u001b[0;34m\u001b[0m\u001b[0;34m\u001b[0m\u001b[0m\n\u001b[0m\u001b[1;32m    410\u001b[0m             \u001b[0;32mif\u001b[0m \u001b[0mstate\u001b[0m \u001b[0;34m==\u001b[0m \u001b[0;34m'done'\u001b[0m\u001b[0;34m:\u001b[0m\u001b[0;34m\u001b[0m\u001b[0;34m\u001b[0m\u001b[0m\n\u001b[1;32m    411\u001b[0m                 \u001b[0mself\u001b[0m\u001b[0;34m.\u001b[0m\u001b[0mcall_obj\u001b[0m \u001b[0;34m=\u001b[0m \u001b[0;32mNone\u001b[0m\u001b[0;34m\u001b[0m\u001b[0;34m\u001b[0m\u001b[0m\n",
      "\u001b[0;31mRuntimeError\u001b[0m: id_invalid_twofactor_code"
     ]
    }
   ],
   "source": [
    "import greenaddress\n",
    "try:\n",
    "    greenaddress.init({})\n",
    "except:\n",
    "    pass\n",
    "\n",
    "gdkMnemonic = 'order earth buddy render ocean produce bacon orchard congress law illness goat'\n",
    "if not greenaddress.validate_mnemonic(gdkMnemonic):\n",
    "    raise Exception(\"Invalid mnemonic.\")\n",
    "\n",
    "s = greenaddress.Session({'name': 'testnet', 'log_level': 'info'})\n",
    "\n",
    "s.login_user({}, {'mnemonic': gdkMnemonic}).resolve()\n",
    "\n",
    "tx = {\n",
    "    'subaccount': 0,\n",
    "    'addressees': [{'satoshi': 1000, 'address': '2NDyYxjGSWunueUPMaXnWzZxz7ve9eXYLK5'}],\n",
    "}\n",
    "\n",
    "utxo_details = {'subaccount': 0, 'num_confs': 0}\n",
    "utxos = s.get_unspent_outputs(json.dumps(utxo_details)).resolve()\n",
    "tx['utxos'] = utxos['unspent_outputs']\n",
    "txc = s.create_transaction(json.dumps(tx)).resolve()\n",
    "\n",
    "txg = s.sign_transaction(txc).resolve()\n",
    "txs = s.send_transaction(txg).resolve()\n",
    "print('Transaction sent!')\n",
    "print('txhash: {}'.format(txs[\"txhash\"]))"
   ]
  },
  {
   "cell_type": "markdown",
   "id": "c27a42ee",
   "metadata": {},
   "source": [
    "# Liquid\n",
    "## Mainnet"
   ]
  },
  {
   "cell_type": "code",
   "execution_count": 9,
   "id": "2b5219b9",
   "metadata": {},
   "outputs": [
    {
     "name": "stdout",
     "output_type": "stream",
     "text": [
      "[2022-02-10 22:27:28.707812] [0x00007f2b50b25740] [error]   assertion failure: ../src/session.cpp:init:44:\n",
      "[2022-02-10 22:27:28.712125] [0x00007f2b50b25740] [info]    Connecting using version 0d24d00c to wss://liquidwss.greenaddress.it/v2/ws\n",
      "[2022-02-10 22:27:29.016693] [0x00007f2b50b25740] [info]    /root/.blockstream/gdk/1130af3368afffe57f9d20223d84d5e3b.sqliteaesgcm loaded correctly\n",
      "[2022-02-10 22:27:29.069437] [0x00007f2b50b25740] [info]    Load blob ver 3 over 0\n",
      "[2022-02-10 22:27:29.334617] [0x00007f2b50b25740] [error]   assertion failure: ../src/ga_tx.cpp:blind_ga_transaction:1041:id_insufficient_funds\n",
      "[2022-02-10 22:27:29.335665] [0x00007f2b50b25740] [error]   assertion failure: ../src/ga_tx.cpp:blind_ga_transaction:1041:id_insufficient_funds\n",
      "[2022-02-10 22:27:29.336642] [0x00007f2b50b25740] [error]   assertion failure: ../src/ga_tx.cpp:get_ga_signing_inputs:983:id_insufficient_funds\n",
      "[2022-02-10 22:27:29.337024] [0x00007f2b50b25740] [warning] sign_transaction call exception: assertion failure: ../src/ga_tx.cpp:get_ga_signing_inputs:983:id_insufficient_funds\n"
     ]
    },
    {
     "ename": "RuntimeError",
     "evalue": "assertion failure: ../src/ga_tx.cpp:get_ga_signing_inputs:983:id_insufficient_funds",
     "output_type": "error",
     "traceback": [
      "\u001b[0;31m---------------------------------------------------------------------------\u001b[0m",
      "\u001b[0;31mRuntimeError\u001b[0m                              Traceback (most recent call last)",
      "\u001b[0;32m/tmp/ipykernel_2570065/390735242.py\u001b[0m in \u001b[0;36m<module>\u001b[0;34m\u001b[0m\n\u001b[1;32m     23\u001b[0m \u001b[0mtxc\u001b[0m \u001b[0;34m=\u001b[0m \u001b[0ms\u001b[0m\u001b[0;34m.\u001b[0m\u001b[0mcreate_transaction\u001b[0m\u001b[0;34m(\u001b[0m\u001b[0mjson\u001b[0m\u001b[0;34m.\u001b[0m\u001b[0mdumps\u001b[0m\u001b[0;34m(\u001b[0m\u001b[0mtx\u001b[0m\u001b[0;34m)\u001b[0m\u001b[0;34m)\u001b[0m\u001b[0;34m.\u001b[0m\u001b[0mresolve\u001b[0m\u001b[0;34m(\u001b[0m\u001b[0;34m)\u001b[0m\u001b[0;34m\u001b[0m\u001b[0;34m\u001b[0m\u001b[0m\n\u001b[1;32m     24\u001b[0m \u001b[0;34m\u001b[0m\u001b[0m\n\u001b[0;32m---> 25\u001b[0;31m \u001b[0mtxg\u001b[0m \u001b[0;34m=\u001b[0m \u001b[0ms\u001b[0m\u001b[0;34m.\u001b[0m\u001b[0msign_transaction\u001b[0m\u001b[0;34m(\u001b[0m\u001b[0mtxc\u001b[0m\u001b[0;34m)\u001b[0m\u001b[0;34m.\u001b[0m\u001b[0mresolve\u001b[0m\u001b[0;34m(\u001b[0m\u001b[0;34m)\u001b[0m\u001b[0;34m\u001b[0m\u001b[0;34m\u001b[0m\u001b[0m\n\u001b[0m\u001b[1;32m     26\u001b[0m \u001b[0mtxs\u001b[0m \u001b[0;34m=\u001b[0m \u001b[0ms\u001b[0m\u001b[0;34m.\u001b[0m\u001b[0msend_transaction\u001b[0m\u001b[0;34m(\u001b[0m\u001b[0mtxg\u001b[0m\u001b[0;34m)\u001b[0m\u001b[0;34m.\u001b[0m\u001b[0mresolve\u001b[0m\u001b[0;34m(\u001b[0m\u001b[0;34m)\u001b[0m\u001b[0;34m\u001b[0m\u001b[0;34m\u001b[0m\u001b[0m\n\u001b[1;32m     27\u001b[0m \u001b[0mprint\u001b[0m\u001b[0;34m(\u001b[0m\u001b[0;34m'Transaction sent!'\u001b[0m\u001b[0;34m)\u001b[0m\u001b[0;34m\u001b[0m\u001b[0;34m\u001b[0m\u001b[0m\n",
      "\u001b[0;32m/opt/liquidtestnet.com/venv3/lib/python3.7/site-packages/greenaddress/__init__.py\u001b[0m in \u001b[0;36mresolve\u001b[0;34m(self, select_method_fn, resolve_code_fn)\u001b[0m\n\u001b[1;32m    407\u001b[0m             \u001b[0;32mif\u001b[0m \u001b[0mstate\u001b[0m \u001b[0;34m==\u001b[0m \u001b[0;34m'error'\u001b[0m\u001b[0;34m:\u001b[0m\u001b[0;34m\u001b[0m\u001b[0;34m\u001b[0m\u001b[0m\n\u001b[1;32m    408\u001b[0m                 \u001b[0mself\u001b[0m\u001b[0;34m.\u001b[0m\u001b[0mcall_obj\u001b[0m \u001b[0;34m=\u001b[0m \u001b[0;32mNone\u001b[0m\u001b[0;34m\u001b[0m\u001b[0;34m\u001b[0m\u001b[0m\n\u001b[0;32m--> 409\u001b[0;31m                 \u001b[0;32mraise\u001b[0m \u001b[0mRuntimeError\u001b[0m\u001b[0;34m(\u001b[0m\u001b[0mstatus\u001b[0m\u001b[0;34m[\u001b[0m\u001b[0;34m'error'\u001b[0m\u001b[0;34m]\u001b[0m\u001b[0;34m)\u001b[0m\u001b[0;34m\u001b[0m\u001b[0;34m\u001b[0m\u001b[0m\n\u001b[0m\u001b[1;32m    410\u001b[0m             \u001b[0;32mif\u001b[0m \u001b[0mstate\u001b[0m \u001b[0;34m==\u001b[0m \u001b[0;34m'done'\u001b[0m\u001b[0;34m:\u001b[0m\u001b[0;34m\u001b[0m\u001b[0;34m\u001b[0m\u001b[0m\n\u001b[1;32m    411\u001b[0m                 \u001b[0mself\u001b[0m\u001b[0;34m.\u001b[0m\u001b[0mcall_obj\u001b[0m \u001b[0;34m=\u001b[0m \u001b[0;32mNone\u001b[0m\u001b[0;34m\u001b[0m\u001b[0;34m\u001b[0m\u001b[0m\n",
      "\u001b[0;31mRuntimeError\u001b[0m: assertion failure: ../src/ga_tx.cpp:get_ga_signing_inputs:983:id_insufficient_funds"
     ]
    }
   ],
   "source": [
    "import greenaddress\n",
    "try:\n",
    "    greenaddress.init({})\n",
    "except:\n",
    "    pass\n",
    "\n",
    "gdkMnemonic = 'order earth buddy render ocean produce bacon orchard congress law illness goat'\n",
    "if not greenaddress.validate_mnemonic(gdkMnemonic):\n",
    "    raise Exception(\"Invalid mnemonic.\")\n",
    "\n",
    "s = greenaddress.Session({'name': 'liquid', 'log_level': 'info'})\n",
    "\n",
    "s.login_user({}, {'mnemonic': gdkMnemonic}).resolve()\n",
    "\n",
    "tx = {\n",
    "    'subaccount': 0,\n",
    "    'addressees': [{'satoshi': 1000, 'address': 'VJL7N8CXJnF5f3NRXYWf79aVBLSYt68fDQQs7c3EAaUPaDYxzt49Grdaxp2vJ3a6HPjJSp2Hiakwaj6v', 'asset_id':'6f0279e9ed041c3d710a9f57d0c02928416460c4b722ae3457a11eec381c526d'}],\n",
    "}\n",
    "\n",
    "utxo_details = {'subaccount': 0, 'num_confs': 0}\n",
    "utxos = s.get_unspent_outputs(json.dumps(utxo_details)).resolve()\n",
    "tx['utxos'] = utxos['unspent_outputs']\n",
    "txc = s.create_transaction(json.dumps(tx)).resolve()\n",
    "\n",
    "txg = s.sign_transaction(txc).resolve()\n",
    "txs = s.send_transaction(txg).resolve()\n",
    "print('Transaction sent!')\n",
    "print('txhash: {}'.format(txs[\"txhash\"]))"
   ]
  },
  {
   "cell_type": "markdown",
   "id": "b10237d5",
   "metadata": {},
   "source": [
    "## Testnet"
   ]
  },
  {
   "cell_type": "code",
   "execution_count": 10,
   "id": "0519f817",
   "metadata": {},
   "outputs": [
    {
     "name": "stdout",
     "output_type": "stream",
     "text": [
      "[2022-02-10 22:28:16.649490] [0x00007f2b50b25740] [error]   assertion failure: ../src/session.cpp:init:44:\n",
      "[2022-02-10 22:28:16.655977] [0x00007f2b50b25740] [info]    Connecting using version 0d24d00c to wss://green-liquid-testnet.blockstream.com/v2/ws\n",
      "[2022-02-10 22:28:16.926963] [0x00007f2b50b25740] [info]    /root/.blockstream/gdk/17df8f1a136fda0eeae3b80d31ab7439e.sqliteaesgcm loaded correctly\n",
      "[2022-02-10 22:28:16.994377] [0x00007f2b50b25740] [info]    Load blob ver 4 over 0\n",
      "[2022-02-10 22:28:18.044521] [0x00007f2b50b25740] [warning] send_transaction call exception: id_invalid_twofactor_code\n"
     ]
    },
    {
     "ename": "RuntimeError",
     "evalue": "id_invalid_twofactor_code",
     "output_type": "error",
     "traceback": [
      "\u001b[0;31m---------------------------------------------------------------------------\u001b[0m",
      "\u001b[0;31mRuntimeError\u001b[0m                              Traceback (most recent call last)",
      "\u001b[0;32m/tmp/ipykernel_2570065/749662528.py\u001b[0m in \u001b[0;36m<module>\u001b[0;34m\u001b[0m\n\u001b[1;32m     24\u001b[0m \u001b[0;34m\u001b[0m\u001b[0m\n\u001b[1;32m     25\u001b[0m \u001b[0mtxg\u001b[0m \u001b[0;34m=\u001b[0m \u001b[0ms\u001b[0m\u001b[0;34m.\u001b[0m\u001b[0msign_transaction\u001b[0m\u001b[0;34m(\u001b[0m\u001b[0mtxc\u001b[0m\u001b[0;34m)\u001b[0m\u001b[0;34m.\u001b[0m\u001b[0mresolve\u001b[0m\u001b[0;34m(\u001b[0m\u001b[0;34m)\u001b[0m\u001b[0;34m\u001b[0m\u001b[0;34m\u001b[0m\u001b[0m\n\u001b[0;32m---> 26\u001b[0;31m \u001b[0mtxs\u001b[0m \u001b[0;34m=\u001b[0m \u001b[0ms\u001b[0m\u001b[0;34m.\u001b[0m\u001b[0msend_transaction\u001b[0m\u001b[0;34m(\u001b[0m\u001b[0mtxg\u001b[0m\u001b[0;34m)\u001b[0m\u001b[0;34m.\u001b[0m\u001b[0mresolve\u001b[0m\u001b[0;34m(\u001b[0m\u001b[0;34m)\u001b[0m\u001b[0;34m\u001b[0m\u001b[0;34m\u001b[0m\u001b[0m\n\u001b[0m\u001b[1;32m     27\u001b[0m \u001b[0mprint\u001b[0m\u001b[0;34m(\u001b[0m\u001b[0;34m'Transaction sent!'\u001b[0m\u001b[0;34m)\u001b[0m\u001b[0;34m\u001b[0m\u001b[0;34m\u001b[0m\u001b[0m\n\u001b[1;32m     28\u001b[0m \u001b[0mprint\u001b[0m\u001b[0;34m(\u001b[0m\u001b[0;34m'txhash: {}'\u001b[0m\u001b[0;34m.\u001b[0m\u001b[0mformat\u001b[0m\u001b[0;34m(\u001b[0m\u001b[0mtxs\u001b[0m\u001b[0;34m[\u001b[0m\u001b[0;34m\"txhash\"\u001b[0m\u001b[0;34m]\u001b[0m\u001b[0;34m)\u001b[0m\u001b[0;34m)\u001b[0m\u001b[0;34m\u001b[0m\u001b[0;34m\u001b[0m\u001b[0m\n",
      "\u001b[0;32m/opt/liquidtestnet.com/venv3/lib/python3.7/site-packages/greenaddress/__init__.py\u001b[0m in \u001b[0;36mresolve\u001b[0;34m(self, select_method_fn, resolve_code_fn)\u001b[0m\n\u001b[1;32m    407\u001b[0m             \u001b[0;32mif\u001b[0m \u001b[0mstate\u001b[0m \u001b[0;34m==\u001b[0m \u001b[0;34m'error'\u001b[0m\u001b[0;34m:\u001b[0m\u001b[0;34m\u001b[0m\u001b[0;34m\u001b[0m\u001b[0m\n\u001b[1;32m    408\u001b[0m                 \u001b[0mself\u001b[0m\u001b[0;34m.\u001b[0m\u001b[0mcall_obj\u001b[0m \u001b[0;34m=\u001b[0m \u001b[0;32mNone\u001b[0m\u001b[0;34m\u001b[0m\u001b[0;34m\u001b[0m\u001b[0m\n\u001b[0;32m--> 409\u001b[0;31m                 \u001b[0;32mraise\u001b[0m \u001b[0mRuntimeError\u001b[0m\u001b[0;34m(\u001b[0m\u001b[0mstatus\u001b[0m\u001b[0;34m[\u001b[0m\u001b[0;34m'error'\u001b[0m\u001b[0;34m]\u001b[0m\u001b[0;34m)\u001b[0m\u001b[0;34m\u001b[0m\u001b[0;34m\u001b[0m\u001b[0m\n\u001b[0m\u001b[1;32m    410\u001b[0m             \u001b[0;32mif\u001b[0m \u001b[0mstate\u001b[0m \u001b[0;34m==\u001b[0m \u001b[0;34m'done'\u001b[0m\u001b[0;34m:\u001b[0m\u001b[0;34m\u001b[0m\u001b[0;34m\u001b[0m\u001b[0m\n\u001b[1;32m    411\u001b[0m                 \u001b[0mself\u001b[0m\u001b[0;34m.\u001b[0m\u001b[0mcall_obj\u001b[0m \u001b[0;34m=\u001b[0m \u001b[0;32mNone\u001b[0m\u001b[0;34m\u001b[0m\u001b[0;34m\u001b[0m\u001b[0m\n",
      "\u001b[0;31mRuntimeError\u001b[0m: id_invalid_twofactor_code"
     ]
    }
   ],
   "source": [
    "import greenaddress\n",
    "try:\n",
    "    greenaddress.init({})\n",
    "except:\n",
    "    pass\n",
    "\n",
    "gdkMnemonic = 'order earth buddy render ocean produce bacon orchard congress law illness goat'\n",
    "if not greenaddress.validate_mnemonic(gdkMnemonic):\n",
    "    raise Exception(\"Invalid mnemonic.\")\n",
    "\n",
    "s = greenaddress.Session({'name': 'testnet-liquid', 'log_level': 'info'})\n",
    "\n",
    "s.login_user({}, {'mnemonic': gdkMnemonic}).resolve()\n",
    "\n",
    "tx = {\n",
    "    'subaccount': 0,\n",
    "    'addressees': [{'satoshi': 1000, 'address': 'vjTzH8FPweLHyLaa2dagCLvrdWbmEVcPib8d1Mk6p9mHM2xmEL94xDzd8W6LnCzdqkh5t59tToEk3nXy', 'asset_id':'144c654344aa716d6f3abcc1ca90e5641e4e2a7f633bc09fe3baf64585819a49'}],\n",
    "}\n",
    "\n",
    "utxo_details = {'subaccount': 0, 'num_confs': 0}\n",
    "utxos = s.get_unspent_outputs(json.dumps(utxo_details)).resolve()\n",
    "tx['utxos'] = utxos['unspent_outputs']\n",
    "txc = s.create_transaction(json.dumps(tx)).resolve()\n",
    "\n",
    "txg = s.sign_transaction(txc).resolve()\n",
    "txs = s.send_transaction(txg).resolve()\n",
    "print('Transaction sent!')\n",
    "print('txhash: {}'.format(txs[\"txhash\"]))"
   ]
  }
 ],
 "metadata": {
  "kernelspec": {
   "display_name": "Python 3 (ipykernel)",
   "language": "python",
   "name": "python3"
  },
  "language_info": {
   "codemirror_mode": {
    "name": "ipython",
    "version": 3
   },
   "file_extension": ".py",
   "mimetype": "text/x-python",
   "name": "python",
   "nbconvert_exporter": "python",
   "pygments_lexer": "ipython3",
   "version": "3.7.12"
  }
 },
 "nbformat": 4,
 "nbformat_minor": 5
}
